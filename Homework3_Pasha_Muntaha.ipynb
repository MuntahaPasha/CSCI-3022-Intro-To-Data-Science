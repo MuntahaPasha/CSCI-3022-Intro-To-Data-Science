{
 "cells": [
  {
   "cell_type": "markdown",
   "metadata": {},
   "source": [
    "<a id='top'></a>\n",
    "\n",
    "# Homework 3: Normals and More Simulation\n",
    "***\n",
    "\n",
    "**Name**: Muntaha Pasha\n",
    "\n",
    "***\n",
    "\n",
    "This assignment is due on Canvas by **MIDNIGHT on Friday October 25**. Your solutions to theoretical questions should be done in Markdown directly below the associated question.  Your solutions to computational questions should include any specified Python code and results as well as written commentary on your conclusions.  Remember that you are encouraged to discuss the problems with your classmates, but **you must write all code and solutions on your own**.\n",
    "\n",
    "**NOTES**: \n",
    "\n",
    "- Any relevant data sets should be available under the **Data** module on Canvas. To make life easier on the graders if they need to run your code, do not change the relative path names here. Instead, move the files around on your computer.\n",
    "- If you're not familiar with typesetting math directly into Markdown then by all means, do your work on paper first and then typeset it later.  Remember that there is a [reference guide](https://math.meta.stackexchange.com/questions/5020/mathjax-basic-tutorial-and-quick-reference) linked on Canvas on writing math in Markdown. **All** of your written commentary, justifications and mathematical work should be in Markdown.\n",
    "- Because you can technically evaluate notebook cells is a non-linear order, it's a good idea to do Kernel $\\rightarrow$ Restart & Run All as a check before submitting your solutions.  That way if we need to run your code you will know that it will work as expected. \n",
    "- It is **bad form** to make your reader interpret numerical output from your code.  If a question asks you to compute some value from the data you should show your code output **AND** write a summary of the results in Markdown directly below your code. \n",
    "- This probably goes without saying, but... For any question that asks you to calculate something, you **must show all work and justify your answers to receive credit**. Sparse or nonexistent work will receive sparse or nonexistent credit. \n",
    "\n",
    "---\n",
    "**Shortcuts:**  [Problem 1](#p1) | [Problem 2](#p2) | [Problem 3](#p3) | [Problem 4](#p4) | \n",
    "\n",
    "---"
   ]
  },
  {
   "cell_type": "code",
   "execution_count": 25,
   "metadata": {},
   "outputs": [],
   "source": [
    "import pandas as pd\n",
    "import numpy as np\n",
    "import math\n",
    "import random\n",
    "from scipy import stats\n",
    "import matplotlib.pylab as plt\n",
    "%matplotlib inline"
   ]
  },
  {
   "cell_type": "markdown",
   "metadata": {},
   "source": [
    "<br>\n",
    "\n",
    "---\n",
    "<a id='p1'></a>\n",
    "[Back to top](#top)\n",
    "\n",
    "<img src=\"https://media.daysoftheyear.com/20171223112636/hedgehog-day1.jpg\" style=\"width: 500px;\"/>\n",
    "\n",
    "\n",
    "### [25 points] Problem 1\n",
    "\n",
    "Suppose you are modeling the probability of observing various levels of cuteness in hedgehogs you encounter.  Let $X$ be a random variable representing the observed cuteness, which is *obviously* nonnegative and has units of deci*awws*. You decide to use the following pdf for $X$:\n",
    "\n",
    "$$\n",
    "f(x) = \\begin{cases}\n",
    "         c \\ x \\ e^{\\left(-\\frac{x^2}{6}\\right)} & 0 \\leq x < \\infty \\\\\n",
    "         0                           & \\text{otherwise}\n",
    "       \\end{cases}\n",
    "$$\n",
    "where $c$ is some normalizing constant.\n",
    "\n",
    "**Part A**: Determine the value of $c$ such that $f(x)$ is a valid probability density function. Then, make a plot of the probability density function for hedgehog cuteness, $f(x)$. Be sure to label your plot and axes!"
   ]
  },
  {
   "cell_type": "markdown",
   "metadata": {},
   "source": [
    "**SOURCES USED**\n",
    "\n",
    "1 - (linspace in Python) https://pythonspot.com/matplotlib-scatterplot/"
   ]
  },
  {
   "cell_type": "markdown",
   "metadata": {},
   "source": [
    "**Part A (Solution):** \n",
    "\n",
    "We know we need to pick some $c$ so that our function $f(x)$ integrates to 1.\n",
    "\n",
    "What we can do is take the integral of $f(x)$ from $0$ to $\\infty$.\n",
    "\n",
    "$$\\int_0^\\infty c x e^{(\\frac{-x^2}{6})} = 1$$\n",
    "\n",
    "Then we can use a u-substitution, where $u=x^2$, and $du=2xdx$\n",
    "\n",
    "$$\\frac{c}{2} \\int_0^\\infty e^{(-u/6)}du$$\n",
    "\n",
    "Now, we can take the integral, and we are left with...\n",
    "\n",
    "$$-\\frac{6c}{2} e^{(-u/6)} \\bigg|_0^\\infty$$\n",
    "\n",
    "Plug in $\\infty$ and $0$ to the equation.\n",
    "\n",
    "$$-3c \\cdot (e^{-\\infty/6}-e^{0/6})$$\n",
    "\n",
    "Solve, and then we get...\n",
    "\n",
    "$$-3c \\cdot (0-1) = 3c = 1$$\n",
    "\n",
    "So we know that c is...\n",
    "\n",
    "$$c = \\frac{1}{3} \\checkmark$$"
   ]
  },
  {
   "cell_type": "code",
   "execution_count": 26,
   "metadata": {},
   "outputs": [
    {
     "data": {
      "image/png": "[encoded data removed]",
      "text/plain": [
       "<Figure size 432x288 with 1 Axes>"
      ]
     },
     "metadata": {
      "needs_background": "light"
     },
     "output_type": "display_data"
    }
   ],
   "source": [
    "#First we are going to write a function to simulate this.\n",
    "def function(varX):\n",
    "    #With the variable passed in, feed it through the function.\n",
    "    #The 1/3 in front is what we solved for above.\n",
    "    x=(1/3)*varX*(np.exp(-(varX**2)/6))\n",
    "    #Then return our variable.\n",
    "    return x\n",
    "#Now we can use linspace to specify we want 100 samples of them from 0 to 12 (x-axis)\n",
    "m = np.linspace(0,12,100)\n",
    "#Then we plot!\n",
    "plt.plot(m, function(m), color=\"magenta\")\n",
    "plt.title(\"Probability Density Function (PDF) for Hedgehog Cuteness\")\n",
    "plt.xlabel(\"Hedgehog Cuteness (deciawws)\")\n",
    "plt.ylabel(\"Density\");"
   ]
  },
  {
   "cell_type": "markdown",
   "metadata": {},
   "source": [
    "**Part B**: Compute *by hand* the cumulative density (cdf) function $F(x)$ for $X$."
   ]
  },
  {
   "cell_type": "markdown",
   "metadata": {},
   "source": [
    "Now, we will start our integration at $0$, and go to $x$.\n",
    "\n",
    "We will have $F(x)$ look like the following.\n",
    "\n",
    "$$F(x) = \\int_0^x f(y) \\cdot dy$$\n",
    "\n",
    "We will take our function from Part A, and input it in for $f(y)$.\n",
    "\n",
    "$$\\int_0^x \\frac{1}{3} y e^{(-y^2/6)} dy$$\n",
    "\n",
    "Now we can use our u-substitution again and set $u = y^2$, and $du = 2ydy$. Using this, our integral becomes...\n",
    "\n",
    "$$\\int_0^{x^2} \\frac{1}{6} e^{(-u/6)} du$$\n",
    "\n",
    "We take the constants out, solve our integral, and get the following.\n",
    "\n",
    "$$-(\\frac{6}{6}) \\cdot e^{(-u/6)} \\bigg|_0^{x^2}$$\n",
    "\n",
    "Which becomes...\n",
    "\n",
    "$$-1 \\cdot (e^{(-x^2/6)} - e^0)$$\n",
    "\n",
    "So the final answer is then...\n",
    "\n",
    "$$F(x) = 1 - e^{(-x^2/6)} \\checkmark$$"
   ]
  },
  {
   "cell_type": "markdown",
   "metadata": {},
   "source": [
    "**Part C:**  Use the cdf you derived in **Part B** to calculate the median ($\\tilde{x}$) cuteness of all hedgehogs."
   ]
  },
  {
   "cell_type": "markdown",
   "metadata": {},
   "source": [
    "We know that the median is referring to the middle of our probability mass. So we can do the following. From Part A, and Part B, we have already solved for $F(x)$ and $c$, and we can use them to solve for $F(\\tilde{x})$. We will replace the $x$ in $F(x)$ with the new $\\tilde{x}$.\n",
    "\n",
    "$$F(\\tilde{x}) = \\frac{1}{3} = 1 - e^{(-\\tilde{x}^2/6)}$$\n",
    "\n",
    "So we can set $1 - e^{(-\\tilde{x}^2/6)}$ equal to $\\frac{1}{3}$.\n",
    "\n",
    "$$\\frac{1}{3} = e^{(-\\tilde{x}^2/6)}$$\n",
    "\n",
    "We can take the log of both sides.\n",
    "\n",
    "$$-\\log{3} = \\frac{-\\tilde{x}^2}{6}$$\n",
    "\n",
    "Multiply $6$ over to the other side.\n",
    "\n",
    "$$6 \\log{3} = \\tilde{x}^2$$\n",
    "\n",
    "Finally, take the square root of both sides to solve for $\\tilde{x}$.\n",
    "\n",
    "$$\\tilde{x} = \\sqrt{6 \\log{3}} \\approx 2.567 $$\n",
    "\n",
    "So we know that...\n",
    "\n",
    "$$\\tilde{x} \\approx 2.57 \\checkmark$$"
   ]
  },
  {
   "cell_type": "code",
   "execution_count": 27,
   "metadata": {},
   "outputs": [
    {
     "name": "stdout",
     "output_type": "stream",
     "text": [
      "The median cuteness of all hedgehogs is... 2.567425506613319\n"
     ]
    }
   ],
   "source": [
    "#We can test this and see if it actually gives us the result we got.\n",
    "res = (np.sqrt(6*(np.log(3))))\n",
    "print(\"The median cuteness of all hedgehogs is... {}\".format(res))"
   ]
  },
  {
   "cell_type": "markdown",
   "metadata": {},
   "source": [
    "**Part D**: It is a well-known fact that any hedgehog whose cuteness exceeds 3 deciawws is **totes adorbz**. Use the cdf you computed in **Part B** to find the probability that any arbitrary hedgehog that you observe is totes adorbz."
   ]
  },
  {
   "cell_type": "markdown",
   "metadata": {},
   "source": [
    "**PART D (Solution):**\n",
    "\n",
    "We know that $X$ is the variable for cuteness, so we are looking at Probability that the cuteness exceeds 3. We can write that as the following. $P(X \\geq 3)$\n",
    "\n",
    "The probability of finding $P(X \\geq 3)$ is to find $1$ minus the probability of $(X \\leq 3)$.\n",
    "\n",
    "$$P(X \\geq 3) = 1 - P(X \\leq 3)$$\n",
    "\n",
    "We can write this with the CDF we computed in Part B.\n",
    "\n",
    "$$P(X \\geq 3) = 1 - (1 - e^{(-3^2/6)})$$\n",
    "\n",
    "This leaves us with $e^{(-3/2)}$.\n",
    "\n",
    "$$e^{(-3/2)} \\approx 0.223 \\checkmark$$"
   ]
  },
  {
   "cell_type": "code",
   "execution_count": 28,
   "metadata": {},
   "outputs": [
    {
     "name": "stdout",
     "output_type": "stream",
     "text": [
      "The probability that any arbitrary hedgehog is totes adorbz is...0.22313016014842982\n"
     ]
    }
   ],
   "source": [
    "res = (np.exp(-9/6))\n",
    "print(\"The probability that any arbitrary hedgehog is totes adorbz is...{}\".format(res))"
   ]
  },
  {
   "cell_type": "markdown",
   "metadata": {},
   "source": [
    "**Part E:** You have been painstakingly collecting data on hedgehogs all over town, and the cuteness is damn near overwhelming. Suppose you sample 6 hedgehogs, and the cuteness of any given hedgehog is independent of the cuteness of all other hedgehogs. What is the probability that at least 2 but not all of them are totes adorbz?"
   ]
  },
  {
   "cell_type": "markdown",
   "metadata": {},
   "source": [
    "**PART E (Solution):**\n",
    "\n",
    "We want to find the probability at least 2, but not all are totes adorbz. We can express it like so.\n",
    "\n",
    "$$P(X\\geq 2)$$  \n",
    "\n",
    "We can then set this equal to the following, because we know $P(X \\geq 2)$ is going to be 1 minus the sum of $x$ choose $6$ times the probability we found above just now in Part D.\n",
    "\n",
    "$$1 -\\sum_{x=0}^{2}(_6^x) (0.22)^x(1-0.22)^{6-x}$$\n",
    "\n",
    "Once we solve this out, we get that...\n",
    "\n",
    "$$P(X \\geq 2) \\approx 0.875 \\checkmark$$"
   ]
  },
  {
   "cell_type": "markdown",
   "metadata": {
    "collapsed": true
   },
   "source": [
    "<br>\n",
    "\n",
    "---\n",
    "<a/ id='p2'></a>\n",
    "[Back to top](#top)\n",
    "### [25 points] Problem 2 - Monte Carlo Estimation of Definite Integrals\n",
    "\n",
    "One really cool application of random variables is using them to approximate integrals/area under a curve.  This method of approximating integrals is used frequently in computational science to approximate really difficult integrals that we never want to do by hand.  In this exercise you'll figure out how we can do this in practice and test your method on a relatively simple integral. "
   ]
  },
  {
   "cell_type": "markdown",
   "metadata": {
    "collapsed": true
   },
   "source": [
    "**Part A.**  Let $X$ be a random variable representing how delicious a pie you bake is, as measured by the **Deliciousness Index** (DI).  Suppose the probability density function for $X$ is described by the raised cosine probability density function:\n",
    "\n",
    "$$\n",
    "f(x) = \\begin{cases}\n",
    "         \\dfrac{1}{\\pi}\\left(\\cos{(x)} + 1\\right) & 0 \\leq x \\leq \\pi \\\\\n",
    "         0                           & \\text{otherwise}\n",
    "         \\end{cases}\n",
    "$$\n",
    "\n",
    "A Deliciousness Index of $\\pi$ is the most delicious pie you can ever hope to create, and a DI of $0$ is the most disgusting pie you have ever tasted.  \n",
    "\n",
    "Compute **by hand**, the integral of $f(x)$ for $0 \\leq x \\leq \\dfrac{\\pi}{2}$.  Write a sentence or two to interpret your result physically, in the context of this problem set-up."
   ]
  },
  {
   "cell_type": "markdown",
   "metadata": {
    "collapsed": true
   },
   "source": [
    "**PART A (Solution):**\n",
    "\n",
    "We need to integrate from $0$ to $\\frac{\\pi}{2}$.\n",
    "\n",
    "$$\\int_0^{\\pi/2} \\dfrac{1}{\\pi}\\cdot(\\cos(x)+1)\\cdot dx$$\n",
    "\n",
    "The integral of $(\\cos(x)+1)$ is just $(\\sin(x)+x)$. So we are left with the following after simplifying the integral.\n",
    "\n",
    "$$\\dfrac{1}{\\pi}(\\sin(x) + x)\\bigg|_0^{\\frac{\\pi}{2}}$$\n",
    "\n",
    "We can now evaluate it with $0$ and $\\frac{\\pi}{2}$.\n",
    "\n",
    "$$\\frac{1}{\\pi} \\cdot ( \\sin(\\frac{\\pi}{2}) + \\frac{\\pi}{2}) - (\\sin(0) + 0) )$$\n",
    "\n",
    "This simplifies down to $\\frac{1}{\\pi} \\cdot (1 + \\frac{\\pi}{2})$\n",
    "\n",
    "Multiply in the $\\frac{1}{\\pi}$, and we end up with...\n",
    "\n",
    "$$\\frac{1}{\\pi} + \\frac{1}{2} \\approx 0.8183 \\checkmark$$\n",
    "\n",
    "$\\underline{\\text{Conclusions:}}$\n",
    "\n",
    "So based on this, $0.8183$ is the probability that the pie we are baking would have have a DI $\\leq \\frac{\\pi}{2}$, which means the pie is so-so and could be better!\n",
    "\n",
    "$$P(DI \\leq \\frac{\\pi}{2}) \\approx 0.8183$$"
   ]
  },
  {
   "cell_type": "markdown",
   "metadata": {},
   "source": [
    "**Part B.** Suppose we sample a random variable $X$ from $U(0,\\frac{\\pi}{2})$ and another random variable $Y$ from $U(0,1)$ and think of them as $x$- and $y$-coordinates of a point in the box $[0,\\frac{\\pi}{2}] \\times [0,1]$.  If we compute the ratio of points that fall under the curve $f(x)$ to the total points sampled, what does this value estimate? "
   ]
  },
  {
   "cell_type": "markdown",
   "metadata": {
    "collapsed": true
   },
   "source": [
    "**PART B (Solution):**\n",
    "\n",
    "The value that the ratio of points that fall under the curve $f(x)$ to the total points sampled estimates the proportion of the area in the square, or box formed under the curve of $f(x)$."
   ]
  },
  {
   "cell_type": "markdown",
   "metadata": {},
   "source": [
    "**Part C.** How could we modify the process outlined in **Part B** so that our estimator estimates the value of the desired integral?  If you need inspiration, check out the in-class notebook on Stochastic Simulation (#4), specifically, the exercise where we estimated $\\pi$!"
   ]
  },
  {
   "cell_type": "markdown",
   "metadata": {
    "collapsed": true
   },
   "source": [
    "**PART C (Solution):**\n",
    "\n",
    "If we want the area just under the curve, but only are given a proportion of the full area, we can multiply the proportion by the total area we have, in this case $\\frac{\\pi}{2}$, to get the area under the curve."
   ]
  },
  {
   "cell_type": "markdown",
   "metadata": {},
   "source": [
    "**Part D.** Complete the function `integrate` below to compute an approximation to the definition integral $\\int_0^{\\text{ub}} f(x)dx$.  Your function should take as arguments:\n",
    "1. `num_samples` -- the number of points to sample,\n",
    "2. `ub` -- a number between $0$ and $\\pi$ that is the upper bound of the integral, and\n",
    "3. `isPlot` -- a Boolean flag for whether or not to display a plot of the results.\n",
    "\n",
    "Your function should return an approximation of the definite integral by sampling $X$ from $U(0,\\text{ub})$ and $Y$ from $U(0,1)$. For each random draw $(X,Y)$, define the random variable $Z$ that represents whether or not the sampled $Y$ value is less than $f(X)$ for the corresponding $X$ value.\n",
    "\n",
    "Your function should perform three tasks: \n",
    "\n",
    "1. return the estimate of the value of the integral,\n",
    "2. return the sample variance of the random variable $Z$ being simulated, using the np.var function, and\n",
    "3. if `isPlot` is True, plot the curve $f(x)$ as well as the location of the points $(X,Y)$, colored according to whether they fall above or below the curve. "
   ]
  },
  {
   "cell_type": "markdown",
   "metadata": {},
   "source": [
    "**SOURCES USED**\n",
    "\n",
    "1 - (Variance in Python) https://www.geeksforgeeks.org/numpy-var-in-python/\n",
    "\n",
    "2 - (Scatter Plots) https://pythonspot.com/matplotlib-scatterplot/"
   ]
  },
  {
   "cell_type": "code",
   "execution_count": 29,
   "metadata": {},
   "outputs": [],
   "source": [
    "#First I am going to define my cosine function, or f(x)\n",
    "def cos_func(x):\n",
    "    #It will simulate exactly what f(x) does. Takes 1/pi * (cos(x)+1)\n",
    "    cos_res = ((1/np.pi) * (np.cos(x)+1))\n",
    "    #Return the result of that.\n",
    "    return cos_res\n",
    "\n",
    "# GIVEN CODE - Do not change the inputs/outputs or your code will fail unit tests and auto-grading!\n",
    "def integrate(num_samples, ub, isPlot=False):\n",
    "    #Setting isPlot to False unless specified True. If True, then we will plot.\n",
    "    #-----------------------------------------\n",
    "    # your code goes here!  replace this junk:\n",
    "    #Defining my Y variable, to hold U(0, 1)\n",
    "    Y = np.random.uniform(0, 1, num_samples)\n",
    "    #Defining my X variable to hold U(0, ub)\n",
    "    X = np.random.uniform(0, ub, num_samples)\n",
    "    #Putting X through my cosine function defined above and storing it in a variable.\n",
    "    funcVal = cos_func(X)\n",
    "    #This is where we check if the sample Y value is less than our f(x) value.\n",
    "    randVar =  Y < funcVal\n",
    "    #Now sum up the random variables\n",
    "    sumRandVar = np.sum(randVar)\n",
    "    #Here we take the sum multiply by the sum of the random variables, and divide by total number of samples.\n",
    "    estimate = ub * sumRandVar / num_samples\n",
    "    #Now we calculate the variance!\n",
    "    sample_var = np.var(randVar)\n",
    "    #Is isPlot is set to True, then we wanna graph it!\n",
    "    if isPlot:\n",
    "        fig, ax = plt.subplots(nrows=1, ncols=1, figsize=(14,7)) \n",
    "        xVal = np.arange(0, np.pi, np.pi/100)\n",
    "        #Plot our functions\n",
    "        ax.plot(xVal, cos_func(xVal), color=\"black\")\n",
    "        #Make a scatter plot.\n",
    "        ax.scatter(X[Y <= funcVal], Y[Y <= funcVal], color = \"magenta\")\n",
    "        #Make another scatter plot.\n",
    "        ax.scatter(X[Y > funcVal], Y[Y > funcVal], color = \"lime\")\n",
    "        ax.set_title(\"Plot of f(x) and locations of points (X,Y)\")\n",
    "    return estimate, sample_var\n",
    "    #-----------------------------------------"
   ]
  },
  {
   "cell_type": "markdown",
   "metadata": {},
   "source": [
    "**Part E.** Write your own small unit tests!\n",
    "\n",
    "First, what should your `integrate` function output if you plug in `ub=0`? Set that as `int_0_to_0` below.\n",
    "\n",
    "Second, what should your `integrate` function output if you plug in `ub=`$\\pi$? Set that as `int_0_to_pi` below.\n",
    "\n",
    "Then, you can execute the cell below to run two sanity checks. Write out **in math** (like, a definite integral) what each of these two tests is checking and **why** that is a reasonable sanity check.\n",
    "\n",
    "If these two assertions run without fail, then things seem to be working okay. Note that the upper endpoint test is stochastic, so if it fails, try running it a few times. If it fails a lot, then things are probably going wrong."
   ]
  },
  {
   "cell_type": "code",
   "execution_count": 30,
   "metadata": {},
   "outputs": [],
   "source": [
    "#Explanation below the Cell.\n",
    "int_0_to_0  = 0 # fill this in!\n",
    "int_0_to_pi = 1 # this one too!\n",
    "\n",
    "\n",
    "#---------------------------------------\n",
    "# DO NOT EDIT THIS CELL BELOW HERE\n",
    "#---------------------------------------\n",
    "assert integrate(1000, 0, False)[0]==int_0_to_0, \"Error: lower endpoint test failing\"\n",
    "assert math.isclose(integrate(10000, np.pi, False)[0],int_0_to_pi,abs_tol=0.03), \"Error: upper endpoint test failing\""
   ]
  },
  {
   "cell_type": "markdown",
   "metadata": {
    "collapsed": true
   },
   "source": [
    "**PART E (Solution):**\n",
    "\n",
    "The first $\\text{int_0_to_0}$ is basically talking about the integral of $f(x) dx$ from $0$ to $0$, and that should be $0$. So the first one is correct $\\checkmark$.\n",
    "\n",
    "The second $\\text{int_0_to_pi}$ is talking about the integral of $f(x) dx$ from $0$ to $\\pi$, which has to be $1$, because the whole of the pdf is from $0$ to $1$ so the integration will give us $1$ because it'll be normalized $\\checkmark$."
   ]
  },
  {
   "cell_type": "markdown",
   "metadata": {},
   "source": [
    "**Part F.** Run your simulation with `isPlot=True` and `ub=`$\\frac{\\pi}{2}$ for 1,000 samples so we can see your plot. Then, run your simulation (with `isPlot=False`) with at least 10,000 samples and estimate the value of the given integral. Be sure to leave your cells evaluated for the graders! Does your estimate agree with the exact value of the integral you computed in **Part A**? "
   ]
  },
  {
   "cell_type": "markdown",
   "metadata": {},
   "source": [
    "**SOURCES USED**\n",
    "\n",
    "1 - (Error Calculation) https://sciencenotes.org/calculate-percent-error/\n"
   ]
  },
  {
   "cell_type": "code",
   "execution_count": 31,
   "metadata": {},
   "outputs": [
    {
     "name": "stdout",
     "output_type": "stream",
     "text": [
      "(0.8215264789137309, 0.249471)\n"
     ]
    },
    {
     "data": {
      "image/png": "[encoded data removed]",
      "text/plain": [
       "<Figure size 1008x504 with 1 Axes>"
      ]
     },
     "metadata": {
      "needs_background": "light"
     },
     "output_type": "display_data"
    }
   ],
   "source": [
    "firstSim = integrate(num_samples=1000, ub=(np.pi/2), isPlot=True)\n",
    "print(firstSim)"
   ]
  },
  {
   "cell_type": "code",
   "execution_count": 32,
   "metadata": {},
   "outputs": [
    {
     "name": "stdout",
     "output_type": "stream",
     "text": [
      "(0.813201258381718, 0.24968670999999995)\n",
      "Relative Error is about...-0.005132591958939242\n",
      "Which is -0.5132591958939242%\n"
     ]
    }
   ],
   "source": [
    "secondSim = output = integrate(num_samples=10000, ub=(np.pi*0.5), isPlot=False)\n",
    "print(secondSim)\n",
    "#Error Calculations\n",
    "error=((0.8141-0.8183)/0.8183)\n",
    "percentError=error*100\n",
    "print(\"Relative Error is about...{}\".format(error))\n",
    "print(\"Which is {}%\".format(percentError))"
   ]
  },
  {
   "cell_type": "markdown",
   "metadata": {},
   "source": [
    "**PART F (Solution):**\n",
    "\n",
    "The output I get when running my second simulation is very very close! I'm getting $\\approx{0.8141}$ and in my Part A I got $\\approx{0.8183}$.\n",
    "\n",
    "To calculate the relative error, we can use the following formula.\n",
    "\n",
    "$$\\text{Error} = \\frac{\\text{measured - actual}}{\\text{actual}}$$\n",
    "\n",
    "Using the value I got in my secondSim with the value I got in my Part A, I plug those in.\n",
    "\n",
    "$$\\text{Error} = \\frac{0.8141 - 0.8183}{0.8183} \\approx -0.513 \\text{%} \\checkmark$$"
   ]
  },
  {
   "cell_type": "markdown",
   "metadata": {
    "collapsed": true
   },
   "source": [
    "<br>\n",
    "\n",
    "---\n",
    "<a/ id='p3'></a>\n",
    "[Back to top](#top)\n",
    "### [25 points] Problem 3 - Mmmm... Donuts...\n",
    "\n",
    "<img src=\"http://astrokentico.s3.amazonaws.com/rojakdaily/media/1nichoras/homer%20simpson%20krispy%20kreme/main.jpg?ext=.jpg\" style=\"width:300px;\"/>\n",
    "\n",
    "You bring many donuts (or _doughnuts_, if you're into that) to work to share with your coworkers at the Boulder Nuclear Power Planet. But due to the high levels of radiation there, they must be inspected for safety. In particular, if the mean level of radiation in a sample from your batch of donuts is above [195 mSv (millisievert)](#rad), then they are deemed unsafe and you must throw the whole batch away.\n",
    "\n",
    "You know that historically donuts at the power plant have, on average, 180 mSv of radiation, with a standard deviation of 65 mSv. To test the donut radiation levels, you take the donut receipt and pick every fifth donut off it, and sample the radiation levels of those donuts. You end up sampling the radiation levels of 49 donuts out of the batch. Assume that your donuts follow the same distribution as that of the historical donuts."
   ]
  },
  {
   "cell_type": "markdown",
   "metadata": {},
   "source": [
    "**Part A.** What is the probability that a donut batch is deemed unsafe?  You should at the very least set up and justify your calculation by hand (in Markdown/Mathjax), before executing any calculations in Python."
   ]
  },
  {
   "cell_type": "markdown",
   "metadata": {},
   "source": [
    "**SOURCES USED**\n",
    "\n",
    "1 - (Understanding Central Limit Theorem) http://sphweb.bumc.bu.edu/otlt/MPH-Modules/BS/BS704_Probability/BS704_Probability12.html\n",
    "\n",
    "2 - (More on CLT) https://www.dummies.com/education/math/statistics/how-the-central-limit-theorem-is-used-in-statistics/"
   ]
  },
  {
   "cell_type": "markdown",
   "metadata": {},
   "source": [
    "**PART A (Solution):**\n",
    "\n",
    "We can let $X$ represent the random variable which stands for the radiation levels in the batch of donuts.\n",
    "\n",
    "Using the Central Limit Theorem, we have the following formula.\n",
    "\n",
    "$$\\bar{X} \\sim N(\\mu, \\frac{\\sigma^2}{n})$$\n",
    "\n",
    "Now we can fill in our variables. We know that $\\mu = 180$ mSv, $\\sigma = 65$ mSv, and $n=49$ donuts.\n",
    "\n",
    "$$\\bar{X} \\sim N(180, \\frac{65^2}{49})$$\n",
    "\n",
    "Now we can go ahead and set up our full equation.\n",
    "$$\\begin{align}\n",
    "    P(\\bar{X} > 195) &= P\\left(Z > \\dfrac{195-180}{\\frac{65}{\\sqrt{49}}}\\right) \\\\\n",
    "\\end{align}\n",
    "$$\n",
    "\n",
    "Once we solve, we get down to the following.\n",
    "\n",
    "$$P(\\bar{X} > 195) = P(Z > 1.62)$$\n",
    "\n",
    "As always, we know that we can find the probability of $Z > 1.62$ by finding $1$ minus the probability of $Z \\leq 1.62$.\n",
    "\n",
    "$$P(Z > 1.62) = 1 - P(Z \\leq 1.62) = 1 - \\Phi(1.62)$$\n",
    "\n",
    "We can find $\\Phi(1.62)$ which is $\\approx 0.9473$.\n",
    "\n",
    "$$1 - 0.9473 \\approx 0.0527 \\checkmark$$"
   ]
  },
  {
   "cell_type": "code",
   "execution_count": 33,
   "metadata": {},
   "outputs": [
    {
     "name": "stdout",
     "output_type": "stream",
     "text": [
      "The answer is...0.05311371489000205, that's close to my answer!\n",
      "---------------------------\n",
      "Another way to derive the same answer 0.05311371489000205\n"
     ]
    }
   ],
   "source": [
    "#Testing it via Code.\n",
    "denominator = (65/7)\n",
    "numeric = ((195-180)/denominator)\n",
    "cdfVal = (1 - stats.norm.cdf(numeric))\n",
    "print(\"The answer is...{}, that's close to my answer!\".format(cdfVal))\n",
    "\n",
    "print(\"---------------------------\")\n",
    "\n",
    "#Another way to test it!\n",
    "n = 49\n",
    "mu = 180\n",
    "sigma = 65\n",
    "centralLimTheorem = (1 - stats.norm.cdf((195-mu)/(sigma/np.sqrt(n))))\n",
    "print(\"Another way to derive the same answer {}\".format(centralLimTheorem))"
   ]
  },
  {
   "cell_type": "markdown",
   "metadata": {},
   "source": [
    "**Part B.** Yikes! Seems like those donuts might be dangerous, but you really do not want to throw away donuts that frequently, so you propose to store the donuts in a lead-lined donut box. But lead also is not very good for your health, so you are motivated to use the least amount of lead possible. What is the maximum mean amount of radiation $\\mu$ for our donuts to have such that the probability that we will throw donuts out due to safety concerns is at most 0.02?\n",
    "\n",
    "Calculate this **by hand**, using Python only to perform arithmetic operations and compute critical values of a standard normal random variable."
   ]
  },
  {
   "cell_type": "markdown",
   "metadata": {},
   "source": [
    "**SOURCES USED**\n",
    "\n",
    "1 - (Python ppf function) https://stackoverflow.com/questions/20626994/how-to-calculate-the-inverse-of-the-normal-cumulative-distribution-function-in-p"
   ]
  },
  {
   "cell_type": "markdown",
   "metadata": {},
   "source": [
    "**PART B (Solution):**\n",
    "\n",
    "We want to know the maximum mean amount of radiation ($\\mu$) for the donuts to have a probability of throwing our donuts out at most being $0.02$. We can express that as the following. \n",
    "\n",
    "$$P(\\bar{X} > 195) < 0.02$$\n",
    "\n",
    "The Central Limit Theorem then tells us that\n",
    "\n",
    "$$\\begin{align}\n",
    "    P\\left(Z \\leq \\dfrac{195 - 180}{\\frac{65}{\\sqrt{49}}}\\right) =0.02 \\\\\n",
    "\\end{align}\n",
    "$$\n",
    "\n",
    "And we want to find the critical value of $Z$, let's denote that at $Z_{crit}$ so that...\n",
    "\n",
    "$$\\begin{align}\n",
    "    1 - P\\left(Z \\leq \\dfrac{195 - 180}{\\frac{65}{\\sqrt{49}}}\\right) = 1 - 0.02 = 0.98 \\\\\n",
    "\\end{align}\n",
    "$$\n",
    "\n",
    "Let's use Python now to do this."
   ]
  },
  {
   "cell_type": "code",
   "execution_count": 38,
   "metadata": {},
   "outputs": [
    {
     "name": "stdout",
     "output_type": "stream",
     "text": [
      "The critical value is... 2.0537489106318225\n"
     ]
    }
   ],
   "source": [
    "Z_critical = stats.norm.ppf(0.98)\n",
    "print(\"The critical value is... {}\".format(Z_critical))"
   ]
  },
  {
   "cell_type": "markdown",
   "metadata": {},
   "source": [
    "The next part is to solve for $\\mu$.\n",
    "\n",
    "$$Z_{crit} = \\frac{195 - \\mu}{\\frac{\\sigma}{\\sqrt{49}}}$$\n",
    "\n",
    "Bring $\\mu$ to the other side.\n",
    "\n",
    "$$\\mu = 195 - Z_{crit} \\cdot \\frac{\\sigma}{\\sqrt{49}}$$\n",
    "\n",
    "We found the value of $Z_{crit}$ above, so we can plug that in and simplify our expression down.\n",
    "\n",
    "$$\\mu = 195 - 2.05375 \\cdot \\frac{65}{\\sqrt{49}}$$\n",
    "\n",
    "Solve it out, and we finally get that $\\mu$ is...\n",
    "\n",
    "$$\\mu = 175.93 \\text{mSv} \\checkmark$$"
   ]
  },
  {
   "cell_type": "code",
   "execution_count": 39,
   "metadata": {},
   "outputs": [
    {
     "name": "stdout",
     "output_type": "stream",
     "text": [
      "The result for mu is...175.92947440127594\n"
     ]
    }
   ],
   "source": [
    "mu_res = 195 - (stats.norm.ppf(0.98) * (65/7))\n",
    "print(\"The result for mu is...{}\".format(mu_res))"
   ]
  },
  {
   "cell_type": "markdown",
   "metadata": {},
   "source": [
    "**Part C.**  Your supervisor at the plant decides that serving up donuts in a lead-lined box is a bad idea. Fair enough.\n",
    "\n",
    "But she is still imposing the requirement that the probability of a batch of donuts being rejected must be less than 0.02. However, she knows a differnat bakery that might be the solution. At Johnny's Super Consistent Baked Goods Emporium all the donuts are exactly the same in size, which means they are closer to being exactly the same in radiation content (less deviation). Suppose the mean and sample size are at their original values of $\\mu = 180$ mSv and $n = 49$ mSv. What is the largest standard deviation to satisfy this requirement?\n",
    "\n",
    "Calculate this **by hand**, using Python only to perform arithmetic operations and compute critical values of a standard normal random variable."
   ]
  },
  {
   "cell_type": "markdown",
   "metadata": {},
   "source": [
    "**PART C (Solution):**\n",
    "\n",
    "Like Part B, we can look at it like this. Our $Z_{crit}$ (critical value) will be the same still, but we need to find now the standard deviation, $\\sigma$.\n",
    "\n",
    "$$Z = \\frac{195 - 180}{\\frac{\\sigma}{\\sqrt{49}}}$$\n",
    "\n",
    "Simplify.\n",
    "\n",
    "$$Z = \\frac{15}{\\frac{\\sigma}{7}}$$\n",
    "\n",
    "Get 15 onto the other side.\n",
    "\n",
    "$$15 = Z \\cdot \\frac{\\sigma}{7}$$\n",
    "\n",
    "Isolate Sigma on one side.\n",
    "\n",
    "$$\\frac{15 \\cdot 7}{Z} = \\sigma$$\n",
    "\n",
    "We know what $Z$ is from the critical value we found of it.\n",
    "\n",
    "$$\\frac{105}{2.05375} = \\sigma$$\n",
    "\n",
    "Now we can solve.\n",
    "\n",
    "$$\\sigma = 51.12 \\text{mSv}$$"
   ]
  },
  {
   "cell_type": "code",
   "execution_count": 42,
   "metadata": {},
   "outputs": [
    {
     "name": "stdout",
     "output_type": "stream",
     "text": [
      "The result is...51.126016163143056\n"
     ]
    }
   ],
   "source": [
    "findStdDev = (15*7)/(stats.norm.ppf(0.98))\n",
    "print(\"The result is...{}\".format(findStdDev))"
   ]
  },
  {
   "cell_type": "markdown",
   "metadata": {},
   "source": [
    "**Part D:** Since donuts of differant diameters absorb differant amounts of radiation it is easy to model the standard deviation of radiation content in terms of the standard deviation in donut size. Assume the function $RD$ below takes in the standard deviation in millimeters of donut diameter $(\\sigma_d)$, and gives the radiation deviation in mSv.\n",
    "\n",
    "$\\begin{align}\n",
    "    RD(\\sigma_d) = \\frac{5^{\\sigma_d} \\times 1mSv}{6mm}\n",
    "\\end{align}$\n",
    "\n",
    "Johnny's bakes according to the following $\\textit{\"mathmatically\"}$ correct donut size:\n",
    "\n",
    "<img src=\"http://www.conquermaths.com/news/images/decinfo.jpg\" style=\"width:300px;\"/>\n",
    "\n",
    "So they strive for a donut diameter of 72 - 82 mm, with less than 5mm of standard deviation. However, we're not taking their word for it. We've taken a sample of 36 donuts from Johnny's to determine if their low standard deviation satisfies our requirement of less than $0.02$ chance that we throw away our donuts. The observed standard deviation in donut size was 2.8mm. Assume that the mean radiation remains unchanged from the other donuts. Do Johnny's donuts satisfy our requirement of less than $0.02$ chance that we throw them away? "
   ]
  },
  {
   "cell_type": "markdown",
   "metadata": {},
   "source": [
    "**PART D (Solution):**\n",
    "\n",
    "What we wanna do is calculate $\\sigma$ from the $RD$ formula given above.\n",
    "\n",
    "$\\begin{align}\n",
    "    RD(\\sigma_d) = \\frac{5^{2.8} \\times 1mSv}{6mm} \\approx 15.09\n",
    "\\end{align}$\n",
    "\n",
    "From this, we get our variable $\\sigma$, which is $\\approx 15.09$. This is the radiation deviation (just like we had 65 as our radiation deviation through parts A and B). $\\mu$ is still $190 mSv$ and now our $n$ is $36$ donuts. \n",
    "\n",
    "In Part C, we did something similar, so my best guess id using thst same formula with our new numbers.\n",
    "\n",
    "$$Z = \\frac{195 - 180}{\\frac{\\sigma}{\\sqrt{36}}}$$\n",
    "\n",
    "$$15 = Z* \\frac{\\sigma}{6}$$\n",
    "\n",
    "$$\\frac{15 * 6}{Z} = \\sigma$$\n",
    "\n",
    "Using the critical value of $Z$ we found above.\n",
    "\n",
    "$$\\frac{90}{2.05375} \\approx 43.9 \\text{mSv}$$\n",
    "\n",
    "I believe Johnny's donuts do satisfy the requirement of less than $0.02$ chance that we throw them away because the $\\sigma$ value of $43.9$ that we got above is less than the sigma of $\\approx 51 \\text{mSv}$ that we got in Part C, which was sort of the threshold standard deviation in order to satisfy the requirement. Because we are below that value, I would deem it as satisfied. $\\checkmark$"
   ]
  },
  {
   "cell_type": "markdown",
   "metadata": {
    "collapsed": true
   },
   "source": [
    "**Part E.** Can you think of any potential issues with using a normal distribution to model the radiation content of our donuts?"
   ]
  },
  {
   "cell_type": "markdown",
   "metadata": {},
   "source": [
    "**SOURCES USED**\n",
    "\n",
    "1 - (Review on Normal Distribution) https://www.thoughtco.com/what-is-normal-distribution-3026707"
   ]
  },
  {
   "cell_type": "markdown",
   "metadata": {},
   "source": [
    "**PART E (Solution):**\n",
    "\n",
    "A normal distribution that has a very big standard deviation or has a smaller mean would create a probability mass over donut radiation content which would be negative, and having this negative probability mass doesn't make sense at all with the context we have. One fixer up I can think of at the top of my head is to maybe have a normal distribution that is truncated."
   ]
  },
  {
   "cell_type": "markdown",
   "metadata": {},
   "source": [
    "<br>\n",
    "\n",
    "---\n",
    "<a/ id='p4'></a>\n",
    "[Back to top](#top)\n",
    "\n",
    "##  [25 points] Problem 4 - CDF Inversion Sampling\n",
    "\n",
    "In notebook 12, we looked at one method many pieces of statistical software use to turn pseudorandom numbers coming from the $U(0,1)$ distribution into those with a normal distribution.  In this problem we examine another such method.\n",
    "\n",
    "### a) Simulating an Exponential\n",
    "#### i ) The exponential distribution has pdf $f(x)= \\lambda e^{-\\lambda x}$ for $x\\ge 0$.  Use the following markdown cell to compute by hand the cdf of the exponential."
   ]
  },
  {
   "cell_type": "markdown",
   "metadata": {},
   "source": [
    "**PART A (solution):**\n",
    "\n",
    "First, we will write out our function like so.\n",
    "\n",
    "$$F(x) = \\lambda \\cdot \\int_{0}^{x} e^{-\\lambda x}dx$$\n",
    "\n",
    "Then, we will use a U-Sub, and perform U substitution to simplify this integral. Let's let...\n",
    "\n",
    "$$u = -\\lambda x$$\n",
    "\n",
    "Now we can simplify our integral.\n",
    "\n",
    "$$F(x) =-\\frac{1}{\\lambda}\\cdot \\int _0^{-\\lambda x}e^udu$$\n",
    "\n",
    "Finally, we solve.\n",
    "\n",
    "$$F(x) = -e^{-\\lambda x}+1 \\checkmark$$"
   ]
  },
  {
   "cell_type": "markdown",
   "metadata": {},
   "source": [
    "#### ii) The cdf is a function that takes x-values (or times, in the case of the exponential) and returns probabilities as the y-values.  Specifically, it returns the probability $P(X \\leq x)$.  Find the *inverse* of this function, that takes as input probabilities and outputs times."
   ]
  },
  {
   "cell_type": "markdown",
   "metadata": {},
   "source": [
    "**PART B (Solution):**\n",
    "\n",
    "The first thing we wanna do is switch our variables $x$ and $y$ around to find the inverse.\n",
    "\n",
    "$$x = -e^{-\\lambda y}+1$$\n",
    "\n",
    "Now we can do some simplifications. Move the $1$ over to the other side. Let's take the natural log (ln) of both sides.\n",
    "\n",
    "$$\\ln (1-x)  = \\ln e^{-\\lambda y}$$\n",
    "\n",
    "Keep simplifying this down. The natural log leaves us with this.\n",
    "\n",
    "$$\\ln (1-x)  =-\\lambda y \\cdot \\ln e$$\n",
    "\n",
    "The $\\ln e$ goes away because they undo eachother. Then we are left with the following.\n",
    "\n",
    "$$\\ln (1-x)  =-\\lambda y $$\n",
    "\n",
    "Solve for $y$, we get...\n",
    "\n",
    "$$y = \\frac{\\ln(1-x)}{-\\lambda} \\checkmark$$"
   ]
  },
  {
   "cell_type": "markdown",
   "metadata": {},
   "source": [
    "\n",
    "#### iii) Simulate 1000 random $U(0,1)$ variables.  Since these are numbers in $[0,1]$, we could think of them as random *probabilities*.  Plug them into the function you found in ii), then plot a histogram of the results.  Overlay the theoretical density of the exponential.  For each of these, use $\\lambda=1/4$."
   ]
  },
  {
   "cell_type": "markdown",
   "metadata": {},
   "source": [
    "**SOURCES USED:**\n",
    "\n",
    "1 - (Natural Log) https://stackoverflow.com/questions/10593100/how-do-you-do-natural-logs-e-g-ln-with-numpy-in-python\n",
    "\n",
    "2 - (Exponentials) https://www.tutorialspoint.com/python/number_exp.htm\n",
    "\n",
    "3 - (For Loops inside of Lists) https://stackoverflow.com/questions/11479392/what-does-a-for-loop-within-a-list-do-in-python"
   ]
  },
  {
   "cell_type": "code",
   "execution_count": 13,
   "metadata": {},
   "outputs": [
    {
     "data": {
      "image/png": "[encoded data removed]",
      "text/plain": [
       "<Figure size 864x432 with 1 Axes>"
      ]
     },
     "metadata": {
      "needs_background": "light"
     },
     "output_type": "display_data"
    }
   ],
   "source": [
    "#Initialize a list to hold random variables.\n",
    "randList=[]\n",
    "#Create 1000 elements in that list of random decimals from 0 to 1.\n",
    "for i in range(1000):\n",
    "    randList.append(np.random.uniform(0,1)) #using random function.\n",
    "#Now create a list to hold the decimals that have been passed through the inverse CDF\n",
    "#function that we wrote above.\n",
    "logList=[]\n",
    "#For each element in the random list...\n",
    "for i in range(len(randList)):\n",
    "    #Append each decimal that has been passed through the function.\n",
    "    logList.append((np.log(1-randList[i]))/-0.25)\n",
    "#Now we want to overlay a theoretical exponential. Our x-axis is from 0 to 30, so we set\n",
    "#the scale from 0 to 30.\n",
    "overlay=[x for x in range(0,30)]\n",
    "#Then we run that through the function, using lambda equals to 1/4.\n",
    "result=[0.25*math.exp(-0.25*x) for x in overlay]\n",
    "#Then we plot and make our graphs!\n",
    "fig, ax = plt.subplots(figsize=(12,6))\n",
    "plt.hist(logList, density=True, color=\"grey\", edgecolor=\"black\", label=\"Random Variables passed through inverse CDF\")\n",
    "plt.plot(result, color=\"red\", label=\"Theoretical Exponential Density\")\n",
    "plt.title(\"Random Variables [0,1] passed through inverse CDF vs. Theoretical Density of Exponential\")\n",
    "plt.ylabel(\"Density\")\n",
    "plt.xlabel(\"Random Variables\")\n",
    "ax.legend();"
   ]
  },
  {
   "cell_type": "markdown",
   "metadata": {},
   "source": [
    "### b) Simulating a new distribution\n",
    "#### i) Consider a continuous random variable given by $f(x)=\\frac{\\sin(x)}{2}$ for $x \\in [0, \\pi]$.  Find the cdf and inverse cdf of X."
   ]
  },
  {
   "cell_type": "markdown",
   "metadata": {},
   "source": [
    "**PART B (Solution):**\n",
    "\n",
    "Let's start by taking the integral of $f(x)$.\n",
    "\n",
    "$$F(x) = \\int_{0}^{x} \\frac{sin\\left(x\\right)}{2}dx $$\n",
    "\n",
    "We can bring any of our constants out, therefore let's move the $\\frac{1}{2}$ to the outside.\n",
    "\n",
    "$$\\frac{1}{2}\\cdot \\int_{0}^{x} \\sin \\left(x\\right)dx $$\n",
    "\n",
    "Now integrate. The integral of $sin(x)$ is $-cos(x)$.\n",
    "\n",
    "$$\\frac{1}{2} \\cdot -\\cos (x)\\bigg|_0^x$$\n",
    "\n",
    "We then evaluate our function frp, $0$ to $x$, and we get...\n",
    "\n",
    "$$F(x) = \\frac{1}{2}\\left(-\\cos \\left(x\\right)+1\\right) \\checkmark$$\n",
    "\n",
    "Now, onto the inverse CDF! We will swap $x$ and $y$ like we did when we found our inverse CDF for Par A, above.\n",
    "\n",
    "$$x = -\\frac{1}{2}\\cos \\left(y\\right)+\\frac{1}{2}$$\n",
    "\n",
    "Isolate each variable on its own side, and simplify the expression down!\n",
    "\n",
    "$$ -2x = \\cos(y)-1$$\n",
    "\n",
    "Now we can solve for $y$!\n",
    "\n",
    "$$y = \\cos^{-1}(1-2x) \\checkmark$$"
   ]
  },
  {
   "cell_type": "markdown",
   "metadata": {},
   "source": [
    "\n",
    "#### ii) Simulate draws from X by simluating 1000 $U[0,1]$ random variables and plugging them into the inverse cdf you just found.  As in part a), plot a histogram of the random variables against their density function."
   ]
  },
  {
   "cell_type": "markdown",
   "metadata": {},
   "source": [
    "**SOURCES USED**\n",
    "\n",
    "1 - (Random Uniform in Python) https://docs.scipy.org/doc/numpy-1.15.0/reference/generated/numpy.random.uniform.html\n",
    "\n",
    "2 - (Stepping a decimal value) https://stackoverflow.com/questions/477486/how-to-use-a-decimal-range-step-value\n",
    "\n",
    "3 - (Python Math Functions) https://docs.python.org/2/library/math.html"
   ]
  },
  {
   "cell_type": "code",
   "execution_count": 20,
   "metadata": {},
   "outputs": [
    {
     "data": {
      "image/png": "[encoded data removed]",
      "text/plain": [
       "<Figure size 864x432 with 1 Axes>"
      ]
     },
     "metadata": {
      "needs_background": "light"
     },
     "output_type": "display_data"
    }
   ],
   "source": [
    "#Just like above, initialize a list to hold 1,000 random variables between 0 and 1.\n",
    "randList=[]\n",
    "#Now iterate over 1000 times and fill the list with random variables.\n",
    "for i in range(1000):\n",
    "    randList.append(random.uniform(0,1)) #Filling the list.\n",
    "#New list to hold the values of the first list except passed through NEW inverse CDF.\n",
    "funcList=[]\n",
    "#For each element in the random list, apply the function to it.\n",
    "for i in range(len(randList)):\n",
    "    #Use the minimum to get rid of any nan's and make it so that arccos has correct range\n",
    "    #of inputs. From between -1 to 1.\n",
    "    funcList.append(np.arccos(np.minimum(1,-2*randList[i])+1)) #Append those onto list.\n",
    "#Now we want to plot the other density function, so we take values from 0 to pi, stepping through.\n",
    "step=[x for x in np.arange(0,math.pi)]\n",
    "#The exponential then is just that list passed through the sin(x)/2, our original function.\n",
    "exp=[np.sin(x)/2 for x in step]\n",
    "#Finally, we get to plotting and plot everything out!\n",
    "fig, ax = plt.subplots(figsize=(12,6))\n",
    "plt.hist(funcList, density=True, color=\"gray\", alpha=0.3, edgecolor=\"black\", label=\"Random Variables passed through inverse CDF\")\n",
    "plt.plot(exp, color=\"green\", label=\"Density Function\")\n",
    "plt.title(\"Random Variables [0,1] passed through inverse CDF vs. Density Function\")\n",
    "plt.ylabel(\"Density\")\n",
    "plt.xlabel(\"Random Variables\")\n",
    "ax.legend();"
   ]
  },
  {
   "cell_type": "markdown",
   "metadata": {},
   "source": [
    "### c) Generalizing\n",
    "\n",
    "Describe in words how this process might work on a discrete random variable.  You may use the Bernoulli as an example, if you wish."
   ]
  },
  {
   "cell_type": "markdown",
   "metadata": {},
   "source": [
    "If we take $x$ that is continuous and has a cumulative distribution function called $f$. Then, a random variable $y=f(x)$ follows a discrete distribution over the following interval $[0,1]$. That means that the inverse transformation sample is the reverse of that process, and that for random variable $y$, we randomly choose a number $n$ that is somewhere in the range from 0 to 1. Then we know that because $f^{-1}(y)$ has the same distribution as $x$, then that means that the function $x = f^{-1}(u)$ can be looked at as the random sample from the distribution of $f$."
   ]
  },
  {
   "cell_type": "code",
   "execution_count": null,
   "metadata": {},
   "outputs": [],
   "source": []
  }
 ],
 "metadata": {
  "kernelspec": {
   "display_name": "Python 3",
   "language": "python",
   "name": "python3"
  },
  "language_info": {
   "codemirror_mode": {
    "name": "ipython",
    "version": 3
   },
   "file_extension": ".py",
   "mimetype": "text/x-python",
   "name": "python",
   "nbconvert_exporter": "python",
   "pygments_lexer": "ipython3",
   "version": "3.7.3"
  }
 },
 "nbformat": 4,
 "nbformat_minor": 2
}
