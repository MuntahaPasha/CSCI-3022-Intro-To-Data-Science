{
 "cells": [
  {
   "cell_type": "markdown",
   "metadata": {},
   "source": [
    "##### <a id='top'></a>\n",
    "\n",
    "# Homework 4: Confidence intervals and other things\n",
    "***\n",
    "\n",
    "**Name**: Muntaha Pasha\n",
    "\n",
    "***\n",
    "\n",
    "This assignment is due on Moodle by **11:59 PM on Friday November 8**. Your solutions to theoretical questions should be done in Markdown/MathJax directly below the associated question.  Your solutions to computational questions should include any specified Python code and results as well as written commentary on your conclusions.  Remember that you are encouraged to discuss the problems with your instructors and classmates, but **you must write all code and solutions on your own**.  \n",
    "\n",
    "**NOTES**: \n",
    "\n",
    "- Do **NOT** load or use any Python packages that are not available in Anaconda 3.6. \n",
    "- Some problems with code may be autograded.  If we provide a function API **do not** change it.  If we do not provide a function API then you're free to structure your code however you like. \n",
    "- Because you can technically evaluate notebook cells is a non-linear order, it's a good idea to do Cell $\\rightarrow$ Run All as a check before submitting your solutions.  That way if we need to run your code you will know that it will work as expected. \n",
    "- Submit only this Jupyter notebook to Moodle.  Do not compress it using tar, rar, zip, etc. \n",
    "- This should go without saying, but... For any question that asks you to calculate something, you **must show all work to receive credit**. Sparse or nonexistent work will receive sparse or nonexistent credit.\n",
    "\n",
    "---\n",
    "**Shortcuts:**  [Problem 1](#p1) | [Problem 2](#p2) | [Problem 3](#p3) | [Problem 4](#p4)\n",
    "\n",
    "---"
   ]
  },
  {
   "cell_type": "code",
   "execution_count": 1,
   "metadata": {
    "scrolled": true
   },
   "outputs": [],
   "source": [
    "import numpy as np\n",
    "import matplotlib.pyplot as plt\n",
    "import pandas as pd\n",
    "import scipy.stats as stats\n",
    "%matplotlib inline"
   ]
  },
  {
   "cell_type": "markdown",
   "metadata": {},
   "source": [
    "---\n",
    "\n",
    "<a id='p1'></a>\n",
    "[Back to top](#top)\n",
    "\n",
    "### [30 points] Problem 1 - Are sea-levels changing?\n",
    "\n",
    "You have been contacted by the local government of New York City, to assess whether there is statistical evidence for sea-level rise in the area. You obtain from the University of Hawaii Sea Level Center's [gigantic repository of sea-level data](https://uhslc.soest.hawaii.edu/data/?rq) the daily mean sea levels file (posted on Canvas).\n",
    "\n",
    "In this problem, you will:\n",
    "1. practice calculating confidence intervals, \n",
    "1. practice wrangling a real-life data set into a form where you can actually compute these confidence intervals, because life will rarely be so kind as to simply hand you a nicely packaged and cleaned set of data, and\n",
    "1. save NYC and the Statue of Liberty from a watery fate?"
   ]
  },
  {
   "cell_type": "code",
   "execution_count": 3,
   "metadata": {},
   "outputs": [
    {
     "data": {
      "text/html": [
       "<div>\n",
       "<style scoped>\n",
       "    .dataframe tbody tr th:only-of-type {\n",
       "        vertical-align: middle;\n",
       "    }\n",
       "\n",
       "    .dataframe tbody tr th {\n",
       "        vertical-align: top;\n",
       "    }\n",
       "\n",
       "    .dataframe thead th {\n",
       "        text-align: right;\n",
       "    }\n",
       "</style>\n",
       "<table border=\"1\" class=\"dataframe\">\n",
       "  <thead>\n",
       "    <tr style=\"text-align: right;\">\n",
       "      <th></th>\n",
       "      <th>Year</th>\n",
       "      <th>Month</th>\n",
       "      <th>Day</th>\n",
       "      <th>SL</th>\n",
       "    </tr>\n",
       "  </thead>\n",
       "  <tbody>\n",
       "    <tr>\n",
       "      <th>0</th>\n",
       "      <td>1920</td>\n",
       "      <td>6</td>\n",
       "      <td>2</td>\n",
       "      <td>1593</td>\n",
       "    </tr>\n",
       "    <tr>\n",
       "      <th>1</th>\n",
       "      <td>1920</td>\n",
       "      <td>6</td>\n",
       "      <td>3</td>\n",
       "      <td>1605</td>\n",
       "    </tr>\n",
       "    <tr>\n",
       "      <th>2</th>\n",
       "      <td>1920</td>\n",
       "      <td>6</td>\n",
       "      <td>4</td>\n",
       "      <td>1617</td>\n",
       "    </tr>\n",
       "    <tr>\n",
       "      <th>3</th>\n",
       "      <td>1920</td>\n",
       "      <td>6</td>\n",
       "      <td>5</td>\n",
       "      <td>1779</td>\n",
       "    </tr>\n",
       "    <tr>\n",
       "      <th>4</th>\n",
       "      <td>1920</td>\n",
       "      <td>6</td>\n",
       "      <td>6</td>\n",
       "      <td>1722</td>\n",
       "    </tr>\n",
       "    <tr>\n",
       "      <th>5</th>\n",
       "      <td>1920</td>\n",
       "      <td>6</td>\n",
       "      <td>7</td>\n",
       "      <td>1594</td>\n",
       "    </tr>\n",
       "    <tr>\n",
       "      <th>6</th>\n",
       "      <td>1920</td>\n",
       "      <td>6</td>\n",
       "      <td>8</td>\n",
       "      <td>1639</td>\n",
       "    </tr>\n",
       "    <tr>\n",
       "      <th>7</th>\n",
       "      <td>1920</td>\n",
       "      <td>6</td>\n",
       "      <td>9</td>\n",
       "      <td>1699</td>\n",
       "    </tr>\n",
       "    <tr>\n",
       "      <th>8</th>\n",
       "      <td>1920</td>\n",
       "      <td>6</td>\n",
       "      <td>10</td>\n",
       "      <td>1690</td>\n",
       "    </tr>\n",
       "    <tr>\n",
       "      <th>9</th>\n",
       "      <td>1920</td>\n",
       "      <td>6</td>\n",
       "      <td>11</td>\n",
       "      <td>1622</td>\n",
       "    </tr>\n",
       "    <tr>\n",
       "      <th>10</th>\n",
       "      <td>1920</td>\n",
       "      <td>6</td>\n",
       "      <td>12</td>\n",
       "      <td>1610</td>\n",
       "    </tr>\n",
       "    <tr>\n",
       "      <th>11</th>\n",
       "      <td>1920</td>\n",
       "      <td>6</td>\n",
       "      <td>13</td>\n",
       "      <td>1690</td>\n",
       "    </tr>\n",
       "    <tr>\n",
       "      <th>12</th>\n",
       "      <td>1920</td>\n",
       "      <td>6</td>\n",
       "      <td>14</td>\n",
       "      <td>1696</td>\n",
       "    </tr>\n",
       "    <tr>\n",
       "      <th>13</th>\n",
       "      <td>1920</td>\n",
       "      <td>6</td>\n",
       "      <td>15</td>\n",
       "      <td>1665</td>\n",
       "    </tr>\n",
       "    <tr>\n",
       "      <th>14</th>\n",
       "      <td>1920</td>\n",
       "      <td>6</td>\n",
       "      <td>16</td>\n",
       "      <td>1739</td>\n",
       "    </tr>\n",
       "    <tr>\n",
       "      <th>15</th>\n",
       "      <td>1920</td>\n",
       "      <td>6</td>\n",
       "      <td>17</td>\n",
       "      <td>1887</td>\n",
       "    </tr>\n",
       "    <tr>\n",
       "      <th>16</th>\n",
       "      <td>1920</td>\n",
       "      <td>6</td>\n",
       "      <td>18</td>\n",
       "      <td>1914</td>\n",
       "    </tr>\n",
       "    <tr>\n",
       "      <th>17</th>\n",
       "      <td>1920</td>\n",
       "      <td>6</td>\n",
       "      <td>19</td>\n",
       "      <td>1773</td>\n",
       "    </tr>\n",
       "    <tr>\n",
       "      <th>18</th>\n",
       "      <td>1920</td>\n",
       "      <td>6</td>\n",
       "      <td>20</td>\n",
       "      <td>1724</td>\n",
       "    </tr>\n",
       "    <tr>\n",
       "      <th>19</th>\n",
       "      <td>1920</td>\n",
       "      <td>6</td>\n",
       "      <td>21</td>\n",
       "      <td>1786</td>\n",
       "    </tr>\n",
       "    <tr>\n",
       "      <th>20</th>\n",
       "      <td>1920</td>\n",
       "      <td>6</td>\n",
       "      <td>22</td>\n",
       "      <td>1730</td>\n",
       "    </tr>\n",
       "    <tr>\n",
       "      <th>21</th>\n",
       "      <td>1920</td>\n",
       "      <td>6</td>\n",
       "      <td>23</td>\n",
       "      <td>1672</td>\n",
       "    </tr>\n",
       "    <tr>\n",
       "      <th>22</th>\n",
       "      <td>1920</td>\n",
       "      <td>6</td>\n",
       "      <td>24</td>\n",
       "      <td>1629</td>\n",
       "    </tr>\n",
       "    <tr>\n",
       "      <th>23</th>\n",
       "      <td>1920</td>\n",
       "      <td>6</td>\n",
       "      <td>25</td>\n",
       "      <td>1606</td>\n",
       "    </tr>\n",
       "    <tr>\n",
       "      <th>24</th>\n",
       "      <td>1920</td>\n",
       "      <td>6</td>\n",
       "      <td>26</td>\n",
       "      <td>1604</td>\n",
       "    </tr>\n",
       "    <tr>\n",
       "      <th>25</th>\n",
       "      <td>1920</td>\n",
       "      <td>6</td>\n",
       "      <td>27</td>\n",
       "      <td>1602</td>\n",
       "    </tr>\n",
       "    <tr>\n",
       "      <th>26</th>\n",
       "      <td>1920</td>\n",
       "      <td>6</td>\n",
       "      <td>28</td>\n",
       "      <td>1593</td>\n",
       "    </tr>\n",
       "    <tr>\n",
       "      <th>27</th>\n",
       "      <td>1920</td>\n",
       "      <td>6</td>\n",
       "      <td>29</td>\n",
       "      <td>1631</td>\n",
       "    </tr>\n",
       "    <tr>\n",
       "      <th>28</th>\n",
       "      <td>1920</td>\n",
       "      <td>6</td>\n",
       "      <td>30</td>\n",
       "      <td>1668</td>\n",
       "    </tr>\n",
       "    <tr>\n",
       "      <th>29</th>\n",
       "      <td>1920</td>\n",
       "      <td>7</td>\n",
       "      <td>1</td>\n",
       "      <td>1668</td>\n",
       "    </tr>\n",
       "    <tr>\n",
       "      <th>30</th>\n",
       "      <td>1920</td>\n",
       "      <td>7</td>\n",
       "      <td>2</td>\n",
       "      <td>1710</td>\n",
       "    </tr>\n",
       "    <tr>\n",
       "      <th>31</th>\n",
       "      <td>1920</td>\n",
       "      <td>7</td>\n",
       "      <td>3</td>\n",
       "      <td>1798</td>\n",
       "    </tr>\n",
       "    <tr>\n",
       "      <th>32</th>\n",
       "      <td>1920</td>\n",
       "      <td>7</td>\n",
       "      <td>4</td>\n",
       "      <td>1724</td>\n",
       "    </tr>\n",
       "    <tr>\n",
       "      <th>33</th>\n",
       "      <td>1920</td>\n",
       "      <td>7</td>\n",
       "      <td>5</td>\n",
       "      <td>1574</td>\n",
       "    </tr>\n",
       "    <tr>\n",
       "      <th>34</th>\n",
       "      <td>1920</td>\n",
       "      <td>7</td>\n",
       "      <td>6</td>\n",
       "      <td>1594</td>\n",
       "    </tr>\n",
       "    <tr>\n",
       "      <th>35</th>\n",
       "      <td>1920</td>\n",
       "      <td>7</td>\n",
       "      <td>7</td>\n",
       "      <td>1662</td>\n",
       "    </tr>\n",
       "    <tr>\n",
       "      <th>36</th>\n",
       "      <td>1920</td>\n",
       "      <td>7</td>\n",
       "      <td>8</td>\n",
       "      <td>1654</td>\n",
       "    </tr>\n",
       "    <tr>\n",
       "      <th>37</th>\n",
       "      <td>1920</td>\n",
       "      <td>7</td>\n",
       "      <td>9</td>\n",
       "      <td>1585</td>\n",
       "    </tr>\n",
       "    <tr>\n",
       "      <th>38</th>\n",
       "      <td>1920</td>\n",
       "      <td>7</td>\n",
       "      <td>10</td>\n",
       "      <td>1582</td>\n",
       "    </tr>\n",
       "    <tr>\n",
       "      <th>39</th>\n",
       "      <td>1920</td>\n",
       "      <td>7</td>\n",
       "      <td>11</td>\n",
       "      <td>1607</td>\n",
       "    </tr>\n",
       "    <tr>\n",
       "      <th>40</th>\n",
       "      <td>1920</td>\n",
       "      <td>7</td>\n",
       "      <td>12</td>\n",
       "      <td>1590</td>\n",
       "    </tr>\n",
       "    <tr>\n",
       "      <th>41</th>\n",
       "      <td>1920</td>\n",
       "      <td>7</td>\n",
       "      <td>13</td>\n",
       "      <td>1530</td>\n",
       "    </tr>\n",
       "    <tr>\n",
       "      <th>42</th>\n",
       "      <td>1920</td>\n",
       "      <td>7</td>\n",
       "      <td>14</td>\n",
       "      <td>1557</td>\n",
       "    </tr>\n",
       "    <tr>\n",
       "      <th>43</th>\n",
       "      <td>1920</td>\n",
       "      <td>7</td>\n",
       "      <td>15</td>\n",
       "      <td>1607</td>\n",
       "    </tr>\n",
       "    <tr>\n",
       "      <th>44</th>\n",
       "      <td>1920</td>\n",
       "      <td>7</td>\n",
       "      <td>16</td>\n",
       "      <td>1621</td>\n",
       "    </tr>\n",
       "    <tr>\n",
       "      <th>45</th>\n",
       "      <td>1920</td>\n",
       "      <td>7</td>\n",
       "      <td>17</td>\n",
       "      <td>1640</td>\n",
       "    </tr>\n",
       "    <tr>\n",
       "      <th>46</th>\n",
       "      <td>1920</td>\n",
       "      <td>7</td>\n",
       "      <td>18</td>\n",
       "      <td>1662</td>\n",
       "    </tr>\n",
       "    <tr>\n",
       "      <th>47</th>\n",
       "      <td>1920</td>\n",
       "      <td>7</td>\n",
       "      <td>19</td>\n",
       "      <td>1651</td>\n",
       "    </tr>\n",
       "    <tr>\n",
       "      <th>48</th>\n",
       "      <td>1920</td>\n",
       "      <td>7</td>\n",
       "      <td>20</td>\n",
       "      <td>1561</td>\n",
       "    </tr>\n",
       "    <tr>\n",
       "      <th>49</th>\n",
       "      <td>1920</td>\n",
       "      <td>7</td>\n",
       "      <td>21</td>\n",
       "      <td>1548</td>\n",
       "    </tr>\n",
       "  </tbody>\n",
       "</table>\n",
       "</div>"
      ],
      "text/plain": [
       "    Year  Month  Day    SL\n",
       "0   1920      6    2  1593\n",
       "1   1920      6    3  1605\n",
       "2   1920      6    4  1617\n",
       "3   1920      6    5  1779\n",
       "4   1920      6    6  1722\n",
       "5   1920      6    7  1594\n",
       "6   1920      6    8  1639\n",
       "7   1920      6    9  1699\n",
       "8   1920      6   10  1690\n",
       "9   1920      6   11  1622\n",
       "10  1920      6   12  1610\n",
       "11  1920      6   13  1690\n",
       "12  1920      6   14  1696\n",
       "13  1920      6   15  1665\n",
       "14  1920      6   16  1739\n",
       "15  1920      6   17  1887\n",
       "16  1920      6   18  1914\n",
       "17  1920      6   19  1773\n",
       "18  1920      6   20  1724\n",
       "19  1920      6   21  1786\n",
       "20  1920      6   22  1730\n",
       "21  1920      6   23  1672\n",
       "22  1920      6   24  1629\n",
       "23  1920      6   25  1606\n",
       "24  1920      6   26  1604\n",
       "25  1920      6   27  1602\n",
       "26  1920      6   28  1593\n",
       "27  1920      6   29  1631\n",
       "28  1920      6   30  1668\n",
       "29  1920      7    1  1668\n",
       "30  1920      7    2  1710\n",
       "31  1920      7    3  1798\n",
       "32  1920      7    4  1724\n",
       "33  1920      7    5  1574\n",
       "34  1920      7    6  1594\n",
       "35  1920      7    7  1662\n",
       "36  1920      7    8  1654\n",
       "37  1920      7    9  1585\n",
       "38  1920      7   10  1582\n",
       "39  1920      7   11  1607\n",
       "40  1920      7   12  1590\n",
       "41  1920      7   13  1530\n",
       "42  1920      7   14  1557\n",
       "43  1920      7   15  1607\n",
       "44  1920      7   16  1621\n",
       "45  1920      7   17  1640\n",
       "46  1920      7   18  1662\n",
       "47  1920      7   19  1651\n",
       "48  1920      7   20  1561\n",
       "49  1920      7   21  1548"
      ]
     },
     "execution_count": 3,
     "metadata": {},
     "output_type": "execute_result"
    }
   ],
   "source": [
    "# Local and web paths to the data; pick which works for you.\n",
    "filepath = \"sealevel_newyork.csv\"\n",
    "\n",
    "dfSL = pd.read_csv(filepath, header=None)\n",
    "dfSL.rename(columns={0 : 'Year', 1 : 'Month', 2 : 'Day', 3 : 'SL'}, inplace=True)\n",
    "dfSL.head(50)"
   ]
  },
  {
   "cell_type": "markdown",
   "metadata": {},
   "source": [
    "**Part A:**  Write a function `clean_data` to:\n",
    "1. take in a single argument of a raw sea level data frame (e.g., `dfSL` above),\n",
    "2. compute the fill-value used to replace missing sea level (SL) data (**not** hard-coded!),\n",
    "3. use the Pandas `DataFrame.dropna` method to remove all missing rows of data, \n",
    "4. select only the data point on the second day of each month, and\n",
    "4. return a cleaned Pandas data frame.\n",
    "\n",
    "Use your shiny new function to clean the `dfSL` data frame and save the results in a new data frame.\n",
    "\n",
    "There is a very specific reason to sample only one daily data point per month. We will talk about it later."
   ]
  },
  {
   "cell_type": "markdown",
   "metadata": {},
   "source": [
    "**SOURCES USED:**\n",
    "\n",
    "1 - (DF Inplace Function) https://stackoverflow.com/questions/43893457/python-pandas-understanding-inplace-true\n",
    "\n",
    "2 - (Numpy NaN) https://stackoverflow.com/questions/41342609/the-difference-between-comparison-to-np-nan-and-isnull"
   ]
  },
  {
   "cell_type": "code",
   "execution_count": 27,
   "metadata": {},
   "outputs": [
    {
     "data": {
      "text/html": [
       "<div>\n",
       "<style scoped>\n",
       "    .dataframe tbody tr th:only-of-type {\n",
       "        vertical-align: middle;\n",
       "    }\n",
       "\n",
       "    .dataframe tbody tr th {\n",
       "        vertical-align: top;\n",
       "    }\n",
       "\n",
       "    .dataframe thead th {\n",
       "        text-align: right;\n",
       "    }\n",
       "</style>\n",
       "<table border=\"1\" class=\"dataframe\">\n",
       "  <thead>\n",
       "    <tr style=\"text-align: right;\">\n",
       "      <th></th>\n",
       "      <th>Year</th>\n",
       "      <th>Month</th>\n",
       "      <th>Day</th>\n",
       "      <th>SL</th>\n",
       "    </tr>\n",
       "  </thead>\n",
       "  <tbody>\n",
       "    <tr>\n",
       "      <th>0</th>\n",
       "      <td>1920</td>\n",
       "      <td>6</td>\n",
       "      <td>2</td>\n",
       "      <td>1593.0</td>\n",
       "    </tr>\n",
       "    <tr>\n",
       "      <th>30</th>\n",
       "      <td>1920</td>\n",
       "      <td>7</td>\n",
       "      <td>2</td>\n",
       "      <td>1710.0</td>\n",
       "    </tr>\n",
       "    <tr>\n",
       "      <th>61</th>\n",
       "      <td>1920</td>\n",
       "      <td>8</td>\n",
       "      <td>2</td>\n",
       "      <td>1662.0</td>\n",
       "    </tr>\n",
       "    <tr>\n",
       "      <th>92</th>\n",
       "      <td>1920</td>\n",
       "      <td>9</td>\n",
       "      <td>2</td>\n",
       "      <td>1585.0</td>\n",
       "    </tr>\n",
       "    <tr>\n",
       "      <th>122</th>\n",
       "      <td>1920</td>\n",
       "      <td>10</td>\n",
       "      <td>2</td>\n",
       "      <td>1521.0</td>\n",
       "    </tr>\n",
       "    <tr>\n",
       "      <th>153</th>\n",
       "      <td>1920</td>\n",
       "      <td>11</td>\n",
       "      <td>2</td>\n",
       "      <td>1704.0</td>\n",
       "    </tr>\n",
       "    <tr>\n",
       "      <th>183</th>\n",
       "      <td>1920</td>\n",
       "      <td>12</td>\n",
       "      <td>2</td>\n",
       "      <td>1398.0</td>\n",
       "    </tr>\n",
       "    <tr>\n",
       "      <th>214</th>\n",
       "      <td>1921</td>\n",
       "      <td>1</td>\n",
       "      <td>2</td>\n",
       "      <td>1686.0</td>\n",
       "    </tr>\n",
       "    <tr>\n",
       "      <th>245</th>\n",
       "      <td>1921</td>\n",
       "      <td>2</td>\n",
       "      <td>2</td>\n",
       "      <td>1530.0</td>\n",
       "    </tr>\n",
       "    <tr>\n",
       "      <th>273</th>\n",
       "      <td>1921</td>\n",
       "      <td>3</td>\n",
       "      <td>2</td>\n",
       "      <td>1541.0</td>\n",
       "    </tr>\n",
       "    <tr>\n",
       "      <th>304</th>\n",
       "      <td>1921</td>\n",
       "      <td>4</td>\n",
       "      <td>2</td>\n",
       "      <td>1589.0</td>\n",
       "    </tr>\n",
       "    <tr>\n",
       "      <th>334</th>\n",
       "      <td>1921</td>\n",
       "      <td>5</td>\n",
       "      <td>2</td>\n",
       "      <td>1944.0</td>\n",
       "    </tr>\n",
       "    <tr>\n",
       "      <th>365</th>\n",
       "      <td>1921</td>\n",
       "      <td>6</td>\n",
       "      <td>2</td>\n",
       "      <td>1568.0</td>\n",
       "    </tr>\n",
       "    <tr>\n",
       "      <th>395</th>\n",
       "      <td>1921</td>\n",
       "      <td>7</td>\n",
       "      <td>2</td>\n",
       "      <td>1716.0</td>\n",
       "    </tr>\n",
       "    <tr>\n",
       "      <th>426</th>\n",
       "      <td>1921</td>\n",
       "      <td>8</td>\n",
       "      <td>2</td>\n",
       "      <td>1559.0</td>\n",
       "    </tr>\n",
       "    <tr>\n",
       "      <th>457</th>\n",
       "      <td>1921</td>\n",
       "      <td>9</td>\n",
       "      <td>2</td>\n",
       "      <td>1644.0</td>\n",
       "    </tr>\n",
       "    <tr>\n",
       "      <th>487</th>\n",
       "      <td>1921</td>\n",
       "      <td>10</td>\n",
       "      <td>2</td>\n",
       "      <td>1597.0</td>\n",
       "    </tr>\n",
       "    <tr>\n",
       "      <th>518</th>\n",
       "      <td>1921</td>\n",
       "      <td>11</td>\n",
       "      <td>2</td>\n",
       "      <td>1922.0</td>\n",
       "    </tr>\n",
       "    <tr>\n",
       "      <th>2374</th>\n",
       "      <td>1926</td>\n",
       "      <td>12</td>\n",
       "      <td>2</td>\n",
       "      <td>1361.0</td>\n",
       "    </tr>\n",
       "    <tr>\n",
       "      <th>2405</th>\n",
       "      <td>1927</td>\n",
       "      <td>1</td>\n",
       "      <td>2</td>\n",
       "      <td>1542.0</td>\n",
       "    </tr>\n",
       "    <tr>\n",
       "      <th>2436</th>\n",
       "      <td>1927</td>\n",
       "      <td>2</td>\n",
       "      <td>2</td>\n",
       "      <td>1296.0</td>\n",
       "    </tr>\n",
       "    <tr>\n",
       "      <th>2464</th>\n",
       "      <td>1927</td>\n",
       "      <td>3</td>\n",
       "      <td>2</td>\n",
       "      <td>1569.0</td>\n",
       "    </tr>\n",
       "    <tr>\n",
       "      <th>2495</th>\n",
       "      <td>1927</td>\n",
       "      <td>4</td>\n",
       "      <td>2</td>\n",
       "      <td>1722.0</td>\n",
       "    </tr>\n",
       "    <tr>\n",
       "      <th>2525</th>\n",
       "      <td>1927</td>\n",
       "      <td>5</td>\n",
       "      <td>2</td>\n",
       "      <td>1605.0</td>\n",
       "    </tr>\n",
       "    <tr>\n",
       "      <th>2556</th>\n",
       "      <td>1927</td>\n",
       "      <td>6</td>\n",
       "      <td>2</td>\n",
       "      <td>1628.0</td>\n",
       "    </tr>\n",
       "    <tr>\n",
       "      <th>2648</th>\n",
       "      <td>1927</td>\n",
       "      <td>9</td>\n",
       "      <td>2</td>\n",
       "      <td>1662.0</td>\n",
       "    </tr>\n",
       "    <tr>\n",
       "      <th>2678</th>\n",
       "      <td>1927</td>\n",
       "      <td>10</td>\n",
       "      <td>2</td>\n",
       "      <td>1529.0</td>\n",
       "    </tr>\n",
       "    <tr>\n",
       "      <th>2709</th>\n",
       "      <td>1927</td>\n",
       "      <td>11</td>\n",
       "      <td>2</td>\n",
       "      <td>1618.0</td>\n",
       "    </tr>\n",
       "    <tr>\n",
       "      <th>2739</th>\n",
       "      <td>1927</td>\n",
       "      <td>12</td>\n",
       "      <td>2</td>\n",
       "      <td>1614.0</td>\n",
       "    </tr>\n",
       "    <tr>\n",
       "      <th>2770</th>\n",
       "      <td>1928</td>\n",
       "      <td>1</td>\n",
       "      <td>2</td>\n",
       "      <td>1181.0</td>\n",
       "    </tr>\n",
       "    <tr>\n",
       "      <th>2801</th>\n",
       "      <td>1928</td>\n",
       "      <td>2</td>\n",
       "      <td>2</td>\n",
       "      <td>1236.0</td>\n",
       "    </tr>\n",
       "    <tr>\n",
       "      <th>2830</th>\n",
       "      <td>1928</td>\n",
       "      <td>3</td>\n",
       "      <td>2</td>\n",
       "      <td>1333.0</td>\n",
       "    </tr>\n",
       "    <tr>\n",
       "      <th>2861</th>\n",
       "      <td>1928</td>\n",
       "      <td>4</td>\n",
       "      <td>2</td>\n",
       "      <td>1471.0</td>\n",
       "    </tr>\n",
       "    <tr>\n",
       "      <th>2891</th>\n",
       "      <td>1928</td>\n",
       "      <td>5</td>\n",
       "      <td>2</td>\n",
       "      <td>1481.0</td>\n",
       "    </tr>\n",
       "    <tr>\n",
       "      <th>2922</th>\n",
       "      <td>1928</td>\n",
       "      <td>6</td>\n",
       "      <td>2</td>\n",
       "      <td>1543.0</td>\n",
       "    </tr>\n",
       "    <tr>\n",
       "      <th>2952</th>\n",
       "      <td>1928</td>\n",
       "      <td>7</td>\n",
       "      <td>2</td>\n",
       "      <td>1627.0</td>\n",
       "    </tr>\n",
       "    <tr>\n",
       "      <th>2983</th>\n",
       "      <td>1928</td>\n",
       "      <td>8</td>\n",
       "      <td>2</td>\n",
       "      <td>1546.0</td>\n",
       "    </tr>\n",
       "    <tr>\n",
       "      <th>3014</th>\n",
       "      <td>1928</td>\n",
       "      <td>9</td>\n",
       "      <td>2</td>\n",
       "      <td>1656.0</td>\n",
       "    </tr>\n",
       "    <tr>\n",
       "      <th>3044</th>\n",
       "      <td>1928</td>\n",
       "      <td>10</td>\n",
       "      <td>2</td>\n",
       "      <td>1728.0</td>\n",
       "    </tr>\n",
       "    <tr>\n",
       "      <th>3075</th>\n",
       "      <td>1928</td>\n",
       "      <td>11</td>\n",
       "      <td>2</td>\n",
       "      <td>1522.0</td>\n",
       "    </tr>\n",
       "    <tr>\n",
       "      <th>3105</th>\n",
       "      <td>1928</td>\n",
       "      <td>12</td>\n",
       "      <td>2</td>\n",
       "      <td>1465.0</td>\n",
       "    </tr>\n",
       "    <tr>\n",
       "      <th>3136</th>\n",
       "      <td>1929</td>\n",
       "      <td>1</td>\n",
       "      <td>2</td>\n",
       "      <td>1365.0</td>\n",
       "    </tr>\n",
       "    <tr>\n",
       "      <th>3167</th>\n",
       "      <td>1929</td>\n",
       "      <td>2</td>\n",
       "      <td>2</td>\n",
       "      <td>1388.0</td>\n",
       "    </tr>\n",
       "    <tr>\n",
       "      <th>3195</th>\n",
       "      <td>1929</td>\n",
       "      <td>3</td>\n",
       "      <td>2</td>\n",
       "      <td>1623.0</td>\n",
       "    </tr>\n",
       "    <tr>\n",
       "      <th>3226</th>\n",
       "      <td>1929</td>\n",
       "      <td>4</td>\n",
       "      <td>2</td>\n",
       "      <td>1207.0</td>\n",
       "    </tr>\n",
       "    <tr>\n",
       "      <th>3256</th>\n",
       "      <td>1929</td>\n",
       "      <td>5</td>\n",
       "      <td>2</td>\n",
       "      <td>1757.0</td>\n",
       "    </tr>\n",
       "    <tr>\n",
       "      <th>3287</th>\n",
       "      <td>1929</td>\n",
       "      <td>6</td>\n",
       "      <td>2</td>\n",
       "      <td>1636.0</td>\n",
       "    </tr>\n",
       "    <tr>\n",
       "      <th>3317</th>\n",
       "      <td>1929</td>\n",
       "      <td>7</td>\n",
       "      <td>2</td>\n",
       "      <td>1625.0</td>\n",
       "    </tr>\n",
       "    <tr>\n",
       "      <th>3348</th>\n",
       "      <td>1929</td>\n",
       "      <td>8</td>\n",
       "      <td>2</td>\n",
       "      <td>1627.0</td>\n",
       "    </tr>\n",
       "    <tr>\n",
       "      <th>3379</th>\n",
       "      <td>1929</td>\n",
       "      <td>9</td>\n",
       "      <td>2</td>\n",
       "      <td>1535.0</td>\n",
       "    </tr>\n",
       "  </tbody>\n",
       "</table>\n",
       "</div>"
      ],
      "text/plain": [
       "      Year  Month  Day      SL\n",
       "0     1920      6    2  1593.0\n",
       "30    1920      7    2  1710.0\n",
       "61    1920      8    2  1662.0\n",
       "92    1920      9    2  1585.0\n",
       "122   1920     10    2  1521.0\n",
       "153   1920     11    2  1704.0\n",
       "183   1920     12    2  1398.0\n",
       "214   1921      1    2  1686.0\n",
       "245   1921      2    2  1530.0\n",
       "273   1921      3    2  1541.0\n",
       "304   1921      4    2  1589.0\n",
       "334   1921      5    2  1944.0\n",
       "365   1921      6    2  1568.0\n",
       "395   1921      7    2  1716.0\n",
       "426   1921      8    2  1559.0\n",
       "457   1921      9    2  1644.0\n",
       "487   1921     10    2  1597.0\n",
       "518   1921     11    2  1922.0\n",
       "2374  1926     12    2  1361.0\n",
       "2405  1927      1    2  1542.0\n",
       "2436  1927      2    2  1296.0\n",
       "2464  1927      3    2  1569.0\n",
       "2495  1927      4    2  1722.0\n",
       "2525  1927      5    2  1605.0\n",
       "2556  1927      6    2  1628.0\n",
       "2648  1927      9    2  1662.0\n",
       "2678  1927     10    2  1529.0\n",
       "2709  1927     11    2  1618.0\n",
       "2739  1927     12    2  1614.0\n",
       "2770  1928      1    2  1181.0\n",
       "2801  1928      2    2  1236.0\n",
       "2830  1928      3    2  1333.0\n",
       "2861  1928      4    2  1471.0\n",
       "2891  1928      5    2  1481.0\n",
       "2922  1928      6    2  1543.0\n",
       "2952  1928      7    2  1627.0\n",
       "2983  1928      8    2  1546.0\n",
       "3014  1928      9    2  1656.0\n",
       "3044  1928     10    2  1728.0\n",
       "3075  1928     11    2  1522.0\n",
       "3105  1928     12    2  1465.0\n",
       "3136  1929      1    2  1365.0\n",
       "3167  1929      2    2  1388.0\n",
       "3195  1929      3    2  1623.0\n",
       "3226  1929      4    2  1207.0\n",
       "3256  1929      5    2  1757.0\n",
       "3287  1929      6    2  1636.0\n",
       "3317  1929      7    2  1625.0\n",
       "3348  1929      8    2  1627.0\n",
       "3379  1929      9    2  1535.0"
      ]
     },
     "execution_count": 27,
     "metadata": {},
     "output_type": "execute_result"
    }
   ],
   "source": [
    "def clean_data(df):\n",
    "    #First you wanna make a clean copy of the DataFrame so we are only modifying the copy and not the Original.\n",
    "    dfClean = df.copy()\n",
    "    #Now we want to get the values that have replaced missing sea level data\n",
    "    getVals = dfClean.loc[dfClean[\"SL\"] < -5000, \"SL\"].median()\n",
    "    dfClean.loc[dfClean[\"SL\"]==getVals, \"SL\"] = np.nan\n",
    "    #Here we want to remove all the missing rows of data using the dropna.\n",
    "    dfClean.dropna(subset=[\"SL\"], inplace=True)\n",
    "    #Get the second day.\n",
    "    secDay = dfClean.index[dfClean[\"Day\"]==2]\n",
    "    #locate and get that.\n",
    "    dfClean = dfClean.loc[secDay, :]\n",
    "    return dfClean\n",
    "\n",
    "dfClean = clean_data(dfSL)\n",
    "dfClean.head(50)"
   ]
  },
  {
   "cell_type": "code",
   "execution_count": 28,
   "metadata": {},
   "outputs": [
    {
     "data": {
      "text/plain": [
       "1003"
      ]
     },
     "execution_count": 28,
     "metadata": {},
     "output_type": "execute_result"
    }
   ],
   "source": [
    "len(dfClean)"
   ]
  },
  {
   "cell_type": "markdown",
   "metadata": {},
   "source": [
    "**Part B:**  Plot the cleaned time series of sea levels. Be sure to label your axes, including units. The UHSLC data portal includes a link to the metadata accompanying our data set; if you are not sure about units, that would be a good place to start looking. For the $x$-axis, place the $x$ tick marks on January 1 of each year that is divisible by 10 (i.e., 1920, 1930, ...), and label with that year. You may need to do additional processing in order to grab these indices. \n"
   ]
  },
  {
   "cell_type": "code",
   "execution_count": 29,
   "metadata": {},
   "outputs": [
    {
     "data": {
      "image/png": "[encoded data removed]",
      "text/plain": [
       "<Figure size 864x432 with 1 Axes>"
      ]
     },
     "metadata": {
      "needs_background": "light"
     },
     "output_type": "display_data"
    }
   ],
   "source": [
    "#First let's look at January 1st of every year that is divisible by 10 with the following line.\n",
    "tickMarks = dfClean.index[(dfClean[\"Month\"]==1) & (dfClean[\"Day\"]==1) & (dfClean[\"Year\"]%10==0)]\n",
    "#Now we can plot our graph.\n",
    "fig, ax = plt.subplots(nrows=1, ncols=1, figsize=(12,6))\n",
    "#Plot the Data Frame, and use the color green to plot it.\n",
    "dfClean[\"SL\"].plot(color=\"navy\")\n",
    "ax.set_xticks(tickMarks)\n",
    "ax.set_xticklabels(dfClean.loc[tickMarks, \"Year\"])\n",
    "ax.set_xlabel('Year')\n",
    "ax.set_ylabel('Sea level (mm)')\n",
    "ax.set_title('Sea Level');"
   ]
  },
  {
   "cell_type": "markdown",
   "metadata": {},
   "source": [
    "**Part C:** Use your cleaned sea levels data frame to create two new Pandas data frames or series:\n",
    "1. one object to contain the sea levels between (and including) the years 1986 and 1995, and\n",
    "2. another object to contain the sea levels between (and including) the years 2006 and 2015.\n",
    "\n",
    "Then, create a single-panel figure that includes density histograms of each of the two decades of sea levels. Be sure to label everything appropriately.\n",
    "\n",
    "Finally, based on the data in front of you, formulate and state a hypothesis about how the mean sea level in the decade 2006-2015 compares to the mean sea level in the decade 1986-1995."
   ]
  },
  {
   "cell_type": "code",
   "execution_count": 30,
   "metadata": {},
   "outputs": [
    {
     "data": {
      "image/png": "[encoded data removed]",
      "text/plain": [
       "<Figure size 576x288 with 1 Axes>"
      ]
     },
     "metadata": {
      "needs_background": "light"
     },
     "output_type": "display_data"
    },
    {
     "name": "stdout",
     "output_type": "stream",
     "text": [
      "The mean for 1986-1995 is...1747.6052631578948\n",
      "The mean for 2006-2015 is...1879.1666666666667\n"
     ]
    }
   ],
   "source": [
    "#Get the variables we need, so the starting year and the duration of the time. I'm starting from 1985 instead of 1986\n",
    "#for the comparison in my dfOld definition.\n",
    "firstStart = 1985\n",
    "lenYears = 10\n",
    "#Make a copy of the clean dataframe.\n",
    "dfOld = dfClean.copy()\n",
    "#Put the following information inside of it, and filter it based off these requirements.\n",
    "dfOld = dfOld.loc[(dfOld[\"Year\"]>firstStart) & (dfOld[\"Year\"]<=(firstStart+lenYears)), \"SL\"]\n",
    "#Now we need the variable for the starting year of the second period. Again, I'm starting from 2005 instead of 2006 \n",
    "#for the comparison I make in my df declaration.\n",
    "secStart = 2005\n",
    "#Make a copy of the clean dataframe.\n",
    "dfNew = dfClean.copy()\n",
    "#Put in the new dataframe all the information from 2006 to 2015.\n",
    "dfNew = dfNew.loc[(dfNew[\"Year\"]>secStart) & (dfNew[\"Year\"]<=(secStart+lenYears)), \"SL\"]\n",
    "#Now plot our graph.\n",
    "fig, ax = plt.subplots(nrows=1, ncols=1, figsize=(8,4))\n",
    "#Make the histograms of the older set of data and the newer set of data.\n",
    "dfOld.hist(alpha=0.5, edgecolor=\"black\", density=True, color=\"green\", label = \"1986-1995\")\n",
    "dfNew.hist(alpha=0.5, edgecolor=\"black\", density=True, color = \"cyan\", label = \"2006-2015\")\n",
    "#Set axis labels.\n",
    "ax.set_xlabel('Sea level (mm)')\n",
    "ax.set_ylabel('Density')\n",
    "ax.set_title(\"Sea Level over 2 different time periods\")\n",
    "#Set the color amount, make it slightly more transparent.\n",
    "ax.grid(alpha=0.25)\n",
    "ax.set_axisbelow(True)\n",
    "plt.legend()\n",
    "plt.show()\n",
    "#Calculate the mean for each dataframes and output them below the chart for comparison.\n",
    "print(\"The mean for 1986-1995 is...{}\".format(dfOld.mean()))\n",
    "print(\"The mean for 2006-2015 is...{}\".format(dfNew.mean()))"
   ]
  },
  {
   "cell_type": "markdown",
   "metadata": {},
   "source": [
    "**PART C (Solution):**\n",
    "\n",
    "The mean sea level for 2006-2015 is higher than the previous sea level mean from 1986-1995. This shows that the mean sea-level is indeed increasing. $\\checkmark$"
   ]
  },
  {
   "cell_type": "markdown",
   "metadata": {},
   "source": [
    "**Part D:** Compute a 99.9% confidence interval for each of (1) the mean sea level in the 1986-1995 decade ($\\mu_{1986-1995}$) and (2) the mean sea level in the 2006-2015 decade ($\\mu_{2006-2015}$).  You may use Python for arithmetic operations and executing the calculations, but the relevant steps/set-up should be displayed in Markdown/MathJax.\n",
    "\n",
    "Based on these two confidence intervals, do you think there is sufficient evidence to conclude that there is or is not a significant difference in the mean sea level between 1986-1995 and 2006-2015? Justify your answer. "
   ]
  },
  {
   "cell_type": "markdown",
   "metadata": {},
   "source": [
    "**PART D (Solution):**\n",
    "\n",
    "We can write our 99.9% confidence interval with ($\\alpha=0.001$) for our $\\mu$ as the following...\n",
    "\n",
    "$$CI_{Past} = \\bar{X}_{1986} \\pm Z_{0.001/2} \\frac{S_{1986}}{\\sqrt{n_{1986}}}$$\n",
    "\n",
    "$$CI_{Recent} = \\bar{X}_{2006} \\pm Z_{0.001/2} \\frac{S_{2006}}{\\sqrt{n_{2006}}}$$"
   ]
  },
  {
   "cell_type": "code",
   "execution_count": 8,
   "metadata": {},
   "outputs": [
    {
     "name": "stdout",
     "output_type": "stream",
     "text": [
      "3.291\n",
      "----------------\n",
      "138.857\n",
      "152.846\n",
      "----------------\n",
      "dfOld Count...76\n",
      "dfNew Count...120\n",
      "----------------\n",
      "dfOld Mean...1747.605\n",
      "dfNew Mean...1879.167\n",
      "----------------\n",
      "52.41142658405504\n",
      "45.91213818254121\n"
     ]
    }
   ],
   "source": [
    "#Getting some variables here.\n",
    "print(\"{:.3f}\".format(stats.norm.ppf(1-.001/2)))\n",
    "print(\"----------------\")\n",
    "print(\"{:.3f}\".format(np.sqrt(dfOld.var(ddof=1))))\n",
    "print(\"{:.3f}\".format(np.sqrt(dfNew.var(ddof=1))))\n",
    "print(\"----------------\")\n",
    "print(\"dfOld Count...{}\".format(dfOld.count()))\n",
    "print(\"dfNew Count...{}\".format(dfNew.count()))\n",
    "print(\"----------------\")\n",
    "print(\"dfOld Mean...{:.3f}\".format(dfOld.mean()))\n",
    "print(\"dfNew Mean...{:.3f}\".format(dfNew.mean()))\n",
    "print(\"----------------\")\n",
    "#Printing the second part of the CI.\n",
    "print(stats.norm.ppf(1-.001/2)*dfOld.std(ddof=1)/np.sqrt(dfOld.count()))\n",
    "print(stats.norm.ppf(1-.001/2)*dfNew.std(ddof=1)/np.sqrt(dfNew.count()))"
   ]
  },
  {
   "cell_type": "markdown",
   "metadata": {},
   "source": [
    "So our 99% confidence interval for $\\mu_{1986}$ would be like so...\n",
    "\n",
    "$$CI_{Past} = 1747.605 \\pm 3.291 \\cdot \\frac{138.857}{\\sqrt{76}}$$\n",
    "\n",
    "$$CI_{Past} = 1747.605 \\pm 52.419$$\n",
    "\n",
    "$$CI_{Past} = [1695.186, 1800.024] \\checkmark$$\n",
    "\n",
    "Now our 99% confidence interval for $\\mu_{2006}$ is like...\n",
    "\n",
    "$$CI_{Past} = 1879.167 \\pm 3.291 \\cdot \\frac{152.846}{\\sqrt{120}}$$\n",
    "\n",
    "$$CI_{Past} = 1879.167 \\pm 45.918$$\n",
    "\n",
    "$$CI_{Past} = [1833.249, 1925.085] \\checkmark$$"
   ]
  },
  {
   "cell_type": "code",
   "execution_count": 9,
   "metadata": {},
   "outputs": [
    {
     "name": "stdout",
     "output_type": "stream",
     "text": [
      "The 1986-1995 Confidence interval is...[1695.19, 1800.02]\n",
      "The 2006-2015 Confidence interval is...[1833.25, 1925.08]\n"
     ]
    }
   ],
   "source": [
    "#Alpha variable\n",
    "alpha = 0.001\n",
    "#Critical value (z)\n",
    "z_crit = stats.norm.ppf(1-alpha/2)\n",
    "#Taking the second part of the interval\n",
    "se1986 = dfOld.std(ddof=1)/np.sqrt(dfOld.count())\n",
    "#Storing average of the 1985 dataframe.\n",
    "x_barO = dfOld.mean()\n",
    "#Now takew the confidence interval by putting all of the parts together.\n",
    "conInterval_1986 = (x_barO - z_crit * se1986, x_barO + z_crit * se1986)\n",
    "#Print the confidence interval\n",
    "print(\"The 1986-1995 Confidence interval is...[{:.2f}, {:.2f}]\".format(conInterval_1986[0], conInterval_1986[1]))\n",
    "#Now doing the same thing as above for this new time interval.\n",
    "se2006 = dfNew.std(ddof=1)/np.sqrt(dfNew.count())\n",
    "#Find the mean of the recent dataframe\n",
    "x_barN = dfNew.mean()\n",
    "#Find the confidence interval for the 2006-2015\n",
    "conInterval_2006 = (x_barN - z_crit * se2006, x_barN + z_crit * se2006)\n",
    "#Print the confidence interval\n",
    "print(\"The 2006-2015 Confidence interval is...[{:.2f}, {:.2f}]\".format(conInterval_2006[0], conInterval_2006[1]))"
   ]
  },
  {
   "cell_type": "markdown",
   "metadata": {},
   "source": [
    "In Conclusion, we have good evidence to make the conclusion that there is a noticeable difference in the mean sea level between 1986-1995 versus the mean sea level between 2006-2015 given that our interval of 1985-1995 is before the interval of 2006-2015. $\\checkmark$"
   ]
  },
  {
   "cell_type": "markdown",
   "metadata": {},
   "source": [
    "**Part E:**  Compute a 99.9% confidence interval for the ***difference in mean sea level*** between the 2006-2015 and the 1986-1995 decades ($\\mu_{2006-2015} - \\mu_{1986-1995}$. Based on this, make a conclusion regarding your hypothesis from **Part C**, and compare to what your results in **Part D** implied. You may use Python for arithmetic operations and executing the calculations, but the relevant steps/set-up should be displayed in Markdown/MathJax."
   ]
  },
  {
   "cell_type": "markdown",
   "metadata": {},
   "source": [
    "**PART E (Solution):**\n",
    "\n",
    "We can find a 99.9% confidence interval for $\\mu_{2006-2015} - \\mu_{1986-1995}$ by doing the following...\n",
    "\n",
    "$$CI =\\bar{X}_{2006} - \\bar{X}_{1986} \\pm Z_{0.001/2}\\sqrt{\\frac{S^2_{2006}}{n_{2006}}+ \\frac{S^2_{1986}}{n_{1986}}}$$\n",
    "\n",
    "We will have two $\\bar{X}$'s now, and we will also have two terms now in our square root. "
   ]
  },
  {
   "cell_type": "code",
   "execution_count": 10,
   "metadata": {},
   "outputs": [
    {
     "name": "stdout",
     "output_type": "stream",
     "text": [
      "The Confidence Interval for the Difference in Means is... [61.88, 201.24]\n"
     ]
    }
   ],
   "source": [
    "seDif = np.sqrt((dfNew.var(ddof=1)/dfNew.count()) + (dfOld.var(ddof=1)/dfOld.count()))\n",
    "x_barD = dfNew.mean()-dfOld.mean()\n",
    "lowBound = x_barD - z_crit*seDif\n",
    "upBound = x_barD + z_crit*seDif\n",
    "print(\"The Confidence Interval for the Difference in Means is... [{:0.2f}, {:0.2f}]\".format(lowBound,upBound))"
   ]
  },
  {
   "cell_type": "markdown",
   "metadata": {},
   "source": [
    "Given that our 99.9% confidence interval for the difference in means doesn't cover the number 0, it means that at the 99.9% confidence level there is a significant difference in the means, statistically speaking. $\\checkmark$"
   ]
  },
  {
   "cell_type": "markdown",
   "metadata": {},
   "source": [
    "**Part F:**  The confidence intervals from **Parts D** and **E** were derived using the Central Limit Theorem.  Which assumption of the Central Limit Theorem would likely be violated if we took more than one measurement per month to form our samples, and why?"
   ]
  },
  {
   "cell_type": "markdown",
   "metadata": {},
   "source": [
    "**PART F (Solution):**\n",
    "\n",
    "There seems to be a very clear trend in our sea level data over a time period. That means the measuremements aren't going to be distributed identically to one another because this specific distribution over a function of time would likely be changing the mean."
   ]
  },
  {
   "cell_type": "markdown",
   "metadata": {},
   "source": [
    "---\n",
    "\n",
    "<a id='p2'></a>\n",
    "[Back to top](#top)\n",
    "\n",
    "### [25 points] Problem 2 - Waiting for the Bus\n",
    "\n",
    "You are waiting for the bus, and are rather impatient.\n",
    "Your friend tells you that busses arrive according to an exponential distribution with parameter $\\lambda=1/10$ (busses/min) for a *mean* waiting time of 10 minutes.  You've been waiting for a while, and want to prove their hypothesis wrong: you're thinking the wait is longer than that (one-tailed).\n",
    "\t\t\n",
    "(Note: You may use the approximation $e^3\\approx20$ when applicable on this problem.  You may do calculations in Python if you wish, but all exposition should be in markdown.)\n",
    "\n",
    "**Part A:** State the null and alternative hypotheses being tested."
   ]
  },
  {
   "cell_type": "markdown",
   "metadata": {},
   "source": [
    "**SOURCES USED:**\n",
    "\n",
    "1 - (Null Hypotheses) https://365datascience.com/null-hypothesis/"
   ]
  },
  {
   "cell_type": "markdown",
   "metadata": {},
   "source": [
    "**PART A (Solution):**\n",
    "\n",
    "We denote Null Hypothesis as $H_0$, and the Alternative Hypothesis as $H_a$. \n",
    "\n",
    "We will use a One-Tailed Test. Our Hypotheses become the following...\n",
    "\n",
    "$H_0$: The mean waiting time is less than or equal to 10 minutes. (i.e, $\\mu \\leq 10$)\n",
    "\n",
    "$H_a$: The mean waiting time is greater than 10 minutes. (i.e, $\\mu > 10$)"
   ]
  },
  {
   "cell_type": "markdown",
   "metadata": {},
   "source": [
    "**Part B:** Devise a test of the form \"reject if $X>c$\" where $c$ is how long you have to wait until the bus arrives.  Use a significance of $\\alpha= .05$.  How long do you wait before you reject the null hypothesis with a probability of type I error of 5%?"
   ]
  },
  {
   "cell_type": "code",
   "execution_count": 3,
   "metadata": {},
   "outputs": [
    {
     "name": "stdout",
     "output_type": "stream",
     "text": [
      "1.959963984540054\n"
     ]
    }
   ],
   "source": [
    "alpha = 0.05\n",
    "z_crit = stats.norm.ppf(1-alpha/2)\n",
    "print(z_crit)"
   ]
  },
  {
   "cell_type": "markdown",
   "metadata": {},
   "source": [
    "**PART B (Solution):**\n",
    "\n",
    "We want to solve for c in this problem, so we set it up like this.\n",
    "\n",
    "$$P(X > c) = 0.05$$\n",
    "\n",
    "We can then write it like so.\n",
    "\n",
    "$$P(X > c) = 1 - P(X \\leq c) = 0.05$$\n",
    "\n",
    "$$P(X > c) = 1 - P(X \\leq c)$$\n",
    "\n",
    "So we can take the integral, and solve.\n",
    "\n",
    "$$P(X > c) = 1 - \\int_0^{X=c}\\lambda e^{-\\lambda X}dx$$\n",
    "\n",
    "$$P(X > c) = 1-P(X \\leq c) = 1 - (-e^{-\\lambda c}+1)$$\n",
    "\n",
    "Solve for c.\n",
    "\n",
    "$$c = -10\\ln \\left(0.05\\right)$$\n",
    "\n",
    "$$c \\approx 29.96 \\checkmark$$"
   ]
  },
  {
   "cell_type": "markdown",
   "metadata": {},
   "source": [
    "**Part C:** What is the power of your test if the true rate is $\\lambda=1/60$?  (NB: **Power** is defined as the complement of making a Type II Error: it's the rate at which you correctly reject a false null hypothesis)"
   ]
  },
  {
   "cell_type": "markdown",
   "metadata": {},
   "source": [
    "**PART C (Solution):**\n",
    "\n",
    "We want to find the power, so we can set it up like this...\n",
    "\n",
    "$$P(X>30) = 1 - P(X\\leq 30)$$\n",
    "\n",
    "$$P(X>30) = 1 - \\int_0^{30}\\frac{1}{60} e^{-\\frac{1}{60} x} \\cdot dx$$\n",
    "\n",
    "Solve.\n",
    "\n",
    "$$P(X>30) = \\frac{1}{\\sqrt{e}} \\approx 0.607 \\checkmark$$"
   ]
  },
  {
   "cell_type": "markdown",
   "metadata": {},
   "source": [
    "**Part D:** It turns out neither the null nor alternative are correct!  The *true* distribution of busses was a continuous uniform distribution with pdf\n",
    "$$f(x)=\\begin{cases}\n",
    "\t\t\\frac{1}{60} & 0<x<60 \\, min\\\\\n",
    "\t\t0 & else\n",
    "\t\t\\end{cases}$$\n",
    "\t\t\n",
    "What is the probability that you reject the null hypothesis?  What's different about this and how we've been discussing power/Type II error rates?"
   ]
  },
  {
   "cell_type": "markdown",
   "metadata": {},
   "source": [
    "**PART D (Solution):**\n",
    "\n",
    "The probility that we reject the null hypothesis is going to be the following.\n",
    "\n",
    "$$\\frac{c}{60} = \\frac{30}{60} = 0.5$$\n",
    "\n",
    "Because we used an incorrect distribution to do our hyphothesis test, it makes the rejection area and Type II Error Rates of Null Hypothesis be different. $\\checkmark$"
   ]
  },
  {
   "cell_type": "markdown",
   "metadata": {},
   "source": [
    "---\n",
    "\n",
    "<a id='p3'></a>\n",
    "[Back to top](#top)\n",
    "\n",
    "### [30 points] Problem 3 - Exploring Confidence Intervals \n",
    "\n",
    "The [Gumbel](https://en.wikipedia.org/wiki/Gumbel_distribution) distribution is one of several distributions frequently used to model environmental extremes (for example, extreme temperatures and sea levels).  It is also fairly asymmetric, and thus interesting for investigating confidence intervals.  It is implemented in scipy.stats as [gumbel_r](https://docs.scipy.org/doc/scipy/reference/generated/scipy.stats.gumbel_r.html), where the appendix \"\\_r\" denotes the right-skewed version of the Gumbel distribution (as opposed to the left-skewed)."
   ]
  },
  {
   "cell_type": "markdown",
   "metadata": {},
   "source": [
    "**Part A**: Complete the following code cell to plot a histogram of 100 realizations from the Gumbel distribution with parameters $\\mu=12$ and $\\beta=3$.  Be sure to leave this cell executed before turning in your assignment! Make your histogram grey with gold edges."
   ]
  },
  {
   "cell_type": "code",
   "execution_count": 11,
   "metadata": {},
   "outputs": [
    {
     "name": "stdout",
     "output_type": "stream",
     "text": [
      "The Mean is...13.695430162995866\n"
     ]
    },
    {
     "data": {
      "image/png": "[encoded data removed]",
      "text/plain": [
       "<Figure size 864x432 with 1 Axes>"
      ]
     },
     "metadata": {
      "needs_background": "light"
     },
     "output_type": "display_data"
    }
   ],
   "source": [
    "mu = 12\n",
    "beta = 3\n",
    "n_sample = 100\n",
    "x = stats.gumbel_r.rvs(loc=mu, scale=beta, size=n_sample)\n",
    "print(\"The Mean is...{}\".format(np.mean(x)))\n",
    "\n",
    "fig, ax = plt.subplots(nrows=1, ncols=1, figsize=(12,6))\n",
    "plt.hist(x, color=\"grey\",edgecolor=\"gold\", bins=20, density=True)\n",
    "ax.grid(alpha=0.25)\n",
    "ax.set_axisbelow(True)\n",
    "ax.set_xlabel('X')\n",
    "ax.set_ylabel('Density')\n",
    "ax.set_title(r'Gumbel($\\mu=${}, $\\beta=${})'.format(mu,beta))\n",
    "plt.xlim([0,35])\n",
    "plt.show()"
   ]
  },
  {
   "cell_type": "markdown",
   "metadata": {},
   "source": [
    "**Part B:** Look up the analytical mean and variance of the Gumbel distribution with parameters $\\mu=12$ and $\\beta=3$ and calculate them here by hand.  Note that the Euler–Mascheroni constant can be accessed via `np.euler_gamma`. \n",
    "\n",
    "Use the empirical mean from your sample in **Part A**, and the true variance of the Gumbel distribution to compute by hand a 99% confidence interval for the mean."
   ]
  },
  {
   "cell_type": "markdown",
   "metadata": {},
   "source": [
    "**PART B (Solution):**\n",
    "\n",
    "Given that our random variable $X \\sim Gum(\\mu=12, \\beta=3)$, then that means that our variance and the theoretical mean can be found with the following formulas.\n",
    "\n",
    "First, let's find the theoretical mean.\n",
    "\n",
    "$$\\text{E}[X] = \\mu + \\beta \\gamma = 12 + (3 \\cdot 0.5772) = 13.7316$$\n",
    "\n",
    "Now, our variance.\n",
    "\n",
    "$$\\text{Var}(X) = \\frac{1}{6} \\pi^2 \\beta^2 = \\frac{1}{6} \\pi^2 (3^2) = 14.8044$$\n",
    "\n",
    "Now we know that the mean that was given to us in Part A above was $\\bar{X} \\approx 13.695$.\n",
    "\n",
    "So for that, a 99% confidence interval would look like the following.\n",
    "\n",
    "$$\\bar{X} \\pm z_{0.01/2} \\sqrt{\\dfrac{\\textrm{Var}(X)}{n}}$$\n",
    "\n",
    "With the following variables.\n",
    "\n",
    "$\\text{Var}(X) = 14.8044$, $n=100$, and $z_{0.01/2} = \\text{stats.norm.ppf}(0.995) = 2.576$\n",
    "\n",
    "Now this gives us...\n",
    "\n",
    "$$\\text{CI} = [13.695 - (2.576\\cdot \\sqrt{\\frac{14.8044}{100}}), \\hspace{2mm} 13.695 + (2.576 \\cdot \\sqrt{\\dfrac{14.8044}{100}})]$$\n",
    "\n",
    "So, we get...\n",
    "\n",
    "$$[12.401, 14.383] \\checkmark$$"
   ]
  },
  {
   "cell_type": "code",
   "execution_count": 12,
   "metadata": {},
   "outputs": [
    {
     "name": "stdout",
     "output_type": "stream",
     "text": [
      "The Euler's Number is...0.5772156649015329\n",
      "The Emperical Mean is...13.695430162995866\n",
      "The Theoretical Mean is...13.7316469947046\n",
      "The Emperical Variance is...13.881871235729205\n",
      "The Theoretical Variance is...14.804406601634037\n"
     ]
    }
   ],
   "source": [
    "print(\"The Euler's Number is...{}\".format(np.euler_gamma))\n",
    "print(\"The Emperical Mean is...{}\".format(np.mean(x)))\n",
    "print(\"The Theoretical Mean is...{}\".format(mu + (beta*np.euler_gamma)))\n",
    "print(\"The Emperical Variance is...{}\".format(np.var(x, ddof=1)))\n",
    "print(\"The Theoretical Variance is...{}\".format((np.pi*beta)**2/6))"
   ]
  },
  {
   "cell_type": "markdown",
   "metadata": {},
   "source": [
    "**Part C:  A theoretical interlude.** When Stella O'Flaherty (the famous octopus) ran her solution code for **Part B**, she obtained a 99% confidence interval of $[12.73,  14.72]$ for the mean of the $Gum(\\mu=12, \\beta=3)$ distribution. For each of the following, explain why or why not the situation described is correct, given the technical definition of a 99% confidence interval we went over in class.\n",
    "\n",
    "**(i)** If you had no other evidence regarding true mean of the $Gum(\\mu=12, \\beta=3)$ distribution, you could say there is a 99% chance that its true mean falls between 12.73 and 14.72.\n",
    "\n",
    "**(ii)** If a class of 100 students all construct 99% confidence intervals for the mean of the $Gum(\\mu=12, \\beta=3)$ distribution, then we expect about 99 of their CIs to contain the true mean, and about 1 of them to miss the true mean.\n",
    "\n",
    "**(iii)** There is a 99% probability that any given random variable sampled from $Gum(\\mu=12, \\beta=3)$ will be between 12.73 and 14.72."
   ]
  },
  {
   "cell_type": "markdown",
   "metadata": {},
   "source": [
    "**PART C (Solution):**\n",
    "\n",
    "**(i)** $\\underline{\\text{FALSE}}$, it's claiming there's something significant about the $CI$ that we found when in reality there's nothing like that. You can't use a confidence level to gage anything about a certain interval.\n",
    "\n",
    "**(ii)** $\\underline{\\text{TRUE}}$, because a confident interval of 99% is that. If you take a handful of confidence intervals that are 99%, then the assumption is that they capture the mean 99% of the time.\n",
    "\n",
    "**(iii)** $\\underline{\\text{FALSE}}$, because confidence intervals are about sampling a mean of a distribution not a unique element from the population."
   ]
  },
  {
   "cell_type": "markdown",
   "metadata": {},
   "source": [
    "**Part D:** In this part you'll write a function to investigate the _coverage properties_ of a confidence interval for the mean of the Gumbel distribution. Complete the following function to randomly sample $m=500$ sample means with sample size $n=100$ for the Gumbel distribution with parameters $\\mu=12$ and $\\beta=3$.  For each random sample, compute the 75% confidence interval for the mean. Note that you actually know that the variance for the true population distribution is, $\\sigma^2$.  Your function should do two things: \n",
    "\n",
    "1. Report the proportion of confidence intervals that successfully cover the true mean of the distribution \n",
    "2. Make a plot of 50 randomly selected confidence intervals. Overlay the intervals on the line $y=\\textrm{True mean}$ (from **Part B**). Color confidence intervals black if they cover the true mean, and red if they don't.  \n",
    "\n",
    "Be sure to leave this cell executed before turning in your assignment!"
   ]
  },
  {
   "cell_type": "code",
   "execution_count": 61,
   "metadata": {},
   "outputs": [
    {
     "name": "stdout",
     "output_type": "stream",
     "text": [
      "Proportion of the Confidence Interval:0.7500 \n"
     ]
    },
    {
     "data": {
      "image/png": "[encoded data removed]",
      "text/plain": [
       "<Figure size 864x432 with 1 Axes>"
      ]
     },
     "metadata": {
      "needs_background": "light"
     },
     "output_type": "display_data"
    }
   ],
   "source": [
    "def confidence_intervals(m=500, n=100):\n",
    "    #Declaring all the variables here!\n",
    "    mu = 12\n",
    "    beta = 3\n",
    "    #Find the var\n",
    "    v = ((np.pi*beta)**2)/6\n",
    "    #Find the true mean.\n",
    "    eX = mu + beta * np.euler_gamma\n",
    "    #Find the standard deviation\n",
    "    sE = np.sqrt(v/n)\n",
    "    #Our Critical Value Variable\n",
    "    zCrit = stats.norm.ppf((1-(1-0.75)/2))\n",
    "    con_Interval = np.zeros((m,2))\n",
    "    num = 0\n",
    "    for i in range(m):\n",
    "        res = stats.gumbel_r.rvs(loc=mu, scale=beta, size=n)\n",
    "        x_bar = np.mean(res)\n",
    "        #Finding the minimum and max on the confidence interval.\n",
    "        conf_min = x_bar - zCrit * sE\n",
    "        conf_max = x_bar + zCrit * sE\n",
    "        #Adding it to the very first column\n",
    "        con_Interval[i,0] = conf_min\n",
    "        con_Interval[i,1] = conf_max\n",
    "        if conf_min <= eX and eX <= conf_max:\n",
    "            num += 1\n",
    "        else:\n",
    "            num += 0\n",
    "    fig, ax = plt.subplots(nrows=1, ncols=1, figsize=(12,6))\n",
    "    #Here we are goint to get a random sampling for the lower bound and the upper bound.\n",
    "    for each, row in enumerate(np.random.choice(range(m), size= 50, replace=False)):\n",
    "        #We do the comparison to check and then set a color to be on the graph based off that.\n",
    "        conf_min, conf_max = con_Interval[row,:]\n",
    "        if conf_min <= eX and eX <= conf_max:\n",
    "            color = \"Black\"\n",
    "        else:\n",
    "            color = \"Red\"\n",
    "        #Plot the values.\n",
    "        plt.plot([each+1, each+1], [conf_max, conf_min], color = color)\n",
    "    #Plot the line as a dashed line.\n",
    "    plt.plot([0,51], [eX, eX], color= \"magenta\", ls = \"--\")\n",
    "    ax.grid(alpha=0.25)\n",
    "#Output what you got.\n",
    "    print(\"Proportion of the Confidence Interval:{:0.4f} \".format(num/m))\n",
    "confidence_intervals()"
   ]
  },
  {
   "cell_type": "markdown",
   "metadata": {},
   "source": [
    "**Part E:** Does the proportion of confidence intervals that cover the true mean of the distribution agree with the theory described in class?  Justify your conclusion. "
   ]
  },
  {
   "cell_type": "markdown",
   "metadata": {},
   "source": [
    "**PART E (Solution):**\n",
    "\n",
    "Yes! In our trials ran above, the conclusion is that for $500$ independent confidence intervals, the $75$% confidence intervals included the mean $\\approx{75}$% of the time, which is great because we know that a $75$% confidence interval should cover a true mean of our population about $75$% of the time, so in our results it hits that. $\\checkmark$"
   ]
  },
  {
   "cell_type": "markdown",
   "metadata": {},
   "source": [
    "---\n",
    "\n",
    "<a id='p4'></a>\n",
    "[Back to top](#top)\n",
    "\n",
    "### [15 points] Problem 4 - Freethrow Throwbacks\n",
    "***\n",
    "\n",
    "Keep your skills sharp by answering these straightforward questions."
   ]
  },
  {
   "cell_type": "markdown",
   "metadata": {},
   "source": [
    "**Part A**: <font color='green'>Your Michael Jordan in his prime...It's the sixth game of the 1998 NBA Finals and Byron Russel fouls you, but when you step up to take the freethrow, your transported to a CSCI 3022 classroom. Solve the following to \"make\" the freethrow:</font>\n",
    "\n",
    "You have a shuffled deck of cards. It includes the usual 52 cards and 2 Jokers. You flip over the cards one by one, without replacing them in the deck. You count how many cards you'll have to flip until you flip four of the following five cards: the six of hearts, the eight of diamonds, the king of clubs, and both of the jokers.  You repeat this many times. \n",
    "\n",
    "Simulate this process at least 25000 times. Plot a histogram with binsize=1 of the outcomes, in lightgrey with white outline. Compute the mean, median, and mode for this dataset, indicate them on the plot using a line, with linstyles of green dashed, red dotted, and black solid, respectively. Use a legend to label your histogram (of the distribution of flips), mean, median. Does this data look positively or negatively skewed? Explain below in a markdown cell, talk about the mean, median, and the shape of the histogram in your answer."
   ]
  },
  {
   "cell_type": "markdown",
   "metadata": {},
   "source": [
    "**SOURCES USED:**\n",
    "\n",
    "1 - (CumSum in Python) https://www.geeksforgeeks.org/numpy-cumsum-in-python/\n",
    "\n",
    "2 - (Shuffle) https://www.tutorialspoint.com/python/number_shuffle.htm\n",
    "\n",
    "3 - (Zeros) https://docs.scipy.org/doc/numpy/reference/generated/numpy.zeros.html\n",
    "\n",
    "4 - (Y-Lim) https://matplotlib.org/3.1.1/api/_as_gen/matplotlib.axes.Axes.get_ylim.html\n",
    "\n",
    "5 - (Ones) https://docs.scipy.org/doc/numpy/reference/generated/numpy.ones.html\n",
    "\n",
    "6 - (Z-Order) https://matplotlib.org/3.1.1/gallery/misc/zorder_demo.html\n",
    "\n",
    "7 - (Matplot Args) https://matplotlib.org/3.1.1/tutorials/introductory/pyplot.html"
   ]
  },
  {
   "cell_type": "code",
   "execution_count": 60,
   "metadata": {},
   "outputs": [
    {
     "name": "stdout",
     "output_type": "stream",
     "text": [
      "The Mean of this Data Set is... 35.59\n",
      "The Median of this Data Set is... 37.0\n",
      "The Mode of this Data Set is... 40\n"
     ]
    },
    {
     "data": {
      "text/plain": [
       "<matplotlib.legend.Legend at 0x7f557c8bd940>"
      ]
     },
     "execution_count": 60,
     "metadata": {},
     "output_type": "execute_result"
    },
    {
     "data": {
      "image/png": "[encoded data removed]",
      "text/plain": [
       "<Figure size 864x432 with 1 Axes>"
      ]
     },
     "metadata": {
      "needs_background": "light"
     },
     "output_type": "display_data"
    }
   ],
   "source": [
    "def shuffle(n_trials = 25000):\n",
    "    #Going to hold result of n_trials\n",
    "    res = np.zeros(n_trials,dtype=int)\n",
    "    #Let's create our deck and shuffle over n_trials\n",
    "    for i in range(n_trials):\n",
    "        #0 will denote a normal card\n",
    "        deckCards = np.array([0]*49+[1]*1+[2]*1+[3]*1+[4]*2)\n",
    "        #We are going to shuffle our deck.\n",
    "        np.random.shuffle(deckCards)\n",
    "        #Declare our 6 of hearts to be in the deck of cards at 1\n",
    "        six_Hearts = deckCards == 1\n",
    "        #Declare our 8 of diamonds to be in the deck of cards at 2\n",
    "        eight_Diamonds = deckCards == 2\n",
    "        #Declare our King of Clubs to be in the deck of cards at 3\n",
    "        king_Clubs = deckCards == 3\n",
    "        #Declare our Joker to be 4th.\n",
    "        jokers = deckCards ==4\n",
    "        #Use the Cumulative Sum Function\n",
    "        res[i] = np.where(np.cumsum(six_Hearts)+np.cumsum(eight_Diamonds)+np.cumsum(king_Clubs)+np.cumsum(jokers)==4)[0][0]\n",
    "    return res\n",
    "#Shuffle Function Call\n",
    "ans = shuffle()\n",
    "#Find the 3 things we wanted to know from this data set.\n",
    "print(\"The Mean of this Data Set is... {:.2f}\".format(np.mean(ans)))\n",
    "print(\"The Median of this Data Set is... {}\".format(np.median(ans)))\n",
    "print(\"The Mode of this Data Set is... {}\".format(stats.mode(x,axis=None).mode[0]))\n",
    "#Now plot!\n",
    "fig, ax = plt.subplots(nrows=1, ncols=1, figsize=(12,6))\n",
    "#Create the plot using Series\n",
    "pd.Series(ans).hist(ax=ax, color=\"lightgrey\", bins=np.arange(55), density=True, edgecolor=\"white\", label=\"Distribution\")\n",
    "#Set Transparency\n",
    "ax.grid(alpha=0.25)\n",
    "#Set grid lines below\n",
    "ax.set_axisbelow(True)\n",
    "#Y-Axis view limits\n",
    "y_lim = ax.get_ylim()\n",
    "#Plot the mean using a dashed green line.\n",
    "ax.plot(np.mean(x) * np.ones(2), y_lim, '--', color = 'green', zorder=2, lw=4, label=\"Mean\")\n",
    "#Plot the median using a dotted red line\n",
    "ax.plot(np.median(x) * np.ones(2), y_lim, ':', color = 'red', zorder=2, lw=4, label=\"Median\")\n",
    "#Plot the mode in a solid black line\n",
    "ax.plot(stats.mode(x,axis=None).mode[0] * np.ones(2), y_lim, color = 'black', zorder=2, lw=4, label=\"Mode\")\n",
    "ax.legend()"
   ]
  },
  {
   "cell_type": "markdown",
   "metadata": {},
   "source": [
    "**PART A (Solution):**\n",
    "\n",
    "The Plot above shape-wise is definitely a Bell Curve that also displays a $\\underline{\\text{Negatively Skewed Distribution}}$, with the mean, median, and mode all falling near the peak of the distribution, and a trail of values descending more towards the left than to the right. The mode seemed to be closest at the center of the peak, as it should be in a negative skew, with the mean and median to the left of it, the mean being furthest to the left of the mode. $\\checkmark$"
   ]
  },
  {
   "cell_type": "markdown",
   "metadata": {},
   "source": [
    "***\n",
    "\n",
    "**Part B**: <font color='green'> Now you're back up for another freethrow, but this time you've been transported to the third overtime of the famous [1976 NBA Finals Game Five](https://www.youtube.com/watch?v=3ZjNDvuMxzc). You line up for a freethrow, but oddly enough you're again transported back to CSCI 3022... Why does this keep happening? If you solve this problem, you make the freethrow:</font>\n",
    "\n",
    "In general, which is wider: a 95% confidence interval or a 99% confidence interval? How would you explain this to your younger sibling, who is not a statistician?"
   ]
  },
  {
   "cell_type": "markdown",
   "metadata": {},
   "source": [
    "**PART B (Solution):**\n",
    "\n",
    "A 99% confidence interval is wider, because a 99% confidence level refers to the including the true mean inside of it 99% of the time! That's why a 95% confidence level would be smaller, because that means it could be missing the mean more often than our 99% one. Think of it like filling up a water tank. The wider the tank, the more fishies it can hold! The smaller the tank, the smaller number of fishies you're gonna be able to fit. $\\checkmark$"
   ]
  },
  {
   "cell_type": "markdown",
   "metadata": {},
   "source": [
    "***\n",
    "\n",
    "**Part C**: <font color='green'>The crowd is silent... Because there is no crowd... And it's not a basketball game...  You're Will Smith and it's 1998. You've got an important decision to make: You've been offered the lead role in both a sci-fi flick and a steampunk western action comedy. If you make this \"freethrow\", Will Smith takes the sci-fi role and stars in \"The Matrix\" as Neo. If you fail to solve this question, Will Smith makes the blunder of turning down the \"Matrix\" to appear in \"Wild Wild West\" and history remains unchanged.\n",
    "</font>\n",
    "\n",
    "Let $X$ be a normally-distributed random variable. You draw from it and get these values, stored in the numpy array **smith**, below. These represent the probabilities of him taking the role in the matrix, calculated by differant \"statistical measures\". Compute a 95% confidence interval for the _variance_.\n"
   ]
  },
  {
   "cell_type": "markdown",
   "metadata": {},
   "source": [
    "**SOURCES USED:**\n",
    "\n",
    "1 - (stats.chi2.ppf) https://docs.scipy.org/doc/scipy/reference/generated/scipy.stats.chi2.html"
   ]
  },
  {
   "cell_type": "markdown",
   "metadata": {},
   "source": [
    "**PART C (Solution):**\n",
    "\n",
    "Let's use code to calculate this."
   ]
  },
  {
   "cell_type": "code",
   "execution_count": 47,
   "metadata": {},
   "outputs": [
    {
     "name": "stdout",
     "output_type": "stream",
     "text": [
      "The Confidence Interval is... [0.1410, 0.3542]\n"
     ]
    }
   ],
   "source": [
    "smith = np.array([0.67832,0.113,0.423,0.279,0.580,0.401,0.189, 0.198, 0.147, 0.103, 0.098])\n",
    "#Length of the Array\n",
    "length = len(smith)\n",
    "#Variable to hold the length-1 so I dont need to tediously write it over and over.\n",
    "m = length-1\n",
    "#Sample variance variable using ddof=1\n",
    "samVar = np.var(smith, ddof=1)\n",
    "#Alpha variable\n",
    "a = 0.05;\n",
    "#Finding the lower bound of the Conf. Interval\n",
    "lowB = np.sqrt((m)*samVar/stats.chi2.ppf(1-a/2,m))\n",
    "#Finding the Upper bound of the Conf. Interval\n",
    "upB = np.sqrt((m)*samVar/stats.chi2.ppf(a/2,m))\n",
    "#Output the Confidence Interval.\n",
    "print(\"The Confidence Interval is... [{:.4f}, {:.4f}]\".format(lowB,upB))"
   ]
  },
  {
   "cell_type": "markdown",
   "metadata": {},
   "source": [
    "\n",
    "***\n",
    "\n",
    "**Part D**: <font color='green'>Now we're back to basketball...You're Askia Booker, former CU point guard. It's the [2013 KU game](https://www.youtube.com/watch?v=-ycTB27RlEc) and your take the ball with 2.7 seconds left. To sink the three and win the game, solve the following: </font>\n",
    "\n",
    "If you're doing quality control for the average strength of carbon fiber that will be used in airplane construction, and your alternative hypothesis is that the strength of the carbon is below tolerance, and therefore unsafe, would you rather have a low Type I error rate or a low Type II error rate? Explain.\n"
   ]
  },
  {
   "cell_type": "markdown",
   "metadata": {},
   "source": [
    "**PART D (Solution):**\n",
    "\n",
    "Given that our alternative hypothesis is that the Carbon is below tolerance and unsafe, we want to be more on the rejection side, especially given we are dealing with airplane construction. It's better to be steer clear of any False Negatives and make sure nothing harmful makes it through, even if that means giving up the False Positives.\n",
    "\n",
    "So, in essence, we want a $\\underline{\\text{Low, Type II Error Rate }} \\checkmark$."
   ]
  },
  {
   "cell_type": "markdown",
   "metadata": {},
   "source": [
    "\n",
    "***\n",
    "\n",
    "**Part E**: <font color='green'>Well, we haven't stopped time traveling yet.... But now we're in the soccor world. Your a striker in the [1994 Fifa World Cup Final](https://www.youtube.com/watch?v=pLPM_JSbGvI) between Brazil and Italy. Solve this problem to make a penalaty kick during the final shootout:</font>\n",
    "\n",
    "You measure 49 suckers from baby reef octopuses and find that they are, on average, 47.2 mm wide, with a standard devaition of 29.2mm. \n",
    "\n",
    "Then you measure 65 suckers from from baby dumbo octopuses and find that they are, on average, 63.9 mm wide, with a standard deviation of 19.6 mm. \n",
    "\n",
    "Is there statistical evidence at the 0.025 significance level that the true mean of baby dumbo octopus sucker width exceeds the true mean of baby reef octopus sucker width by more than 7 mm?  Use a test of your choice."
   ]
  },
  {
   "cell_type": "markdown",
   "metadata": {},
   "source": [
    "**PART E (Solution):**\n",
    "\n",
    "Let $\\bar{x}_{d}$ represent the average for Dumbo Octopus. Let $\\bar{x}_{r}$ represent the average for Reef Octopus. Similarly, we will denote the same $d$ and $r$ subscripts for $\\mu$ and $\\sigma$.\n",
    "\n",
    "We have Two Hypotheses.\n",
    "\n",
    "$$H_0 \\text{ : } \\mu_2 - \\mu_1 = 7$$\n",
    "\n",
    "$$H_1 \\text{ : } \\mu_2 - \\mu_1 > 7$$\n",
    "\n",
    "$H_1$ is going to be our claim.\n",
    "\n",
    "The CLT states we can solve the following problem like so.\n",
    "\n",
    "$$\\bar{x}_d - \\bar{x}_r \\text{ ~ } N(\\mu_d - \\mu_r, \\frac{\\sigma^2_d}{n_1} + \\frac{\\sigma^2_r}{n_2})$$\n",
    "\n",
    "We can then simplify\n",
    "\n",
    "$$\\frac{\\bar{x}_d - \\bar{x}_r - 7}{\\sqrt{\\frac{\\sigma^2_d}{n_1} + \\frac{\\sigma^2_r}{n_2}}} \\text{ ~ } Z$$\n",
    "\n",
    "We can plug in the values now and try and compute this.\n",
    "\n",
    "$$\\frac{63.9 - 47.2 - 7}{\\sqrt{\\frac{19.6^2}{65} + \\frac{29.2^2}{49}}} \\text{ ~ } Z$$"
   ]
  },
  {
   "cell_type": "code",
   "execution_count": 3,
   "metadata": {},
   "outputs": [
    {
     "name": "stdout",
     "output_type": "stream",
     "text": [
      "z is... 2.01\n",
      "z critical is...1.960\n"
     ]
    }
   ],
   "source": [
    "#Now we can compute this.\n",
    "top = (63.9 - 47.2 - 7)\n",
    "firstTerm = (19.6**2)/65\n",
    "secondTerm = (29.2**2)/49\n",
    "denom = np.sqrt(firstTerm + secondTerm)\n",
    "z = (top/denom)\n",
    "print(\"z is... {:.2f}\".format(z))\n",
    "zCritical = stats.norm.ppf(0.975)\n",
    "print(\"z critical is...{:.3f}\".format(zCritical))"
   ]
  },
  {
   "cell_type": "markdown",
   "metadata": {},
   "source": [
    "So z $ = 2.01$, which is > than zCritical, but let's also do the p-value test."
   ]
  },
  {
   "cell_type": "code",
   "execution_count": 4,
   "metadata": {},
   "outputs": [
    {
     "name": "stdout",
     "output_type": "stream",
     "text": [
      "Our p-value is...0.022\n"
     ]
    }
   ],
   "source": [
    "p =  (1 - stats.norm.cdf(z))\n",
    "print(\"Our p-value is...{:.3f}\".format(p))"
   ]
  },
  {
   "cell_type": "markdown",
   "metadata": {},
   "source": [
    "So given that our p-value is LESS than our alpha, in other words, $p \\text{ < } 0.025$, we  reject our $H_0$, and there is now thorough evidence to support our claim! $\\checkmark$"
   ]
  },
  {
   "cell_type": "code",
   "execution_count": null,
   "metadata": {},
   "outputs": [],
   "source": []
  }
 ],
 "metadata": {
  "kernelspec": {
   "display_name": "Python 3",
   "language": "python",
   "name": "python3"
  },
  "language_info": {
   "codemirror_mode": {
    "name": "ipython",
    "version": 3
   },
   "file_extension": ".py",
   "mimetype": "text/x-python",
   "name": "python",
   "nbconvert_exporter": "python",
   "pygments_lexer": "ipython3",
   "version": "3.6.7"
  }
 },
 "nbformat": 4,
 "nbformat_minor": 2
}
