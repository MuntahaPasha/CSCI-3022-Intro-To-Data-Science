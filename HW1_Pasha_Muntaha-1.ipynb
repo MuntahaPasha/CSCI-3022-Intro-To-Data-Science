{
 "cells": [
  {
   "cell_type": "markdown",
   "metadata": {},
   "source": [
    "<a id='top'></a>\n",
    "\n",
    "# Homework 1: Data Cleaning and Exploratory Data Analysis \n",
    "***\n",
    "\n",
    "**Name**: Muntaha Pasha\n",
    "\n",
    "***\n",
    "\n",
    "This assignment is due on Canvas by **MIDNIGHT on Friday September 13**. Your solutions to theoretical questions should be done in Markdown directly below the associated question.  Your solutions to computational questions should include any specified Python code and results as well as written commentary on your conclusions.  Remember that you are encouraged to discuss the problems with your classmates, but **you must write all code and solutions on your own**.\n",
    "\n",
    "**NOTES**: \n",
    "\n",
    "- Any relevant data sets should be available under the **Data** module on Canvas. To make life easier on the graders if they need to run your code, do not change the relative path names here. Instead, move the files around on your computer.\n",
    "- If you're not familiar with typesetting math directly into Markdown then by all means, do your work on paper first and then typeset it later.  Remember that there is a [reference guide](https://math.meta.stackexchange.com/questions/5020/mathjax-basic-tutorial-and-quick-reference) linked on Canvas on writing math in Markdown. **All** of your written commentary, justifications and mathematical work should be in Markdown.\n",
    "- Because you can technically evaluate notebook cells is a non-linear order, it's a good idea to do Kernel $\\rightarrow$ Restart & Run All as a check before submitting your solutions.  That way if we need to run your code you will know that it will work as expected. \n",
    "- It is **bad form** to make your reader interpret numerical output from your code.  If a question asks you to compute some value from the data you should show your code output **AND** write a summary of the results in Markdown directly below your code. \n",
    "- This probably goes without saying, but... For any question that asks you to calculate something, you **must show all work and justify your answers to receive credit**. Sparse or nonexistent work will receive sparse or nonexistent credit. \n",
    "\n",
    "---\n",
    "**Shortcuts:**  [Problem 1](#p1) | [Problem 2](#p2) | [Problem 3](#p3) | [Problem 4](#p4) | [Problem 5](#p5) | [Problem 6](#p6)\n",
    "\n",
    "---"
   ]
  },
  {
   "cell_type": "code",
   "execution_count": 1,
   "metadata": {},
   "outputs": [],
   "source": [
    "import pandas as pd\n",
    "import numpy as np\n",
    "import matplotlib.pylab as plt\n",
    "import math\n",
    "%matplotlib inline"
   ]
  },
  {
   "cell_type": "markdown",
   "metadata": {},
   "source": [
    "[Back to top](#top)\n",
    "\n",
    "<br>\n",
    "\n",
    "<a/ id='p1'></a>\n",
    "\n",
    "### (10 points) Problem 1\n",
    "***\n",
    "\n",
    "<img style=\"float: left; width: 200px; padding: 3mm;\" src=\"https://aquarium.org/wp-content/uploads/2015/08/Seahorse-female.jpg\" alt=\"Drawing\"/>  \n",
    "Poseidon is studying seahorses. Locations in each of the Atlantic, Pacific, Indian, Artic, and Southern Oceans are chosen to catch and release seahorses. After being caught, the seahorses are monitored for 24 hours while being fed organic, free-range plankton. The amount of plankton that each seahorse eats is recorded in an app on Poseidon’s phone, called Hippocampus. He collects 6 seahorses from the Arctic Ocean, 36 seahorses from the Pacific Ocean, 12 seahorses from the Indian Ocean, 6 seahorses from the Southern Ocean, and 42 seahorses from the Atlantic Ocean. \n",
    "\n",
    "Poseidon wants to get a sense for the average amount of plankton eaten by seahorses, so he uses the Hippcampus app to randomly choose 1 seahorse from the Arctic, 6 from the Pacific, 2 from the Indian Ocean, 1 from the Southern Ocean, and 7 from the Atlantic Ocean.\n",
    "\n",
    "$$ \\quad $$\n",
    "    \n",
    "**Part A:** Identify the following: \n",
    "\n",
    "- the population \n",
    "- the sample frame \n",
    "- the sample \n",
    "- the type of sample \n",
    "- the quantity of interest"
   ]
  },
  {
   "cell_type": "markdown",
   "metadata": {},
   "source": [
    "**SOURCES USED:**\n",
    "\n",
    "1 - (Types of Samples) https://people.richland.edu/james/lecture/m170/ch01-not.html\n",
    "\n",
    "2 - (Understanding Populations) https://www.statisticshowto.datasciencecentral.com/what-is-a-population/"
   ]
  },
  {
   "cell_type": "markdown",
   "metadata": {},
   "source": [
    "**Part A (Solutions):**\n",
    "\n",
    "- Population: Seahorses in General (\"Poseidon is studying seahorses\")\n",
    "- Sample frame: 6 seahorses from Arctic, 36 from Pacific, 12 from Indian, 6 from South, 42 from Atlantic.\n",
    "- Sample: 1 Seahorse from Acrtic, 6 from Pacific, 2 from Indian, 1 from Southern, and 7 from Atlantic Oceans.\n",
    "- Type of sample: Cluster Sampling (dividing the population into groups -- usually geographically) \n",
    "- Quantity of Interest: Average amount of Plankton eaten by Seahorses."
   ]
  },
  {
   "cell_type": "markdown",
   "metadata": {},
   "source": [
    "**Part B:** Poseidon repeats his sampling, again using the Hippocampus app. Now, he orders the data alphabetically by location and chooses every 3rd data value. \n",
    "    \n",
    "Identify the following: \n",
    "\n",
    "- the population \n",
    "- the sample frame \n",
    "- the sample \n",
    "- the type of sample \n",
    "- the quantity of interest"
   ]
  },
  {
   "cell_type": "markdown",
   "metadata": {},
   "source": [
    "**Part B (Solutions):**\n",
    "\n",
    "- Population: Seahorses in General (\"Poseidon is studying seahorses\")\n",
    "- Sample frame: 6 seahorses from Arctic, 36 from Pacific, 12 from Indian, 6 from South, 42 from Atlantic.\n",
    "- Sample: Every 3rd data value from Hiipocampus app data.\n",
    "- Type of sample: Systematic Sampling (Every 3rd data value is taken)\n",
    "- Quantity of Interest: Average amount of Plankton eaten by Seahorses."
   ]
  },
  {
   "cell_type": "markdown",
   "metadata": {},
   "source": [
    "[Back to top](#top)\n",
    "\n",
    "<br>\n",
    "\n",
    "<a/ id='p2'></a>\n",
    "\n",
    "### (20 points) Problem 2\n",
    "***\n",
    "\n",
    "A method to investigate the sensitivity of the sample mean and sample median to extreme outliers and changes in the dataset is to replace one or more elements in a given dataset by a number $y$ and investigate the effect when $y$ changes. To illustrate this, consider the following dataset:\n",
    " \n",
    "$$  4.3 \\quad 5.2 \\quad 5.0 \\quad y \\quad 3.8 \\quad 4.1 \\quad 5.5 \\quad 1.9 $$\n",
    "\n",
    "\n"
   ]
  },
  {
   "cell_type": "markdown",
   "metadata": {},
   "source": [
    "**Part A:** Compute the sample mean and sample median for $y=1.5$. Then compute both quantities again for $y=6$."
   ]
  },
  {
   "cell_type": "markdown",
   "metadata": {},
   "source": [
    "**SOURCES USED:**\n",
    "\n",
    "1 - (Median in Python) https://www.geeksforgeeks.org/numpy-median-in-python/\n",
    "\n",
    "2 - (Mean and Median) http://www.learningaboutelectronics.com/Articles/How-to-compute-the-mean-median-and-mode-in-Python.php"
   ]
  },
  {
   "cell_type": "code",
   "execution_count": 2,
   "metadata": {},
   "outputs": [
    {
     "name": "stdout",
     "output_type": "stream",
     "text": [
      "Sample Mean for y=1.5 is...\n",
      "3.9125\n",
      "Sample Median for y=1.5 is...\n",
      "4.199999999999999\n",
      "-----------------------------\n",
      "Sample Mean for y=6 is...\n",
      "4.475\n",
      "Sample Median for y=6 is...\n",
      "4.65\n"
     ]
    }
   ],
   "source": [
    "arr_y1=np.array([4.3,5.2,5.0,1.5,3.8,4.1,5.5,1.9])\n",
    "\n",
    "#Sample Mean for 1.5\n",
    "print('Sample Mean for y=1.5 is...')\n",
    "print(np.mean(arr_y1))\n",
    "\n",
    "#Sample Median for 1.5\n",
    "print('Sample Median for y=1.5 is...')\n",
    "print(np.median(arr_y1))\n",
    "\n",
    "arr_y2=np.array([4.3,5.2,5.0,6,3.8,4.1,5.5,1.9])\n",
    "print('-----------------------------')\n",
    "\n",
    "#Sample Mean for 6\n",
    "print('Sample Mean for y=6 is...')\n",
    "print(np.mean(arr_y2))\n",
    "\n",
    "#Sample Median for 6\n",
    "print('Sample Median for y=6 is...')\n",
    "print(np.median(arr_y2))"
   ]
  },
  {
   "cell_type": "markdown",
   "metadata": {},
   "source": [
    "**Part B:** Is there a value for $y$ that would make the mean of the data equal to 6? If so, calculate the value of $y$ that makes the mean equal to 6. If not, clearly explain why not.\n",
    "    \n",
    "Is there a value for $y$ that would make the median of the data equal to 6? If so, calculate the values of $y$ that makes the median equal to 6. If not, clearly explain why not."
   ]
  },
  {
   "cell_type": "code",
   "execution_count": 3,
   "metadata": {},
   "outputs": [
    {
     "name": "stdout",
     "output_type": "stream",
     "text": [
      "When y=18.2, mean is...\n",
      "6.0\n"
     ]
    }
   ],
   "source": [
    "#Sample mean when y=18.2\n",
    "arr_y3=np.array([4.3,5.2,5.0,18.2,3.8,4.1,5.5,1.9])\n",
    "print('When y=18.2, mean is...')\n",
    "print(np.mean(arr_y3))"
   ]
  },
  {
   "cell_type": "markdown",
   "metadata": {},
   "source": [
    "**Part B (Solutions):**\n",
    "\n",
    "MEAN? -> Yes, there is a value of y that makes the mean of the data 6, and that value is 18.2. I calculated it by taking higher and higher values of y, because in the last problem, we saw that if y increased, so did the mean. So in order to bring the mean up from about 4.475 on y=6, to 6, I needed to increase y quite a bit.\n",
    "\n",
    "MEDIAN? -> No, there is not a value of y that would make the median 6, because 6 is not a part of our data set to begin with. If y were to be the biggest value in our data set...\n",
    "(1.9, 3.8, 4.1, 4.3, 5.0, 5.2, 5.5, !18.2!), then our median is 4.56. It doesn't matter y will be, as long as it is the largest number in the data set, our median can't be 6. If y=6, it's still the biggest number in the data set, so it still won't make the median 6. Similarly if y is less, like for instance 1.3, then...\n",
    "(!1.3!, 1.9, 3.8, 4.1, 4.3, 5.0, 5.2, 5.5) our median is 4.199. Nowhere near 6. So it is impossible to ever get a median of 6."
   ]
  },
  {
   "cell_type": "markdown",
   "metadata": {},
   "source": [
    "**Part C**: Compute the sample variance and the sample standard deviation for the original dataset given in part A, with $y=6$."
   ]
  },
  {
   "cell_type": "markdown",
   "metadata": {},
   "source": [
    "**SOURCES USED:**\n",
    "\n",
    "1 - (Std Dev in Python) https://docs.scipy.org/doc/numpy/reference/generated/numpy.std.html\n",
    "\n",
    "2 - (Sample Variance) https://docs.scipy.org/doc/numpy-1.6.0/reference/generated/numpy.var.html"
   ]
  },
  {
   "cell_type": "code",
   "execution_count": 4,
   "metadata": {},
   "outputs": [
    {
     "name": "stdout",
     "output_type": "stream",
     "text": [
      "Sample Variance for y=6 is...\n",
      "1.633571428571429\n",
      "Standard Deviation for y=6 is...\n",
      "1.2781124475457661\n"
     ]
    }
   ],
   "source": [
    "print('Sample Variance for y=6 is...')\n",
    "print(np.var(arr_y2, ddof=1))\n",
    "print('Standard Deviation for y=6 is...')\n",
    "print(np.std(arr_y2, ddof=1))"
   ]
  },
  {
   "cell_type": "markdown",
   "metadata": {},
   "source": [
    "**CODE EXPLANATION:**\n",
    "\n",
    "I wrote sample std and variance functions to test these functions first, and when my answers lined up, I knew it was okay to use these functions."
   ]
  },
  {
   "cell_type": "markdown",
   "metadata": {},
   "source": [
    "**Part D**: Compute the sample median for the following cases: \n",
    "- $y=5$ \n",
    "- $y=50$ \n",
    "- $y=4.36$ \n",
    "- $y \\to \\infty$ \n",
    "- $y \\to -\\infty$"
   ]
  },
  {
   "cell_type": "code",
   "execution_count": 5,
   "metadata": {},
   "outputs": [
    {
     "name": "stdout",
     "output_type": "stream",
     "text": [
      "When y=5, median is...\n",
      "4.65\n",
      "When y=50, median is...\n",
      "4.65\n",
      "When y=4.36, median is...\n",
      "4.33\n",
      "When y=Infinity, median is...\n",
      "4.65\n",
      "When y=-Infinity, median is...\n",
      "4.199999999999999\n"
     ]
    }
   ],
   "source": [
    "arr_y5=np.array([4.3,5.2,5.0,5,3.8,4.1,5.5,1.9])\n",
    "print('When y=5, median is...')\n",
    "print(np.median(arr_y5))\n",
    "\n",
    "arr_y50=np.array([4.3,5.2,5.0,50,3.8,4.1,5.5,1.9])\n",
    "print('When y=50, median is...')\n",
    "print(np.median(arr_y50))\n",
    "\n",
    "arr_y436=np.array([4.3,5.2,5.0,4.36,3.8,4.1,5.5,1.9])\n",
    "print('When y=4.36, median is...')\n",
    "print(np.median(arr_y436))\n",
    "\n",
    "arr_yInf=np.array([4.3,5.2,5.0,np.Infinity,3.8,4.1,5.5,1.9])\n",
    "print('When y=Infinity, median is...')\n",
    "print(np.median(arr_yInf))\n",
    "\n",
    "arr_yNegInf=np.array([4.3,5.2,5.0,-np.Infinity,3.8,4.1,5.5,1.9])\n",
    "print('When y=-Infinity, median is...')\n",
    "print(np.median(arr_yNegInf))"
   ]
  },
  {
   "cell_type": "markdown",
   "metadata": {},
   "source": [
    "**Part E**: Think about the previous parts, above, and describe in words or mathematical notation the answers to the following two questions:\n",
    "\n",
    "- By varying $y$, what is the set of all the possible values that the sample mean could take on?\n",
    "- By varying $y$, what is the set of all the possible values that the sample median could take on? Specifically, for what sets of $y$ values does the median take on its different possible values?"
   ]
  },
  {
   "cell_type": "markdown",
   "metadata": {},
   "source": [
    "**SOURCES USED:**\n",
    "\n",
    "1 - (Infinity) https://numpy.org/devdocs/reference/constants.html"
   ]
  },
  {
   "cell_type": "markdown",
   "metadata": {},
   "source": [
    "**Part E (Solutions)**\n",
    "\n",
    "MEAN? -> By varying y, our sample mean can take on pretty much any value we want it to. As I was playing around with certain y's in the array given, I noticed we can increase our mean any given amount, or decrease our mean given any amount. Therefore, our sample mean can lie in the range $(-\\infty,\\infty)$.\n",
    "\n",
    "MEDIAN? -> Our Median can only lie in the range $(4.19999, 4.65)$, because if our $y>5.5$, the highest our median can be is $4.65$. Whereas, if $y<1.9$, our median can only be 4.199, so we know if $y$ is between $5.5$ or $1.9$ then our median can still only remain in the range from $4.19$ to $4.65$."
   ]
  },
  {
   "cell_type": "markdown",
   "metadata": {},
   "source": [
    "**Part F**: Describe in words or mathematical notation, what happens to the sample standard deviation when $y$ is varied in the following ways: \n",
    " \n",
    "- $y \\to \\infty$ \n",
    "- $y \\to \\bar{x}$\n"
   ]
  },
  {
   "cell_type": "code",
   "execution_count": 6,
   "metadata": {},
   "outputs": [
    {
     "name": "stdout",
     "output_type": "stream",
     "text": [
      "Standard Deviation for y=20 is...\n",
      "5.310779133046299\n",
      "-----------------\n",
      "Standard Deviation for y=20,000 is...\n",
      "6612.9704429533795\n",
      "-----------------\n",
      "Standard Deviation for y=1,000,000 is...\n",
      "330717.5059670706\n"
     ]
    }
   ],
   "source": [
    "#SHOWING Y GOING TO INFINITY\n",
    "#Example y=20\n",
    "arr_y20=np.array([4.3,5.2,5.0,20,3.8,4.1,5.5,1.9])\n",
    "print('Standard Deviation for y=20 is...')\n",
    "print(np.std(arr_y20))\n",
    "print('-----------------')\n",
    "#Example y=20,000\n",
    "arr_y20000=np.array([4.3,5.2,5.0,20000,3.8,4.1,5.5,1.9])\n",
    "print('Standard Deviation for y=20,000 is...')\n",
    "print(np.std(arr_y20000))\n",
    "print('-----------------')\n",
    "#Example y=1,000,000\n",
    "arr_y1000000=np.array([4.3,5.2,5.0,1000000,3.8,4.1,5.5,1.9])\n",
    "print('Standard Deviation for y=1,000,000 is...')\n",
    "print(np.std(arr_y1000000))\n",
    "\n",
    "#Example y=Infinity\n",
    "#arr_y_Inf=np.array([4.3,5.2,5.0,np.Infinity,3.8,4.1,5.5,1.9])\n",
    "#print('Standard Deviation for y=Infinity is...')\n",
    "#print(np.std(arr_y_Inf))\n",
    "#=nan"
   ]
  },
  {
   "cell_type": "markdown",
   "metadata": {},
   "source": [
    "**Part F (Solutions)**\n",
    "\n",
    "$\\infty$ -> As $y$ goes to $\\infty$, the sample standard deviation also goes up. The higher $y$ is, the higher the standard deviation is, when I tested it above in the sample block (using some test values of $y$). This shows that they are directly related. As $y$ increases, the sample standard deviation does as well.\n",
    "\n",
    "$\\bar{x}$ -> As $y$ goes to $\\bar{x}$, the sample standard deviation stays right at the mean. Because the standard deviation refers to the extent of the deviation within the points, if $y$ were to be the mean, the deviation would not change really much at all. For instance, above as we saw if $y$ went to $\\infty$, our standard deviation would also go to $\\infty$. So we know that if our $y$ just went to the average, standard deviation would not change by much."
   ]
  },
  {
   "cell_type": "markdown",
   "metadata": {},
   "source": [
    "[Back to top](#top)\n",
    "<a/ id='p3'></a>\n",
    "\n",
    "## (20 pts) Problem 3 \n",
    "***\n",
    "\n",
    "Let $x_1, x_2, \\ldots, x_n$ be $n$ observations of a variable of interest.  Recall that the sample mean $\\bar{x}_n$ and sample variance $s^2_n$ are given by \n",
    "\n",
    "$$\n",
    "\\bar{x}_n = \\frac{1}{n}\\sum_{k=1}^n x_k \\quad \\textrm{and} \\quad s^2_n = \\frac{1}{n-1}\\sum_{k=1}^n \\left( x_k - \\bar{x}_n\\right)^2 \\qquad \\tag{Equation 1}\n",
    "$$\n",
    "\n",
    "where here the subscript $n$'s indicate the number of observations in the sample. Notice that a natural computation of the variance requires two passes over the data: one to compute the mean, and a second to subtract the mean from each observation and compute the sum of squares. It is often useful to be able to compute the variance in a single pass, inspecting each value $x_k$ only once; for example, when the data are being collected without enough storage to keep all the values, or when costs of memory access dominate those of computation. In this problem you will explore two methods for such an _online_ computation of the mean.  \n",
    "\n",
    "**Part A**: Show algebraically that the following relation holds between the mean of the first $n-1$ observations and the mean of all $n$ observations: \n",
    "\n",
    "$$\n",
    "\\bar{x}_n = \\bar{x}_{n-1} + \\frac{x_n - \\bar{x}_{n-1}}{n}\n",
    "$$\n",
    "\n",
    "Note that you can get an expression for $\\bar{x}_{n-1}$ by simply replacing $n$ in Equation 1 above with $n-1$."
   ]
  },
  {
   "cell_type": "markdown",
   "metadata": {},
   "source": [
    "**SOURCES USED:**\n",
    "\n",
    "1 - (LaTeX Math) https://www.overleaf.com/learn/latex/Integrals,_sums_and_limits\n",
    "\n",
    "2 - (Sum Review) http://tutorial.math.lamar.edu/Classes/CalcI/SummationNotation.aspx\n",
    "\n",
    "3 - (Std Dev and Mean) https://www.bmj.com/about-bmj/resources-readers/publications/statistics-square-one/2-mean-and-standard-deviation"
   ]
  },
  {
   "cell_type": "markdown",
   "metadata": {},
   "source": [
    "**Part A (Solution)**\n",
    "\n",
    "The first thing we can do is get an extension for our $\\bar x_n $, bring the $\\frac{1}{n}$ outside, and sum from $k=1$ to $n-1$.\n",
    "\n",
    "$$\\bar{x}_{n} = \\frac{1}{n}\\sum_{k=1}^{n-1} x_k + \\frac{1}{n} x_n$$\n",
    "\n",
    "Then what we can do is \"multiply by one\", essentially multiplying out $\\frac{1}{n}$ by ($\\frac{n-1}{n-1}$).\n",
    "\n",
    "$$\n",
    "\\bar{x}_{n} = \\frac{1}{n}(\\frac{n-1}{n-1})\\sum_{k=1}^{n-1} x_k + \\frac{1}{n} x_n\n",
    "$$\n",
    "\n",
    "After simplifying our multiplication, we get...\n",
    "\n",
    "$$\n",
    " \\bar{x}_{n} =  (\\frac{1}{n-1})(\\frac{n-1}{n})\\sum_{k=1}^{n-1} x_k + \\frac{1}{n} x_n\n",
    "$$\n",
    "\n",
    "We can now look at $\\bar{x}_{n-1}$\n",
    "\n",
    "$$\n",
    " \\bar{x}_{n-1} = (\\frac{1}{n-1})\\sum_{k=1}^{n-1} x_k\n",
    "$$\n",
    "\n",
    "We then solve for the sum and get the following equation...\n",
    "\n",
    "$$\n",
    "\\bar{x}_{n} = (\\frac{1}{n}) x_n + (\\frac{n-1}{n}) (\\bar{x}_{n-1})\n",
    "$$\n",
    "\n",
    "Multiply it out, simplify, and we get the following...\n",
    "\n",
    "$$\n",
    "\\bar{x}_{n} = (\\frac{1}{n}) x_n + (\\frac{(n*\\bar{x}_{n-1})-\\bar{x}_{n-1}}{n})\n",
    "$$\n",
    "\n",
    "Our $n$'s cancel, and we finally get the expression above!\n",
    "\n",
    "$$\n",
    "\\bar{x}_n = \\bar{x}_{n-1} + \\frac{x_n - \\bar{x}_{n-1}}{n}\n",
    "$$\n"
   ]
  },
  {
   "cell_type": "markdown",
   "metadata": {},
   "source": [
    "**Part B**: Write a function `my_sample_mean` that takes as its input a numpy array and returns the mean of that numpy array using the formulas from class (written above). Write another function `my_sample_var` that takes as its input a numpy array and returns the variance of that numpy array, again using the formulas from class (written above). You may **not** use any built-in sample mean or variance functions."
   ]
  },
  {
   "cell_type": "markdown",
   "metadata": {},
   "source": [
    "**SOURCES USED:**\n",
    "\n",
    "1 - (Numpy Sum) https://docs.scipy.org/doc/numpy/reference/generated/numpy.sum.html\n",
    "\n",
    "2 - (Exponents in Python) https://www.digitalocean.com/community/tutorials/how-to-do-math-in-python-3-with-operators\n",
    "\n",
    "3 - (Size of Array) https://www.hacksparrow.com/python/length-or-size-of-list-tuple-array.html"
   ]
  },
  {
   "cell_type": "code",
   "execution_count": 7,
   "metadata": {},
   "outputs": [],
   "source": [
    "def my_sample_mean(numpyArray):\n",
    "    size = len(numpyArray)\n",
    "    sumElements = np.sum(numpyArray)\n",
    "    resMean=sumElements/size\n",
    "    return resMean\n",
    "\n",
    "def my_sample_var(numpyArray):\n",
    "    size = len(numpyArray)\n",
    "    sumElements = np.sum(numpyArray)\n",
    "    mean=sumElements/size\n",
    "    subtr = numpyArray - mean\n",
    "    result_square = subtr**2\n",
    "    sampleVar=np.sum(result_square)/(size-1)\n",
    "    return sampleVar"
   ]
  },
  {
   "cell_type": "markdown",
   "metadata": {},
   "source": [
    "**CODE Explanation**:\n",
    "\n",
    "In the sample mean function, I take in any numpy array, calculate the size of it using the len function from Python, and then sum all the elements storing it in a variable called sum, also via the sum function included in python. After that, I take the sum divided by the size, and store that in a variable, then return that variable.\n",
    "\n",
    "In my sample var function, I do a similar approach to what I did in the sample mean fnction, except this time I use the formula specifically for variance, where you subtract the old mean from the array, then square that result, sum it, etc... and followed the formulaic instructions provided. "
   ]
  },
  {
   "cell_type": "markdown",
   "metadata": {},
   "source": [
    "**Part C**: Use your functions from Part B to compute the sample mean and sample variance of the following array, which contains the plankton consumed by a sample of 12 seahorses.\n",
    "\n",
    "`pla = [98, 26, 83, 56, 60, 39, 81, 19, 72, 78, 94, 42]`"
   ]
  },
  {
   "cell_type": "code",
   "execution_count": 8,
   "metadata": {},
   "outputs": [
    {
     "name": "stdout",
     "output_type": "stream",
     "text": [
      "The mean of this array is...\n",
      "62.333333333333336\n",
      "The sample variance of this array is...\n",
      "690.0606060606061\n"
     ]
    }
   ],
   "source": [
    "arr=np.array([98, 26, 83, 56, 60, 39, 81, 19, 72, 78, 94, 42])\n",
    "x=my_sample_mean(arr)\n",
    "print(\"The mean of this array is...\")\n",
    "print(x)\n",
    "y=my_sample_var(arr)\n",
    "print(\"The sample variance of this array is...\")\n",
    "print(y)"
   ]
  },
  {
   "cell_type": "markdown",
   "metadata": {},
   "source": [
    "**Part D**: Implement a third function called `update_mean` that implements the formula whose validity you proved in Part A. Note that this function will need to take as its input three things: $x_n$, $\\bar{x}_{n-1}$ and $n$. A function header is provided for you. This function may be auto-graded, so please do not change the given API - the order of inputs matters! If you change it, you might lose points.\n",
    "\n",
    "Use this function to compute the values that you get from taking the mean of the first seahorse's plankton, the first two seahorses, the first three seahorses, and so on up to all of the seahorse data points. Store your plankton means in a numpy array called `pla_means`.  Report all 12 estimates in `pla_means`."
   ]
  },
  {
   "cell_type": "markdown",
   "metadata": {},
   "source": [
    "**SOURCES USED**\n",
    "\n",
    "1 - (Taking Means of Lists) https://www.geeksforgeeks.org/find-average-list-python/\n",
    "\n",
    "2 - (Looping over Lists / Indexing) https://treyhunner.com/2016/04/how-to-loop-with-indexes-in-python/\n",
    "\n",
    "3 - (Appending / More List Info) https://developers.google.com/edu/python/lists\n",
    "\n",
    "4 - (Rounding Lists) https://stackoverflow.com/questions/5326112/how-to-round-each-item-in-a-list-of-floats-to-2-decimal-places"
   ]
  },
  {
   "cell_type": "code",
   "execution_count": 9,
   "metadata": {},
   "outputs": [
    {
     "name": "stdout",
     "output_type": "stream",
     "text": [
      "Test List 1:['24.0', '53.0', '50.3', '54.5', '59.6', '53.8', '56.4', '53.6', '49.0', '44.9', '45.4', '42.4']\n",
      "Test List 2:['98.0', '62.0', '69.0', '65.8', '64.6', '60.3', '63.3', '57.8', '59.3', '61.2', '64.2', '62.3']\n"
     ]
    }
   ],
   "source": [
    "# Given API:\n",
    "def update_mean(prev_mean, xn, n):\n",
    "    #To do this, we look at the forumla we got in part A.\n",
    "    #updatedMean = x_(n-1) + ((x_n - x_(n-1))/n)\n",
    "    #Now let's calculate this and return it.\n",
    "    updatedMean = (prev_mean) + ((xn-prev_mean)/n)\n",
    "    return updatedMean\n",
    "\n",
    "#HelperFunction\n",
    "#A seperate helper function wasn't exactly needed as you could do the same thing just in one for loop, but I\n",
    "#decided to compile it into one function.\n",
    "def find_plankton_means(plankton):\n",
    "    #First we create a list to store the planketon means and then append the argument list at 0.\n",
    "    #initialize\n",
    "    planktonMeans=[] \n",
    "    #append\n",
    "    planktonMeans.append(plankton[0]) \n",
    "    #We then traverse through the len of our pla list.\n",
    "    for p in range(1, len(plankton)):\n",
    "        #recurUpdateMean takes the update mean function we wrote above, and passes in the previous mean\n",
    "        #pla_means[s-1] is PREVIOUS mean\n",
    "        #pla[s] is our x_n term, the mean we are currently looking at.\n",
    "        #And our n is the index+1\n",
    "        recur = update_mean(planktonMeans[p-1], plankton[p], p+1)\n",
    "        #Here we append the plankton mean we found, as well as the list of the updated means.\n",
    "        planktonMeans = np.append(planktonMeans, [recur])\n",
    "    #Return final result as an array.\n",
    "    return planktonMeans\n",
    "\n",
    "#Testing with 12 different values\n",
    "pla_list=[24, 82, 45, 67, 80, 25, 72, 34, 12, 8, 50, 10]\n",
    "#Trying it on a different set of 12.\n",
    "pla_list_2=[98, 26, 83, 56, 60, 39, 81, 19, 72, 78, 94, 42]\n",
    "result_list=find_plankton_means(pla_list)\n",
    "result_list_2=find_plankton_means(pla_list_2)\n",
    "formatted_list = ['%.1f' %  i for i in result_list]\n",
    "formatted_list_2= ['%.1f' %  i for i in result_list_2]\n",
    "print(\"Test List 1:{}\".format(formatted_list))\n",
    "print(\"Test List 2:{}\".format(formatted_list_2))"
   ]
  },
  {
   "cell_type": "markdown",
   "metadata": {},
   "source": [
    "**CODE EXPLANATION:**\n",
    "\n",
    "In my update mean function, I just wrote code which basically calculates the new mean by again following the formula we were provided, by adding the previous mean to the (mean minus previous mean divided by n), and then return the result I get.\n",
    "\n",
    "In my find plankton means helper function, I take a list in, initialize a list to hold all the mean values, then iterate over the list calling update mean to store the new means in the plankton array, giving it the arguments as explained in my code (in the comments). I then ran different test cases on it to test it."
   ]
  },
  {
   "cell_type": "markdown",
   "metadata": {},
   "source": [
    "To ensure your function complies with the given API, run this small test, where we suppose we have a mean of $\\bar{x}_n = 1$ with the first $2$ data points (`prev_mean`), and we update this with the 3rd ($n=3$) data point which is $x_3=2$:"
   ]
  },
  {
   "cell_type": "code",
   "execution_count": 10,
   "metadata": {},
   "outputs": [],
   "source": [
    "assert update_mean(1,2,3)==4/3, \"Warning: function seems broken.\""
   ]
  },
  {
   "cell_type": "code",
   "execution_count": null,
   "metadata": {},
   "outputs": [],
   "source": []
  },
  {
   "cell_type": "markdown",
   "metadata": {},
   "source": [
    "[Back to top](#top)\n",
    "\n",
    "<a/ id='p4'></a>\n",
    "\n",
    "## (25 pts) Problem 4\n",
    "*** \n",
    "Some claim that the final hours aboard the RMS Titanic were marked by \"class warfare\" in which the people with first-class tickets took all the good spots on the lifeboats; others claim that the final hours were characterized by male chivalry, in which the men valiantly gave up their positions in the boats and succumbed bravely to the depths of the Atlantic. \n",
    "\n",
    "We have the data on survival rates by class and by sex, so let's figure out whether there is evidence for these scenarios. Access the Titanic data in `titanic_data.csv` and store it in a Pandas DataFrame. The data contains information pertaining to class status (**Pclass**), survival (**Survived**), and gender (**Sex**) of passengers, among other things. Be sure to use the `titanic_data.csv` data set, *not* the `clean_titanic_data` file from the in-class notebook."
   ]
  },
  {
   "cell_type": "code",
   "execution_count": 11,
   "metadata": {},
   "outputs": [
    {
     "data": {
      "text/html": [
       "<div>\n",
       "<style scoped>\n",
       "    .dataframe tbody tr th:only-of-type {\n",
       "        vertical-align: middle;\n",
       "    }\n",
       "\n",
       "    .dataframe tbody tr th {\n",
       "        vertical-align: top;\n",
       "    }\n",
       "\n",
       "    .dataframe thead th {\n",
       "        text-align: right;\n",
       "    }\n",
       "</style>\n",
       "<table border=\"1\" class=\"dataframe\">\n",
       "  <thead>\n",
       "    <tr style=\"text-align: right;\">\n",
       "      <th></th>\n",
       "      <th>PassengerId</th>\n",
       "      <th>Survived</th>\n",
       "      <th>Pclass</th>\n",
       "      <th>Name</th>\n",
       "      <th>Sex</th>\n",
       "      <th>Age</th>\n",
       "      <th>SibSp</th>\n",
       "      <th>Parch</th>\n",
       "      <th>Ticket</th>\n",
       "      <th>Fare</th>\n",
       "      <th>Cabin</th>\n",
       "      <th>Embarked</th>\n",
       "    </tr>\n",
       "  </thead>\n",
       "  <tbody>\n",
       "    <tr>\n",
       "      <th>0</th>\n",
       "      <td>1</td>\n",
       "      <td>0</td>\n",
       "      <td>3</td>\n",
       "      <td>Braund, Mr. Owen Harris</td>\n",
       "      <td>male</td>\n",
       "      <td>36.0</td>\n",
       "      <td>1</td>\n",
       "      <td>0</td>\n",
       "      <td>A/5 21171</td>\n",
       "      <td>7.2500</td>\n",
       "      <td>NaN</td>\n",
       "      <td>S</td>\n",
       "    </tr>\n",
       "    <tr>\n",
       "      <th>1</th>\n",
       "      <td>2</td>\n",
       "      <td>1</td>\n",
       "      <td>1</td>\n",
       "      <td>Cumings, Mrs. John Bradley (Florence Briggs Th...</td>\n",
       "      <td>female</td>\n",
       "      <td>18.0</td>\n",
       "      <td>1</td>\n",
       "      <td>0</td>\n",
       "      <td>PC 17599</td>\n",
       "      <td>71.2833</td>\n",
       "      <td>C85</td>\n",
       "      <td>C</td>\n",
       "    </tr>\n",
       "    <tr>\n",
       "      <th>2</th>\n",
       "      <td>3</td>\n",
       "      <td>1</td>\n",
       "      <td>3</td>\n",
       "      <td>Heikkinen, Miss. Laina</td>\n",
       "      <td>female</td>\n",
       "      <td>14.0</td>\n",
       "      <td>0</td>\n",
       "      <td>0</td>\n",
       "      <td>STON/O2. 3101282</td>\n",
       "      <td>7.9250</td>\n",
       "      <td>NaN</td>\n",
       "      <td>S</td>\n",
       "    </tr>\n",
       "    <tr>\n",
       "      <th>3</th>\n",
       "      <td>4</td>\n",
       "      <td>1</td>\n",
       "      <td>1</td>\n",
       "      <td>Futrelle, Mrs. Jacques Heath (Lily May Peel)</td>\n",
       "      <td>female</td>\n",
       "      <td>27.0</td>\n",
       "      <td>1</td>\n",
       "      <td>0</td>\n",
       "      <td>113803</td>\n",
       "      <td>53.1000</td>\n",
       "      <td>C123</td>\n",
       "      <td>S</td>\n",
       "    </tr>\n",
       "    <tr>\n",
       "      <th>4</th>\n",
       "      <td>5</td>\n",
       "      <td>0</td>\n",
       "      <td>3</td>\n",
       "      <td>Allen, Mr. William Henry</td>\n",
       "      <td>male</td>\n",
       "      <td>63.0</td>\n",
       "      <td>0</td>\n",
       "      <td>0</td>\n",
       "      <td>373450</td>\n",
       "      <td>8.0500</td>\n",
       "      <td>NaN</td>\n",
       "      <td>S</td>\n",
       "    </tr>\n",
       "  </tbody>\n",
       "</table>\n",
       "</div>"
      ],
      "text/plain": [
       "   PassengerId  Survived  Pclass  \\\n",
       "0            1         0       3   \n",
       "1            2         1       1   \n",
       "2            3         1       3   \n",
       "3            4         1       1   \n",
       "4            5         0       3   \n",
       "\n",
       "                                                Name     Sex   Age  SibSp  \\\n",
       "0                            Braund, Mr. Owen Harris    male  36.0      1   \n",
       "1  Cumings, Mrs. John Bradley (Florence Briggs Th...  female  18.0      1   \n",
       "2                             Heikkinen, Miss. Laina  female  14.0      0   \n",
       "3       Futrelle, Mrs. Jacques Heath (Lily May Peel)  female  27.0      1   \n",
       "4                           Allen, Mr. William Henry    male  63.0      0   \n",
       "\n",
       "   Parch            Ticket     Fare Cabin Embarked  \n",
       "0      0         A/5 21171   7.2500   NaN        S  \n",
       "1      0          PC 17599  71.2833   C85        C  \n",
       "2      0  STON/O2. 3101282   7.9250   NaN        S  \n",
       "3      0            113803  53.1000  C123        S  \n",
       "4      0            373450   8.0500   NaN        S  "
      ]
     },
     "execution_count": 11,
     "metadata": {},
     "output_type": "execute_result"
    }
   ],
   "source": [
    "df = pd.read_csv(\"titanic_data.csv\")\n",
    "df.head()"
   ]
  },
  {
   "cell_type": "markdown",
   "metadata": {},
   "source": [
    "**Part A**: Consider the two claims: class warfare, and male chivalry. Suppose that class warfare occurred in the final hours aboard the Titanic.  What patterns might you expect to see in the data?  Suppose that male chivalry was widespread during the final hours instead. What patterns might you then expect to see in the data?  Explain both of these hypothesized patterns in words. Are these two hypotheses mutually exclusive or not?"
   ]
  },
  {
   "cell_type": "markdown",
   "metadata": {},
   "source": [
    "**SOURCES USED:**\n",
    "\n",
    "1 - (Mutually Exclusive) https://www.merriam-webster.com/dictionary/mutually%20exclusive"
   ]
  },
  {
   "cell_type": "markdown",
   "metadata": {},
   "source": [
    "**Part A (Solution)**\n",
    "\n",
    "If class warfare had occurred in the final hours of the titanic, the passengers of the first class most likely would have fought the people of the other two classes, making first class passengers more likely to survive the sinking. If male chivalry was also widespread, that would mean that the women would have a greater chance of surviving since the men would be protecting and helping them first and foremost. These two hypotheses aren't mutually exclusive because they could happen together."
   ]
  },
  {
   "cell_type": "markdown",
   "metadata": {},
   "source": [
    "**Part B**: Use Pandas (see: `dropna`) methods to create a clean data set by removing any rows from the DataFrame that are missing values corresponding to **Survived**, **Pclass**, **Age**, or **Sex**. Store the clean data in a DataFrame called dfTitanic. Be sure to show any exploratory work determining if/where there are rows with missing values."
   ]
  },
  {
   "cell_type": "markdown",
   "metadata": {},
   "source": [
    "**SOURCES USED:**\n",
    "\n",
    "1 - (Dropna in Python) https://pandas.pydata.org/pandas-docs/stable/reference/api/pandas.DataFrame.dropna.html"
   ]
  },
  {
   "cell_type": "code",
   "execution_count": 12,
   "metadata": {},
   "outputs": [
    {
     "data": {
      "text/html": [
       "<div>\n",
       "<style scoped>\n",
       "    .dataframe tbody tr th:only-of-type {\n",
       "        vertical-align: middle;\n",
       "    }\n",
       "\n",
       "    .dataframe tbody tr th {\n",
       "        vertical-align: top;\n",
       "    }\n",
       "\n",
       "    .dataframe thead th {\n",
       "        text-align: right;\n",
       "    }\n",
       "</style>\n",
       "<table border=\"1\" class=\"dataframe\">\n",
       "  <thead>\n",
       "    <tr style=\"text-align: right;\">\n",
       "      <th></th>\n",
       "      <th>PassengerId</th>\n",
       "      <th>Survived</th>\n",
       "      <th>Pclass</th>\n",
       "      <th>Name</th>\n",
       "      <th>Sex</th>\n",
       "      <th>Age</th>\n",
       "      <th>SibSp</th>\n",
       "      <th>Parch</th>\n",
       "      <th>Ticket</th>\n",
       "      <th>Fare</th>\n",
       "      <th>Cabin</th>\n",
       "      <th>Embarked</th>\n",
       "    </tr>\n",
       "  </thead>\n",
       "  <tbody>\n",
       "    <tr>\n",
       "      <th>0</th>\n",
       "      <td>1</td>\n",
       "      <td>0</td>\n",
       "      <td>3</td>\n",
       "      <td>Braund, Mr. Owen Harris</td>\n",
       "      <td>male</td>\n",
       "      <td>36.0</td>\n",
       "      <td>1</td>\n",
       "      <td>0</td>\n",
       "      <td>A/5 21171</td>\n",
       "      <td>7.2500</td>\n",
       "      <td>NaN</td>\n",
       "      <td>S</td>\n",
       "    </tr>\n",
       "    <tr>\n",
       "      <th>1</th>\n",
       "      <td>2</td>\n",
       "      <td>1</td>\n",
       "      <td>1</td>\n",
       "      <td>Cumings, Mrs. John Bradley (Florence Briggs Th...</td>\n",
       "      <td>female</td>\n",
       "      <td>18.0</td>\n",
       "      <td>1</td>\n",
       "      <td>0</td>\n",
       "      <td>PC 17599</td>\n",
       "      <td>71.2833</td>\n",
       "      <td>C85</td>\n",
       "      <td>C</td>\n",
       "    </tr>\n",
       "    <tr>\n",
       "      <th>2</th>\n",
       "      <td>3</td>\n",
       "      <td>1</td>\n",
       "      <td>3</td>\n",
       "      <td>Heikkinen, Miss. Laina</td>\n",
       "      <td>female</td>\n",
       "      <td>14.0</td>\n",
       "      <td>0</td>\n",
       "      <td>0</td>\n",
       "      <td>STON/O2. 3101282</td>\n",
       "      <td>7.9250</td>\n",
       "      <td>NaN</td>\n",
       "      <td>S</td>\n",
       "    </tr>\n",
       "    <tr>\n",
       "      <th>3</th>\n",
       "      <td>4</td>\n",
       "      <td>1</td>\n",
       "      <td>1</td>\n",
       "      <td>Futrelle, Mrs. Jacques Heath (Lily May Peel)</td>\n",
       "      <td>female</td>\n",
       "      <td>27.0</td>\n",
       "      <td>1</td>\n",
       "      <td>0</td>\n",
       "      <td>113803</td>\n",
       "      <td>53.1000</td>\n",
       "      <td>C123</td>\n",
       "      <td>S</td>\n",
       "    </tr>\n",
       "    <tr>\n",
       "      <th>4</th>\n",
       "      <td>5</td>\n",
       "      <td>0</td>\n",
       "      <td>3</td>\n",
       "      <td>Allen, Mr. William Henry</td>\n",
       "      <td>male</td>\n",
       "      <td>63.0</td>\n",
       "      <td>0</td>\n",
       "      <td>0</td>\n",
       "      <td>373450</td>\n",
       "      <td>8.0500</td>\n",
       "      <td>NaN</td>\n",
       "      <td>S</td>\n",
       "    </tr>\n",
       "  </tbody>\n",
       "</table>\n",
       "</div>"
      ],
      "text/plain": [
       "   PassengerId  Survived  Pclass  \\\n",
       "0            1         0       3   \n",
       "1            2         1       1   \n",
       "2            3         1       3   \n",
       "3            4         1       1   \n",
       "4            5         0       3   \n",
       "\n",
       "                                                Name     Sex   Age  SibSp  \\\n",
       "0                            Braund, Mr. Owen Harris    male  36.0      1   \n",
       "1  Cumings, Mrs. John Bradley (Florence Briggs Th...  female  18.0      1   \n",
       "2                             Heikkinen, Miss. Laina  female  14.0      0   \n",
       "3       Futrelle, Mrs. Jacques Heath (Lily May Peel)  female  27.0      1   \n",
       "4                           Allen, Mr. William Henry    male  63.0      0   \n",
       "\n",
       "   Parch            Ticket     Fare Cabin Embarked  \n",
       "0      0         A/5 21171   7.2500   NaN        S  \n",
       "1      0          PC 17599  71.2833   C85        C  \n",
       "2      0  STON/O2. 3101282   7.9250   NaN        S  \n",
       "3      0            113803  53.1000  C123        S  \n",
       "4      0            373450   8.0500   NaN        S  "
      ]
     },
     "execution_count": 12,
     "metadata": {},
     "output_type": "execute_result"
    }
   ],
   "source": [
    "dfTitanic = df.dropna(subset=['Survived', 'Pclass', 'Age', 'Sex']).copy()\n",
    "dfTitanic.head()"
   ]
  },
  {
   "cell_type": "markdown",
   "metadata": {},
   "source": [
    "**Part C**: Compute the fraction of survivors according to class and gender. There are 3 passenger classes and 2 sexes in the data set, so you should report all 6 possible combinations.  Then, answer 3 questions:\n",
    "* **(i)** Within each passenger class, were men or women more/less/equally likely to survive?\n",
    "* **(ii)**  Looking at only the male or only the female passengers, how is passenger class related to the category's survival rate?\n",
    "* **(iii)**  Did men in first class or women in third class have a higher survival rate? "
   ]
  },
  {
   "cell_type": "code",
   "execution_count": 13,
   "metadata": {},
   "outputs": [
    {
     "name": "stdout",
     "output_type": "stream",
     "text": [
      "# of males who survived in 1st class is... 36\n",
      "# of females who survived in 1st class is... 72\n",
      "Male Survival 1st Class: 0.3871 \n",
      "Female Survival 2nd Class: 0.9600\n",
      "-------------------------\n",
      "# of males who survived in 2nd class is... 16\n",
      "# of females who survived in 2nd class is... 54\n",
      "Male Survival 2nd Class: 0.1839 \n",
      "Female Survival 2nd Class: 0.9310\n",
      "-------------------------\n",
      "# of males who survived in 3rd class is... 39\n",
      "# of females who survived in 3rd class is... 62\n",
      "Male Survival 3rd Class: 0.1378 \n",
      "Female Survival 3rd Class: 0.5254\n"
     ]
    }
   ],
   "source": [
    "#First Class Information\n",
    "maleSur1 = dfTitanic.loc[(dfTitanic[\"Pclass\"]==1) & (dfTitanic[\"Sex\"]==\"male\"), \"Survived\"].sum()\n",
    "femaleSur1= dfTitanic.loc[(dfTitanic[\"Pclass\"]==1) & (dfTitanic[\"Sex\"]==\"female\"), \"Survived\"].sum()\n",
    "#len function serves to count number of total female and male in the first class.\n",
    "maleTot1= len(dfTitanic.loc[(dfTitanic[\"Pclass\"]==1) & (dfTitanic[\"Sex\"]==\"male\"), \"Survived\"])\n",
    "femaleTot1=len(dfTitanic.loc[(dfTitanic[\"Pclass\"]==1) & (dfTitanic[\"Sex\"]==\"female\"), \"Survived\"])\n",
    "print(\"# of males who survived in 1st class is... {}\".format(maleSur1))\n",
    "print(\"# of females who survived in 1st class is... {}\".format(femaleSur1))\n",
    "print(\"Male Survival 1st Class: {:.4f} \".format(maleSur1/maleTot1))\n",
    "print(\"Female Survival 2nd Class: {:.4f}\".format(femaleSur1/femaleTot1))\n",
    "\n",
    "print(\"-------------------------\")\n",
    "\n",
    "#Second Class Information\n",
    "maleSur2 = dfTitanic.loc[(dfTitanic[\"Pclass\"]==2) & (dfTitanic[\"Sex\"]==\"male\"), \"Survived\"].sum()\n",
    "femaleSur2 = dfTitanic.loc[(dfTitanic[\"Pclass\"]==2) & (dfTitanic[\"Sex\"]==\"female\"), \"Survived\"].sum()\n",
    "#len function serves to count number of total female and male in the second class.\n",
    "maleTot2 = len(dfTitanic.loc[(dfTitanic[\"Pclass\"]==2) & (dfTitanic[\"Sex\"]==\"male\"), \"Survived\"])\n",
    "femaleTot2 =len(dfTitanic.loc[(dfTitanic[\"Pclass\"]==2) & (dfTitanic[\"Sex\"]==\"female\"), \"Survived\"])\n",
    "print(\"# of males who survived in 2nd class is... {}\".format(maleSur2))\n",
    "print(\"# of females who survived in 2nd class is... {}\".format(femaleSur2))\n",
    "print(\"Male Survival 2nd Class: {:.4f} \".format(maleSur2/maleTot2))\n",
    "print(\"Female Survival 2nd Class: {:.4f}\".format(femaleSur2/femaleTot2))\n",
    "\n",
    "print(\"-------------------------\")\n",
    "\n",
    "#Third Class Information\n",
    "maleSur3 = dfTitanic.loc[(dfTitanic[\"Pclass\"]==3) & (dfTitanic[\"Sex\"]==\"male\"), \"Survived\"].sum()\n",
    "femaleSur3 = dfTitanic.loc[(dfTitanic[\"Pclass\"]==3) & (dfTitanic[\"Sex\"]==\"female\"), \"Survived\"].sum()\n",
    "#len function serves to count number of total female and male in the third class.\n",
    "maleTot3 = len(dfTitanic.loc[(dfTitanic[\"Pclass\"]==3) & (dfTitanic[\"Sex\"]==\"male\"), \"Survived\"])\n",
    "femaleTot3 =len(dfTitanic.loc[(dfTitanic[\"Pclass\"]==3) & (dfTitanic[\"Sex\"]==\"female\"), \"Survived\"])\n",
    "print(\"# of males who survived in 3rd class is... {}\".format(maleSur3))\n",
    "print(\"# of females who survived in 3rd class is... {}\".format(femaleSur3))\n",
    "print(\"Male Survival 3rd Class: {:.4f} \".format(maleSur3/maleTot3))\n",
    "print(\"Female Survival 3rd Class: {:.4f}\".format(femaleSur3/femaleTot3))"
   ]
  },
  {
   "cell_type": "markdown",
   "metadata": {},
   "source": [
    "**Part C (Solutions)**\n",
    "\n",
    "**i)** Within each class, female survival rate was higher than male survival rate, so women were more likely to survive across all the class numbers.\n",
    "\n",
    "**ii)** Passengers from the upper classes (1 and 2) were more likely to survive than passengers from the third class. Survival rates for 3rd class were really low across both sexes.\n",
    "\n",
    "**iii)** Men in first class had a survival rate of 39, whereas women of third class had a survival rate of 46, so women have a higher survival rate even in third class than men of first class."
   ]
  },
  {
   "cell_type": "markdown",
   "metadata": {},
   "source": [
    "**Part D**: Plot a histogram of all of the passenger ages, using the bin edges $[0,5,10,\\ldots,70,75,80]$ defined by `my_bins` below. How would you characterize the distribution of **AGE**? (By _characterize_ we mean that you should indicate whether the data are unimodal, bimodal, multimodal, symmetric, negatively skewed, positively skewed, etc.)  Be sure to label your axes and use your figure to justify your conclusions."
   ]
  },
  {
   "cell_type": "markdown",
   "metadata": {},
   "source": [
    "**SOURCES USED:**\n",
    "\n",
    "1 - (Understanding Histograms) https://matplotlib.org/3.1.1/gallery/statistics/histogram_features.html\n",
    "\n",
    "2 - (Histograms Python) https://realpython.com/python-histograms/\n",
    "\n",
    "3 - (Unimodal/Bimodal/Types of Charts) http://www.ltcconline.net/greenl/courses/201/descstat/hist.htm\n",
    "\n",
    "4 - (Skews) http://www.cvgs.k12.va.us/DIGstats/main/descriptv/d_skewd.html"
   ]
  },
  {
   "cell_type": "code",
   "execution_count": 14,
   "metadata": {},
   "outputs": [],
   "source": [
    "my_bins = range(0,85,5)"
   ]
  },
  {
   "cell_type": "code",
   "execution_count": 15,
   "metadata": {},
   "outputs": [
    {
     "data": {
      "image/png": "[encoded data removed]",
      "text/plain": [
       "<Figure size 1008x504 with 1 Axes>"
      ]
     },
     "metadata": {
      "needs_background": "light"
     },
     "output_type": "display_data"
    }
   ],
   "source": [
    "fig, ax = plt.subplots(figsize=(14,7)) #makes the bar chart larger or smaller. For scaling purposes.\n",
    "#For example, figsize=(10,5) would be a lot smaller of a graph.\n",
    "ax.grid(alpha=0.4) #Makes the gridlines lighter or darker, the lower the alpha, the lighter the gridlines\n",
    "ax.set_axisbelow(True) #Puts the gridlines behind the bar chart so it doesn't interfere with results.\n",
    "#Now to do histogram, we use df.hist, put in the arguments. \n",
    "#The column we want to analyze from the dfTitanic is Age.\n",
    "#The axis is same.\n",
    "#Bins we are using are the ones provided above.\n",
    "#Face color is the color of the bars.\n",
    "#Edge color is the color around the bars.\n",
    "dfTitanic.hist(column=\"Age\", ax=ax, bins=my_bins, facecolor=\"magenta\", edgecolor=\"black\");\n",
    "ax.set_title(\"# of Passengers per Age\", fontsize=25) #Helps set the title of the bar chart.\n",
    "ax.set_xlabel(\"Age\", fontsize=18) #Our label on the x axis will be Age.\n",
    "ax.set_ylabel(\"Frequency\", fontsize=18) #Our label on the y axis will be # of Passengers.\n",
    "plt.show()"
   ]
  },
  {
   "cell_type": "markdown",
   "metadata": {},
   "source": [
    "**Part D (Solutions)**\n",
    "\n",
    "The data distribution is **unimodal**, as most of the passengers fall within a certain range from ages 20-30, that where our peak lies. The **skew is a positive one**, to the right."
   ]
  },
  {
   "cell_type": "markdown",
   "metadata": {},
   "source": [
    "**Part E**: One might wonder how a passenger's age is related to the likelihood that they would survive the Titanic disaster. To answer this question graphically, plot two density histograms on the same set of axes, showing the distribution of the ages of passengers who survived, and the distribution of the ages of passengers who did not. \n",
    "* Use the bin edges $[0,5,10,\\ldots,70,75,80]$ for both histograms.\n",
    "* This problem is about a *ship* sinking in the *ocean*, so use **coral** and **seagreen** as the facecolors for your histogram boxes.\n",
    "* Plot both histograms on a single set of axes (there should be only one panel in the figure you create), but use Matplotlib/Pandas plotting functionality to make the faces of the histogram boxes somewhat transparent, so both histograms are visible.\n",
    "* Include a legend and label your axes.\n",
    "* Comment on the results. Does your figure suggest that some age ranges are more or less likely to have survived the disaster than other ages? Fully explain your reasoning and use your figure to justify your conclusions.\n",
    "* If you noticed some relationship between age and likelihood of survival, what is one possible explanation?"
   ]
  },
  {
   "cell_type": "markdown",
   "metadata": {},
   "source": [
    "**SOURCES USED:**\n",
    "\n",
    "1 - (Frequency vs. Density) https://www.bbc.co.uk/bitesize/guides/zspfcwx/revision/1\n",
    "\n",
    "2 - (Plotting Histograms) https://stackoverflow.com/questions/6871201/plot-two-histograms-at-the-same-time-with-matplotlib"
   ]
  },
  {
   "cell_type": "code",
   "execution_count": 16,
   "metadata": {},
   "outputs": [
    {
     "data": {
      "image/png": "[encoded data removed]",
      "text/plain": [
       "<Figure size 864x432 with 1 Axes>"
      ]
     },
     "metadata": {
      "needs_background": "light"
     },
     "output_type": "display_data"
    }
   ],
   "source": [
    "#Again, first we specify the size of the chart that we want.\n",
    "fig, ax = plt.subplots(figsize=(12,6))\n",
    "#I used matplot lib to do this histogram, so I did plt.hist on our Titanic Dataframe, and set the different columns, setting density to True.\n",
    "plt.hist(dfTitanic.loc[dfTitanic[\"Survived\"]==1, \"Age\"],color=\"seagreen\", edgecolor=\"black\", bins=my_bins, alpha=0.5, label=\"Survived\", density=\"True\")\n",
    "#Here I plot the people who died, label it \"died\" and follow same format as above, but look for survived=0\n",
    "plt.hist(dfTitanic.loc[dfTitanic[\"Survived\"]==0, \"Age\"],color=\"coral\", edgecolor=\"black\", bins=my_bins, alpha=0.5, label=\"Died\", density=\"True\")\n",
    "ax.set_xlabel(\"Age\", fontsize=16) #x-axis label\n",
    "ax.grid(alpha=0.25) #transparency on grid marks\n",
    "ax.set_axisbelow(True) #grid marks below bar graph\n",
    "ax.set_ylabel(\"Density\", fontsize=16) #y-axis label\n",
    "ax.set_title(\"Age vs. Density (Titanic Passengers)\", fontsize=24) #Title of chart\n",
    "ax.legend(); #show the survived vs died"
   ]
  },
  {
   "cell_type": "markdown",
   "metadata": {},
   "source": [
    "**PART E (Solutions):**\n",
    "\n",
    "We can see in the histogram that folks in the age ranges of 15-30 had the best survival chances, as the survival bar there overcomes the death bar. It also then suggests that older people, past the age of 30, and the younger children did not have a high survival rate, with only small survival bars peaking up. But the amount by which it surpasses those who died is very, very small. The deaths were far, far larger in children, same with adults in their 30's."
   ]
  },
  {
   "cell_type": "markdown",
   "metadata": {},
   "source": [
    "**Part F:** In Part E, we plotted two *density* histograms, showing the distributions of ages of passengers that survived or did not survive the Titanic disaster. Why would it be misleading for us to have plotted these as *frequency* histograms instead?"
   ]
  },
  {
   "cell_type": "markdown",
   "metadata": {},
   "source": [
    "**PART F (Solutions):**\n",
    "\n",
    "The reason why it is misleading to plot these as frequencies is that there a lot more passengers who died than ones who survived. More than half of the total passengers passed away, leaving approximately 40% or so who didn't die. So that means that if we compared the two frequencies of the histograms, the frequency area for dead passengers would be bigger than the frequency for the living passengers."
   ]
  },
  {
   "cell_type": "markdown",
   "metadata": {},
   "source": [
    "**Part G**: Do the data suggest class warfare, male chivalry, or some combination of both characteristics in the final hours aboard the Titanic?  Justify your conclusion based on the computations done above, or do any other analysis that you like, but be sure to clearly justify your conclusion. "
   ]
  },
  {
   "cell_type": "markdown",
   "metadata": {},
   "source": [
    "**PART G (Solutions)**\n",
    "\n",
    "Because in the end more women ended up surviving, it does point strongly to there being Male Chivalry aboard the titanic, and the men were probably helping the women get to safety. Along with that, class distribution was much in favor of first class surviving more likely than the rest of the classes, so we definitely saw a trend with first class passengers having a higher survival rate. Therefore, the data does suggest a combination of Male Chivalry and Class Warfare."
   ]
  },
  {
   "cell_type": "markdown",
   "metadata": {},
   "source": [
    "[Back to top](#top)\n",
    "<a/ id='p5'></a>\n",
    "\n",
    "## (25 pts) Problem 5 (monthly patterns)\n",
    "***\n",
    "\n",
    "NOAA's Physical Sciences division (https://www.esrl.noaa.gov/psd) houses an enormous amount of weather data.  Load `hw1BoulderPPT.csv` from the course page for the last 100 years of monthly precipitation data from Boulder.\n",
    "\n",
    "#### a) When the amount of precipitation was nonzero but too small to be recorded, this data set recorded `tr`.  Replace these with zeroes."
   ]
  },
  {
   "cell_type": "markdown",
   "metadata": {},
   "source": [
    "**SOURCES USED**\n",
    "\n",
    "\n",
    "1 - (To Numeric Pandas) https://www.geeksforgeeks.org/python-pandas-to_numeric-method/\n",
    "\n",
    "2 - (Boxplots for Lists) https://stackoverflow.com/questions/40066648/boxplot-for-list-in-pandas-dataframe"
   ]
  },
  {
   "cell_type": "code",
   "execution_count": 17,
   "metadata": {},
   "outputs": [
    {
     "data": {
      "text/html": [
       "<div>\n",
       "<style scoped>\n",
       "    .dataframe tbody tr th:only-of-type {\n",
       "        vertical-align: middle;\n",
       "    }\n",
       "\n",
       "    .dataframe tbody tr th {\n",
       "        vertical-align: top;\n",
       "    }\n",
       "\n",
       "    .dataframe thead th {\n",
       "        text-align: right;\n",
       "    }\n",
       "</style>\n",
       "<table border=\"1\" class=\"dataframe\">\n",
       "  <thead>\n",
       "    <tr style=\"text-align: right;\">\n",
       "      <th></th>\n",
       "      <th>Year</th>\n",
       "      <th>JAN</th>\n",
       "      <th>FEB</th>\n",
       "      <th>MAR</th>\n",
       "      <th>APR</th>\n",
       "      <th>MAY</th>\n",
       "      <th>JUN</th>\n",
       "      <th>JUL</th>\n",
       "      <th>AUG</th>\n",
       "      <th>SEP</th>\n",
       "      <th>OCT</th>\n",
       "      <th>NOV</th>\n",
       "      <th>DEC</th>\n",
       "      <th>YEAR TOTAL</th>\n",
       "    </tr>\n",
       "  </thead>\n",
       "  <tbody>\n",
       "    <tr>\n",
       "      <th>0</th>\n",
       "      <td>1919</td>\n",
       "      <td>0</td>\n",
       "      <td>0.32</td>\n",
       "      <td>1.49</td>\n",
       "      <td>1.65</td>\n",
       "      <td>0.88</td>\n",
       "      <td>1.1</td>\n",
       "      <td>7.46</td>\n",
       "      <td>0.95</td>\n",
       "      <td>0.88</td>\n",
       "      <td>1.31</td>\n",
       "      <td>2.07</td>\n",
       "      <td>0.50</td>\n",
       "      <td>18.61</td>\n",
       "    </tr>\n",
       "    <tr>\n",
       "      <th>1</th>\n",
       "      <td>1920</td>\n",
       "      <td>1.22</td>\n",
       "      <td>1.39</td>\n",
       "      <td>0.58</td>\n",
       "      <td>4.07</td>\n",
       "      <td>1.61</td>\n",
       "      <td>1.87</td>\n",
       "      <td>0.68</td>\n",
       "      <td>2.55</td>\n",
       "      <td>0.73</td>\n",
       "      <td>2.43</td>\n",
       "      <td>0.72</td>\n",
       "      <td>0.85</td>\n",
       "      <td>18.70</td>\n",
       "    </tr>\n",
       "    <tr>\n",
       "      <th>2</th>\n",
       "      <td>1921</td>\n",
       "      <td>0.11</td>\n",
       "      <td>0.31</td>\n",
       "      <td>0.77</td>\n",
       "      <td>4.81</td>\n",
       "      <td>1.5</td>\n",
       "      <td>3.62</td>\n",
       "      <td>1.53</td>\n",
       "      <td>2.00</td>\n",
       "      <td>0.17</td>\n",
       "      <td>1.13</td>\n",
       "      <td>0.98</td>\n",
       "      <td>1.46</td>\n",
       "      <td>18.39</td>\n",
       "    </tr>\n",
       "    <tr>\n",
       "      <th>3</th>\n",
       "      <td>1922</td>\n",
       "      <td>0.63</td>\n",
       "      <td>0.59</td>\n",
       "      <td>0.81</td>\n",
       "      <td>3.32</td>\n",
       "      <td>1.02</td>\n",
       "      <td>0.62</td>\n",
       "      <td>1.04</td>\n",
       "      <td>1.50</td>\n",
       "      <td>Tr</td>\n",
       "      <td>1.13</td>\n",
       "      <td>2.58</td>\n",
       "      <td>0.56</td>\n",
       "      <td>13.80</td>\n",
       "    </tr>\n",
       "    <tr>\n",
       "      <th>4</th>\n",
       "      <td>1923</td>\n",
       "      <td>Tr</td>\n",
       "      <td>1.71</td>\n",
       "      <td>2.29</td>\n",
       "      <td>1.29</td>\n",
       "      <td>3.47</td>\n",
       "      <td>4.44</td>\n",
       "      <td>2.46</td>\n",
       "      <td>2.68</td>\n",
       "      <td>0.84</td>\n",
       "      <td>5.43</td>\n",
       "      <td>0.4</td>\n",
       "      <td>0.88</td>\n",
       "      <td>25.89</td>\n",
       "    </tr>\n",
       "  </tbody>\n",
       "</table>\n",
       "</div>"
      ],
      "text/plain": [
       "   Year   JAN   FEB   MAR   APR   MAY   JUN   JUL   AUG   SEP   OCT   NOV  \\\n",
       "0  1919     0  0.32  1.49  1.65  0.88   1.1  7.46  0.95  0.88  1.31  2.07   \n",
       "1  1920  1.22  1.39  0.58  4.07  1.61  1.87  0.68  2.55  0.73  2.43  0.72   \n",
       "2  1921  0.11  0.31  0.77  4.81   1.5  3.62  1.53  2.00  0.17  1.13  0.98   \n",
       "3  1922  0.63  0.59  0.81  3.32  1.02  0.62  1.04  1.50    Tr  1.13  2.58   \n",
       "4  1923    Tr  1.71  2.29  1.29  3.47  4.44  2.46  2.68  0.84  5.43   0.4   \n",
       "\n",
       "    DEC  YEAR TOTAL  \n",
       "0  0.50       18.61  \n",
       "1  0.85       18.70  \n",
       "2  1.46       18.39  \n",
       "3  0.56       13.80  \n",
       "4  0.88       25.89  "
      ]
     },
     "execution_count": 17,
     "metadata": {},
     "output_type": "execute_result"
    }
   ],
   "source": [
    "df = pd.read_csv(\"hw1BoulderPPT.csv\")\n",
    "df.head()"
   ]
  },
  {
   "cell_type": "code",
   "execution_count": 18,
   "metadata": {},
   "outputs": [
    {
     "name": "stdout",
     "output_type": "stream",
     "text": [
      "Index(['Year', 'JAN', 'FEB', 'MAR', 'APR', 'MAY', 'JUN', 'JUL', 'AUG', 'SEP',\n",
      "       'OCT', 'NOV', 'DEC', 'YEAR TOTAL'],\n",
      "      dtype='object')\n"
     ]
    }
   ],
   "source": [
    "print(df.columns) #Seeing column names."
   ]
  },
  {
   "cell_type": "code",
   "execution_count": 19,
   "metadata": {},
   "outputs": [
    {
     "data": {
      "text/html": [
       "<div>\n",
       "<style scoped>\n",
       "    .dataframe tbody tr th:only-of-type {\n",
       "        vertical-align: middle;\n",
       "    }\n",
       "\n",
       "    .dataframe tbody tr th {\n",
       "        vertical-align: top;\n",
       "    }\n",
       "\n",
       "    .dataframe thead th {\n",
       "        text-align: right;\n",
       "    }\n",
       "</style>\n",
       "<table border=\"1\" class=\"dataframe\">\n",
       "  <thead>\n",
       "    <tr style=\"text-align: right;\">\n",
       "      <th></th>\n",
       "      <th>Year</th>\n",
       "      <th>JAN</th>\n",
       "      <th>FEB</th>\n",
       "      <th>MAR</th>\n",
       "      <th>APR</th>\n",
       "      <th>MAY</th>\n",
       "      <th>JUN</th>\n",
       "      <th>JUL</th>\n",
       "      <th>AUG</th>\n",
       "      <th>SEP</th>\n",
       "      <th>OCT</th>\n",
       "      <th>NOV</th>\n",
       "      <th>DEC</th>\n",
       "      <th>YEAR TOTAL</th>\n",
       "    </tr>\n",
       "  </thead>\n",
       "  <tbody>\n",
       "    <tr>\n",
       "      <th>0</th>\n",
       "      <td>1919</td>\n",
       "      <td>0</td>\n",
       "      <td>0.32</td>\n",
       "      <td>1.49</td>\n",
       "      <td>1.65</td>\n",
       "      <td>0.88</td>\n",
       "      <td>1.1</td>\n",
       "      <td>7.46</td>\n",
       "      <td>0.95</td>\n",
       "      <td>0.88</td>\n",
       "      <td>1.31</td>\n",
       "      <td>2.07</td>\n",
       "      <td>0.50</td>\n",
       "      <td>18.61</td>\n",
       "    </tr>\n",
       "    <tr>\n",
       "      <th>1</th>\n",
       "      <td>1920</td>\n",
       "      <td>1.22</td>\n",
       "      <td>1.39</td>\n",
       "      <td>0.58</td>\n",
       "      <td>4.07</td>\n",
       "      <td>1.61</td>\n",
       "      <td>1.87</td>\n",
       "      <td>0.68</td>\n",
       "      <td>2.55</td>\n",
       "      <td>0.73</td>\n",
       "      <td>2.43</td>\n",
       "      <td>0.72</td>\n",
       "      <td>0.85</td>\n",
       "      <td>18.70</td>\n",
       "    </tr>\n",
       "    <tr>\n",
       "      <th>2</th>\n",
       "      <td>1921</td>\n",
       "      <td>0.11</td>\n",
       "      <td>0.31</td>\n",
       "      <td>0.77</td>\n",
       "      <td>4.81</td>\n",
       "      <td>1.5</td>\n",
       "      <td>3.62</td>\n",
       "      <td>1.53</td>\n",
       "      <td>2.00</td>\n",
       "      <td>0.17</td>\n",
       "      <td>1.13</td>\n",
       "      <td>0.98</td>\n",
       "      <td>1.46</td>\n",
       "      <td>18.39</td>\n",
       "    </tr>\n",
       "    <tr>\n",
       "      <th>3</th>\n",
       "      <td>1922</td>\n",
       "      <td>0.63</td>\n",
       "      <td>0.59</td>\n",
       "      <td>0.81</td>\n",
       "      <td>3.32</td>\n",
       "      <td>1.02</td>\n",
       "      <td>0.62</td>\n",
       "      <td>1.04</td>\n",
       "      <td>1.50</td>\n",
       "      <td>0</td>\n",
       "      <td>1.13</td>\n",
       "      <td>2.58</td>\n",
       "      <td>0.56</td>\n",
       "      <td>13.80</td>\n",
       "    </tr>\n",
       "    <tr>\n",
       "      <th>4</th>\n",
       "      <td>1923</td>\n",
       "      <td>0</td>\n",
       "      <td>1.71</td>\n",
       "      <td>2.29</td>\n",
       "      <td>1.29</td>\n",
       "      <td>3.47</td>\n",
       "      <td>4.44</td>\n",
       "      <td>2.46</td>\n",
       "      <td>2.68</td>\n",
       "      <td>0.84</td>\n",
       "      <td>5.43</td>\n",
       "      <td>0.4</td>\n",
       "      <td>0.88</td>\n",
       "      <td>25.89</td>\n",
       "    </tr>\n",
       "  </tbody>\n",
       "</table>\n",
       "</div>"
      ],
      "text/plain": [
       "   Year   JAN   FEB   MAR   APR   MAY   JUN   JUL   AUG   SEP   OCT   NOV  \\\n",
       "0  1919     0  0.32  1.49  1.65  0.88   1.1  7.46  0.95  0.88  1.31  2.07   \n",
       "1  1920  1.22  1.39  0.58  4.07  1.61  1.87  0.68  2.55  0.73  2.43  0.72   \n",
       "2  1921  0.11  0.31  0.77  4.81   1.5  3.62  1.53  2.00  0.17  1.13  0.98   \n",
       "3  1922  0.63  0.59  0.81  3.32  1.02  0.62  1.04  1.50     0  1.13  2.58   \n",
       "4  1923     0  1.71  2.29  1.29  3.47  4.44  2.46  2.68  0.84  5.43   0.4   \n",
       "\n",
       "    DEC  YEAR TOTAL  \n",
       "0  0.50       18.61  \n",
       "1  0.85       18.70  \n",
       "2  1.46       18.39  \n",
       "3  0.56       13.80  \n",
       "4  0.88       25.89  "
      ]
     },
     "execution_count": 19,
     "metadata": {},
     "output_type": "execute_result"
    }
   ],
   "source": [
    "dfNew=df.replace(\"Tr\", 0) #using replace function\n",
    "dfNew.head() #calling head to make sure \"Tr\" is now 0's, which it is!"
   ]
  },
  {
   "cell_type": "code",
   "execution_count": 20,
   "metadata": {},
   "outputs": [],
   "source": [
    "#Convert to Integers (all the numerical values in each months)\n",
    "dfNew['JAN'] = pd.to_numeric(dfNew['JAN'])\n",
    "dfNew['FEB'] = pd.to_numeric(dfNew['FEB'])\n",
    "dfNew['MAR'] = pd.to_numeric(dfNew['MAR'])\n",
    "dfNew['APR'] = pd.to_numeric(dfNew['APR'])\n",
    "dfNew['MAY'] = pd.to_numeric(dfNew['MAY'])\n",
    "dfNew['JUN'] = pd.to_numeric(dfNew['JUN'])\n",
    "dfNew['JUL'] = pd.to_numeric(dfNew['JUL'])\n",
    "dfNew['AUG'] = pd.to_numeric(dfNew['AUG'])\n",
    "dfNew['SEP'] = pd.to_numeric(dfNew['SEP'])\n",
    "dfNew['OCT'] = pd.to_numeric(dfNew['OCT'])\n",
    "dfNew['NOV'] = pd.to_numeric(dfNew['NOV'])\n",
    "dfNew['DEC'] = pd.to_numeric(dfNew['DEC'])"
   ]
  },
  {
   "cell_type": "markdown",
   "metadata": {},
   "source": [
    "#### b) Generate a series of 12 box plots with month as the x axis and precipitation on the y-axis."
   ]
  },
  {
   "cell_type": "code",
   "execution_count": 21,
   "metadata": {},
   "outputs": [
    {
     "data": {
      "image/png": "[encoded data removed]",
      "text/plain": [
       "<Figure size 864x432 with 1 Axes>"
      ]
     },
     "metadata": {
      "needs_background": "light"
     },
     "output_type": "display_data"
    }
   ],
   "source": [
    "#Figure Scaling\n",
    "fig, ax = plt.subplots(figsize=(12,6))\n",
    "#Plotting box plot, chopping the \"Year\" and \"Year total\" from our list with the array parsers.\n",
    "dfNew.boxplot(column=list(dfNew.columns.values)[1:-1]) #Will just show us information from JAN - DEC\n",
    "ax.set_xlabel(\"Month\", fontsize=14) #x-axis label\n",
    "ax.grid(alpha=0.25) #transparency on grid marks\n",
    "ax.set_axisbelow(True) #grid marks below bar graph\n",
    "ax.set_ylabel(\"Precipitation\", fontsize=14) #y-axis label\n",
    "ax.set_title(\"Precipitation for each Month\", fontsize=24) #Title of chart\n",
    "plt.show()"
   ]
  },
  {
   "cell_type": "markdown",
   "metadata": {},
   "source": [
    "\n",
    "#### c) Atmospheric scientists love to group months seasonally, breaking the year into a Winter season including December, January, February; a Spring included March, April, and May; and so forth. Generate a series of 4 box plots with season as the x axis and precipitation on the y-axis.  How does folding March-April-May into one variable change the mean and standard deviation compared to the data for just April?\n",
    "\n"
   ]
  },
  {
   "cell_type": "markdown",
   "metadata": {},
   "source": [
    "**SOURCES USED:**\n",
    "\n",
    "1 - (Boxplot Dataframes) https://stackoverflow.com/questions/40066648/boxplot-for-list-in-pandas-dataframe\n",
    "\n",
    "2 - (Boxplots from Lists) http://blog.bharatbhole.com/creating-boxplots-with-matplotlib/\n",
    "\n",
    "3 - (Lists in Python) https://www.digitalocean.com/community/tutorials/understanding-lists-in-python-3\n",
    "\n",
    "4 - (Dataframes to Lists) https://stackoverflow.com/questions/23748995/pandas-dataframe-column-to-list/42281585#42281585\n",
    "\n",
    "5 - (X-axis labels) https://stats.stackexchange.com/questions/3476/how-to-name-the-ticks-in-a-python-matplotlib-boxplot"
   ]
  },
  {
   "cell_type": "code",
   "execution_count": 22,
   "metadata": {},
   "outputs": [
    {
     "data": {
      "image/png": "[encoded data removed]",
      "text/plain": [
       "<Figure size 1008x504 with 1 Axes>"
      ]
     },
     "metadata": {
      "needs_background": "light"
     },
     "output_type": "display_data"
    }
   ],
   "source": [
    "#First, I will create 3 different lists for each column of the data frame, broken apart by months.\n",
    "#So the winter list will now contain a list of January, February, and December's data points all.\n",
    "Winter=list(dfNew['JAN'])\n",
    "#List for February Percipitation\n",
    "FebList=list(dfNew['FEB'])\n",
    "#List for December Precipitiation\n",
    "DecList=list(dfNew['DEC'])\n",
    "#I then append the FebList and The DecList to the January List (Winter) and now have one big list full of smaller \n",
    "#lists from Jan, Feb, and Dec.\n",
    "Winter.extend(FebList+DecList)\n",
    "\n",
    "#I do the same thing below for Spring, and I break columns of the Spring dataframe up into these lists.\n",
    "Spring=list(dfNew['MAR'])\n",
    "#List for April Precipitiation\n",
    "AprList=list(dfNew['APR'])\n",
    "#List for May Precipitiation\n",
    "MayList=list(dfNew['MAY'])\n",
    "#Again, append the two lists to the March List (Spring) and then have one big list of 3 little lists.\n",
    "Spring.extend(AprList+MayList)\n",
    "\n",
    "#Following same steps as above.\n",
    "Summer=list(dfNew['JUN'])\n",
    "JulList=list(dfNew['JUL'])\n",
    "AugList=list(dfNew['AUG'])\n",
    "Summer.extend(JulList+AugList)\n",
    "\n",
    "#Following same steps as above.\n",
    "Fall=list(dfNew['SEP'])\n",
    "OctList=list(dfNew['OCT'])\n",
    "NovList=list(dfNew['NOV'])\n",
    "Fall.extend(OctList+NovList)\n",
    "\n",
    "#Combining all the lists into one list.\n",
    "Seasons=[Winter,Spring,Summer,Fall]\n",
    "\n",
    "#plotting the Histogram\n",
    "fig, ax = plt.subplots(figsize=(14,7))\n",
    "#Make boxplot of seasons\n",
    "ax.boxplot(Seasons)\n",
    "ax.set_xlabel(\"Seasons\", fontsize=16)\n",
    "ax.set_ylabel(\"Precipitation\", fontsize=16)\n",
    "ax.set_title(\"Precpitiation per Season\", fontsize=24)\n",
    "ax.grid(alpha=0.25)\n",
    "ax.set_axisbelow(True)\n",
    "#Label the 4 different plots as the following...\n",
    "plt.xticks([1, 2, 3, 4], ['Winter', 'Spring', 'Summer', 'Fall'])\n",
    "plt.show()"
   ]
  },
  {
   "cell_type": "code",
   "execution_count": 23,
   "metadata": {},
   "outputs": [
    {
     "name": "stdout",
     "output_type": "stream",
     "text": [
      "Mean for Spring Season is...2.4858666666666664\n",
      "Mean for just April is...2.6217999999999995\n",
      "--------------------\n",
      "Standard Deviation for Spring Season is....1.674248562456868\n",
      "Standard Deviation for April is...1.6313554977380007\n"
     ]
    }
   ],
   "source": [
    "#Mean for Season\n",
    "SpringMean=np.mean(Spring)\n",
    "print(\"Mean for Spring Season is...{}\".format(SpringMean))\n",
    "#Mean for just April\n",
    "AprilMean=np.mean(AprList)\n",
    "print(\"Mean for just April is...{}\".format(AprilMean))\n",
    "\n",
    "print('--------------------')\n",
    "\n",
    "#Standard Deviation for Season\n",
    "SpringStandardDev=np.std(Spring)\n",
    "print(\"Standard Deviation for Spring Season is....{}\".format(SpringStandardDev))\n",
    "AprilStandardDev=np.std(AprList)\n",
    "print(\"Standard Deviation for April is...{}\".format(AprilStandardDev))"
   ]
  },
  {
   "cell_type": "markdown",
   "metadata": {},
   "source": [
    "**PART C (Solutions):**\n",
    "\n",
    "The standard deviation for April and the Spring Season is about the same, with a small difference to a hundreth decimal point, because there is not too wide a spread between precipitations in the three months. Whereas the mean for April is bigger than the overall mean for the Spring Season. This is likely because April did have a lot more precipitation than March, and March could have brought down the total average precipitation."
   ]
  },
  {
   "cell_type": "markdown",
   "metadata": {},
   "source": [
    "#### d) Create a density histogram of the September precipitation.  Classify and describe this histogram.  Find the data point associated with September, 2013, and recreate your histogram with that value in a different color or otherwise clearly marked."
   ]
  },
  {
   "cell_type": "markdown",
   "metadata": {},
   "source": [
    "**SOURCES USED:**\n",
    "\n",
    "1 - (Patches) https://matplotlib.org/3.1.1/api/_as_gen/matplotlib.patches.Patch.html"
   ]
  },
  {
   "cell_type": "code",
   "execution_count": 24,
   "metadata": {},
   "outputs": [
    {
     "data": {
      "image/png": "[encoded data removed]",
      "text/plain": [
       "<Figure size 864x432 with 1 Axes>"
      ]
     },
     "metadata": {
      "needs_background": "light"
     },
     "output_type": "display_data"
    }
   ],
   "source": [
    "fig, ax = plt.subplots(figsize=(12,6)) #makes the bar chart larger or smaller. For scaling purposes.\n",
    "ax.grid(alpha=0.4) #Makes the gridlines lighter or darker, the lower the alpha, the lighter the gridlines\n",
    "ax.set_axisbelow(True) #Puts the gridlines behind the bar chart so it doesn't interfere with results.\n",
    "#Plotting hist of all September Precipitation values greater than 1919 (thats where the data starts)\n",
    "p=plt.hist(dfNew.loc[dfNew[\"Year\"]>=1919,\"SEP\"],color=\"blue\", edgecolor=\"black\", alpha=0.5, density=True)\n",
    "#print(p)\n",
    "#Uses patches, here we set p with some bin parameters, indicating last bin with the [-1] because we know september\n",
    "#2013 precipitation would be in last bin.\n",
    "p[2][-1].set_color('g')\n",
    "ax.set_title(\"September Precipitation\", fontsize=25) #Helps set the title of the bar chart.\n",
    "ax.set_xlabel(\"Precipitation\", fontsize=18) #Our label on the x axis will be Age.\n",
    "ax.set_ylabel(\"Density\", fontsize=18) #Our label on the y axis will be # of Passengers.\n",
    "plt.show()"
   ]
  },
  {
   "cell_type": "markdown",
   "metadata": {},
   "source": [
    "#### e) Calculute the mean and standard deviation of the September precipitation in this set.  Create a Tukey 5 number summary of the September precipitation.  What are a couple of advantages and disadvantages of these numerical summaries compared to each other on this subset of the data?  Why?"
   ]
  },
  {
   "cell_type": "markdown",
   "metadata": {},
   "source": [
    "**SOURCES USED:**\n",
    "\n",
    "1 - (Percentile Function) https://www.geeksforgeeks.org/numpy-percentile-in-python/"
   ]
  },
  {
   "cell_type": "code",
   "execution_count": 25,
   "metadata": {},
   "outputs": [
    {
     "name": "stdout",
     "output_type": "stream",
     "text": [
      "Mean for September Precipitation is...1.6581999999999997\n",
      "--------------------\n",
      "Standard Deviation for September Precipitation is...2.0695973257880604\n",
      "--------------------\n",
      "5-Number Summary: Minval: 0.00    Q1: 0.56    Q2: 1.17    Q3: 2.23    Maxval: 18.16\n"
     ]
    }
   ],
   "source": [
    "#Mean for September\n",
    "sep_mean=dfNew[\"SEP\"].mean()\n",
    "print(\"Mean for September Precipitation is...{}\".format(sep_mean))\n",
    "print('--------------------')\n",
    "#Standard Dev for September\n",
    "sep_stdDev=dfNew[\"SEP\"].std()\n",
    "print(\"Standard Deviation for September Precipitation is...{}\".format(sep_stdDev))\n",
    "#Five Number Summary for September\n",
    "minval = dfNew[\"SEP\"].min()\n",
    "maxval = dfNew[\"SEP\"].max()\n",
    "#Using percentile function and specifying what half of the data to look at.\n",
    "Q1 = np.percentile(dfNew[\"SEP\"], 25)\n",
    "#Grabs Median\n",
    "Q2 = np.percentile(dfNew[\"SEP\"], 50)\n",
    "#3rd Quartile\n",
    "Q3 = np.percentile(dfNew[\"SEP\"], 75)\n",
    "print('--------------------')\n",
    "print(\"5-Number Summary: Minval: {:.2f}    Q1: {:.2f}    Q2: {:.2f}    Q3: {:.2f}    Maxval: {:.2f}\".format(minval, Q1, Q2, Q3, maxval))"
   ]
  },
  {
   "cell_type": "markdown",
   "metadata": {},
   "source": [
    "**SOURCES USED:**\n",
    "\n",
    "1 - (Benefits of Standard Dev) https://www.quora.com/What-are-the-advantages-of-standard-deviation\n",
    "\n",
    "2 - (Five Number Summaries) https://sciencing.com/calculate-normalized-curve-8701703.html"
   ]
  },
  {
   "cell_type": "markdown",
   "metadata": {},
   "source": [
    "**Mean and Standard Deviation**\n",
    "\n",
    "| Advantages | Disadvantages |\n",
    "| --- | --- |\n",
    "| Shows you a general trend within the data | You can't formulate much about outliers |\n",
    "| Show you the general spread of the data | Doesn't allow you to see more information in the data |\n",
    "\n",
    "**Tukey 5-Number**\n",
    "\n",
    "| Advantages | Disadvantages |\n",
    "| --- | --- |\n",
    "| Gives you location and range of data | They don't keep the exact approximate data values |\n",
    "| Gives the spread of the data | Don't get thorough analysis of data (like histogram would give) |"
   ]
  },
  {
   "cell_type": "markdown",
   "metadata": {},
   "source": [
    "[Back to top](#top)\n",
    "<a/ id='p6'></a>\n",
    "\n",
    "## (25 pts) Problem 6\n",
    "***\n",
    "In problem 3, we generated an interesting theoretical result and then verified how it worked on a given data set.  Sometimes it's easier to just see what happens on a variety of data than manipulate sums directly!  Consider the following 3 data sets:\n",
    "\n",
    "`A=[0,1,2,3,4,5,6,7,8,9]`\n",
    "\n",
    "`B=[0,0,0,12,7,18,47,25,0,13]`\n",
    "\n",
    "`C` is the random data set generated by using `np.random.randint(0,1000, size=100)`\n",
    "\n",
    "For each data set, perform the following computations:\n",
    "#### a) Compute and print the mean and standard deviation of the data set.\n"
   ]
  },
  {
   "cell_type": "code",
   "execution_count": 26,
   "metadata": {},
   "outputs": [
    {
     "name": "stdout",
     "output_type": "stream",
     "text": [
      "Mean for A is...\n",
      "4.5\n",
      "Standard Deviation for A is...\n",
      "2.8722813232690143\n",
      "----------------\n",
      "Mean for B is...\n",
      "12.2\n",
      "Standard Deviation for B is...\n",
      "14.253420642077465\n",
      "----------------\n",
      "Mean for C is...\n",
      "510.42\n",
      "Standard Deviation for C is...\n",
      "281.2384106056639\n"
     ]
    }
   ],
   "source": [
    "A=np.array([0,1,2,3,4,5,6,7,8,9])\n",
    "B=np.array([0,0,0,12,7,18,47,25,0,13])\n",
    "C=np.random.randint(0,1000, size=100)\n",
    "print('Mean for A is...')\n",
    "print(np.mean(A))\n",
    "print('Standard Deviation for A is...')\n",
    "print(np.std(A))\n",
    "print(\"----------------\")\n",
    "print('Mean for B is...')\n",
    "print(np.mean(B))\n",
    "print('Standard Deviation for B is...')\n",
    "print(np.std(B))\n",
    "print(\"----------------\")\n",
    "print('Mean for C is...')\n",
    "print(np.mean(C))\n",
    "print('Standard Deviation for C is...')\n",
    "print(np.std(C))"
   ]
  },
  {
   "cell_type": "markdown",
   "metadata": {},
   "source": [
    "\n",
    "#### b) Compute and print  the mean and standard deviation of the new data set formed by subtracting the original mean from each observation.\n"
   ]
  },
  {
   "cell_type": "code",
   "execution_count": 27,
   "metadata": {},
   "outputs": [
    {
     "name": "stdout",
     "output_type": "stream",
     "text": [
      "New Mean for A is...\n",
      "0.0\n",
      "New Standard Deviation for A is...\n",
      "2.8722813232690143\n",
      "----------------\n",
      "New Mean for B is...\n",
      "0.0\n",
      "New Standard Deviation for B is...\n",
      "14.253420642077465\n",
      "----------------\n",
      "New Mean for C is...\n",
      "-2.3874235921539365e-14\n",
      "New Standard Deviation for C is...\n",
      "281.2384106056639\n"
     ]
    }
   ],
   "source": [
    "A_new=A-(np.mean(A))\n",
    "B_new=B-(np.mean(B))\n",
    "C_new=C-(np.mean(C))\n",
    "\n",
    "print('New Mean for A is...')\n",
    "print(np.mean(A_new))\n",
    "print('New Standard Deviation for A is...')\n",
    "print(np.std(A_new))\n",
    "print(\"----------------\")\n",
    "print('New Mean for B is...')\n",
    "print(np.mean(B_new))\n",
    "print('New Standard Deviation for B is...')\n",
    "print(np.std(B_new))\n",
    "print(\"----------------\")\n",
    "print('New Mean for C is...')\n",
    "print(np.mean(C_new))\n",
    "print('New Standard Deviation for C is...')\n",
    "print(np.std(C_new))"
   ]
  },
  {
   "cell_type": "markdown",
   "metadata": {},
   "source": [
    "\n",
    "#### c) Compute and print  the mean and standard deviation of the new data set formed by subtracting the original mean from each observation and then dividing by the original standard deviation.\n",
    "\n"
   ]
  },
  {
   "cell_type": "code",
   "execution_count": 28,
   "metadata": {},
   "outputs": [
    {
     "name": "stdout",
     "output_type": "stream",
     "text": [
      "Newest Mean for A is...\n",
      "-6.661338147750939e-17\n",
      "Newest Standard Deviation for A is...\n",
      "1.0\n",
      "----------------\n",
      "Newest Mean for B is...\n",
      "-5.551115123125783e-18\n",
      "Newest Standard Deviation for B is...\n",
      "1.0\n",
      "----------------\n",
      "Newest Mean for C is...\n",
      "-5.717648576819556e-17\n",
      "Newest Standard Deviation for C is...\n",
      "1.0\n"
     ]
    }
   ],
   "source": [
    "A_new_new=(A_new/(np.std(A)))\n",
    "B_new_new=(B_new/(np.std(B)))\n",
    "C_new_new=(C_new/(np.std(C)))\n",
    "print('Newest Mean for A is...')\n",
    "print(np.mean(A_new_new))\n",
    "print('Newest Standard Deviation for A is...')\n",
    "print(np.std(A_new_new))\n",
    "print(\"----------------\")\n",
    "print('Newest Mean for B is...')\n",
    "print(np.mean(B_new_new))\n",
    "print('Newest Standard Deviation for B is...')\n",
    "print(np.std(B_new_new))\n",
    "print(\"----------------\")\n",
    "print('Newest Mean for C is...')\n",
    "print(np.mean(C_new_new))\n",
    "print('Newest Standard Deviation for C is...')\n",
    "print(np.std(C_new_new))"
   ]
  },
  {
   "cell_type": "markdown",
   "metadata": {},
   "source": [
    "**CODE EXPLANATION/RESULTS**\n",
    "\n",
    "The following results above have weird floating point rounding errors, but the means are all supposed to be 0, python just has weird rounding errors, and the standard deviation is supposed to increase."
   ]
  },
  {
   "cell_type": "markdown",
   "metadata": {},
   "source": [
    "#### d) Why might this result matter?"
   ]
  },
  {
   "cell_type": "markdown",
   "metadata": {},
   "source": [
    "**Part d) Solution**\n",
    "\n",
    "This result matters because we see what makes our standard deviation stay approximately the same throughout each testcase. The new array A's standard deviation is 1, same with B's and C's. It gives us a way to see how we can change the standard deviation (if we scale the data up it goes up) if we scale it down, it goes down, here we saw how the standard deviation is able to remain unchanged. It helped me to understand that the Mean is what moves the data, whereas the Standard Deviation is what spreads the data."
   ]
  },
  {
   "cell_type": "code",
   "execution_count": null,
   "metadata": {},
   "outputs": [],
   "source": []
  }
 ],
 "metadata": {
  "kernelspec": {
   "display_name": "Python 3",
   "language": "python",
   "name": "python3"
  },
  "language_info": {
   "codemirror_mode": {
    "name": "ipython",
    "version": 3
   },
   "file_extension": ".py",
   "mimetype": "text/x-python",
   "name": "python",
   "nbconvert_exporter": "python",
   "pygments_lexer": "ipython3",
   "version": "3.7.3"
  }
 },
 "nbformat": 4,
 "nbformat_minor": 2
}
